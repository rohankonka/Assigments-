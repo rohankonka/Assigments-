{
 "cells": [
  {
   "cell_type": "code",
   "execution_count": 1,
   "id": "9664553d",
   "metadata": {
    "ExecuteTime": {
     "end_time": "2023-01-24T16:46:53.591645Z",
     "start_time": "2023-01-24T16:46:50.465638Z"
    }
   },
   "outputs": [],
   "source": [
    "import numpy as np\n",
    "import pandas as pd\n",
    "import seaborn as sns\n",
    "import matplotlib.pyplot as plt\n",
    "import statsmodels.graphics.tsaplots as tsa_plots\n",
    "\n",
    "from pandas import Grouper\n",
    "from statsmodels.tsa.seasonal import seasonal_decompose\n",
    "import statsmodels.formula.api as smf\n",
    "\n",
    "import warnings\n",
    "warnings.filterwarnings('ignore')"
   ]
  },
  {
   "cell_type": "code",
   "execution_count": 2,
   "id": "ca271d85",
   "metadata": {
    "ExecuteTime": {
     "end_time": "2023-01-24T16:47:29.946331Z",
     "start_time": "2023-01-24T16:47:29.906331Z"
    }
   },
   "outputs": [
    {
     "data": {
      "text/html": [
       "<div>\n",
       "<style scoped>\n",
       "    .dataframe tbody tr th:only-of-type {\n",
       "        vertical-align: middle;\n",
       "    }\n",
       "\n",
       "    .dataframe tbody tr th {\n",
       "        vertical-align: top;\n",
       "    }\n",
       "\n",
       "    .dataframe thead th {\n",
       "        text-align: right;\n",
       "    }\n",
       "</style>\n",
       "<table border=\"1\" class=\"dataframe\">\n",
       "  <thead>\n",
       "    <tr style=\"text-align: right;\">\n",
       "      <th></th>\n",
       "      <th>Quarter</th>\n",
       "      <th>Sales</th>\n",
       "    </tr>\n",
       "  </thead>\n",
       "  <tbody>\n",
       "    <tr>\n",
       "      <th>0</th>\n",
       "      <td>Q1_86</td>\n",
       "      <td>1734.827000</td>\n",
       "    </tr>\n",
       "    <tr>\n",
       "      <th>1</th>\n",
       "      <td>Q2_86</td>\n",
       "      <td>2244.960999</td>\n",
       "    </tr>\n",
       "    <tr>\n",
       "      <th>2</th>\n",
       "      <td>Q3_86</td>\n",
       "      <td>2533.804993</td>\n",
       "    </tr>\n",
       "    <tr>\n",
       "      <th>3</th>\n",
       "      <td>Q4_86</td>\n",
       "      <td>2154.962997</td>\n",
       "    </tr>\n",
       "    <tr>\n",
       "      <th>4</th>\n",
       "      <td>Q1_87</td>\n",
       "      <td>1547.818996</td>\n",
       "    </tr>\n",
       "  </tbody>\n",
       "</table>\n",
       "</div>"
      ],
      "text/plain": [
       "  Quarter        Sales\n",
       "0   Q1_86  1734.827000\n",
       "1   Q2_86  2244.960999\n",
       "2   Q3_86  2533.804993\n",
       "3   Q4_86  2154.962997\n",
       "4   Q1_87  1547.818996"
      ]
     },
     "execution_count": 2,
     "metadata": {},
     "output_type": "execute_result"
    }
   ],
   "source": [
    "data = pd.read_csv(\"CocaCola_Sales_Rawdata (1).csv\")\n",
    "data.head()"
   ]
  },
  {
   "cell_type": "code",
   "execution_count": 3,
   "id": "d3ca3dab",
   "metadata": {
    "ExecuteTime": {
     "end_time": "2023-01-24T16:47:31.582789Z",
     "start_time": "2023-01-24T16:47:31.550413Z"
    }
   },
   "outputs": [
    {
     "data": {
      "text/html": [
       "<div>\n",
       "<style scoped>\n",
       "    .dataframe tbody tr th:only-of-type {\n",
       "        vertical-align: middle;\n",
       "    }\n",
       "\n",
       "    .dataframe tbody tr th {\n",
       "        vertical-align: top;\n",
       "    }\n",
       "\n",
       "    .dataframe thead th {\n",
       "        text-align: right;\n",
       "    }\n",
       "</style>\n",
       "<table border=\"1\" class=\"dataframe\">\n",
       "  <thead>\n",
       "    <tr style=\"text-align: right;\">\n",
       "      <th></th>\n",
       "      <th>Quarter</th>\n",
       "      <th>Sales</th>\n",
       "      <th>quater</th>\n",
       "    </tr>\n",
       "  </thead>\n",
       "  <tbody>\n",
       "    <tr>\n",
       "      <th>0</th>\n",
       "      <td>Q1_86</td>\n",
       "      <td>1734.827000</td>\n",
       "      <td>Jan-1986</td>\n",
       "    </tr>\n",
       "    <tr>\n",
       "      <th>1</th>\n",
       "      <td>Q2_86</td>\n",
       "      <td>2244.960999</td>\n",
       "      <td>Apr-1986</td>\n",
       "    </tr>\n",
       "    <tr>\n",
       "      <th>2</th>\n",
       "      <td>Q3_86</td>\n",
       "      <td>2533.804993</td>\n",
       "      <td>Jul-1986</td>\n",
       "    </tr>\n",
       "    <tr>\n",
       "      <th>3</th>\n",
       "      <td>Q4_86</td>\n",
       "      <td>2154.962997</td>\n",
       "      <td>Oct-1986</td>\n",
       "    </tr>\n",
       "    <tr>\n",
       "      <th>4</th>\n",
       "      <td>Q1_87</td>\n",
       "      <td>1547.818996</td>\n",
       "      <td>Jan-1987</td>\n",
       "    </tr>\n",
       "  </tbody>\n",
       "</table>\n",
       "</div>"
      ],
      "text/plain": [
       "  Quarter        Sales    quater\n",
       "0   Q1_86  1734.827000  Jan-1986\n",
       "1   Q2_86  2244.960999  Apr-1986\n",
       "2   Q3_86  2533.804993  Jul-1986\n",
       "3   Q4_86  2154.962997  Oct-1986\n",
       "4   Q1_87  1547.818996  Jan-1987"
      ]
     },
     "execution_count": 3,
     "metadata": {},
     "output_type": "execute_result"
    }
   ],
   "source": [
    "temp = data.Quarter.str.replace(r'(Q\\d)_(\\d+)', r'19\\2-\\1')\n",
    "data['quater'] = pd.to_datetime(temp).dt.strftime('%b-%Y')\n",
    "data.head()"
   ]
  },
  {
   "cell_type": "code",
   "execution_count": 4,
   "id": "f8b744ea",
   "metadata": {
    "ExecuteTime": {
     "end_time": "2023-01-24T16:47:32.582167Z",
     "start_time": "2023-01-24T16:47:32.557828Z"
    }
   },
   "outputs": [
    {
     "data": {
      "text/html": [
       "<div>\n",
       "<style scoped>\n",
       "    .dataframe tbody tr th:only-of-type {\n",
       "        vertical-align: middle;\n",
       "    }\n",
       "\n",
       "    .dataframe tbody tr th {\n",
       "        vertical-align: top;\n",
       "    }\n",
       "\n",
       "    .dataframe thead th {\n",
       "        text-align: right;\n",
       "    }\n",
       "</style>\n",
       "<table border=\"1\" class=\"dataframe\">\n",
       "  <thead>\n",
       "    <tr style=\"text-align: right;\">\n",
       "      <th></th>\n",
       "      <th>quater</th>\n",
       "      <th>Sales</th>\n",
       "    </tr>\n",
       "  </thead>\n",
       "  <tbody>\n",
       "    <tr>\n",
       "      <th>0</th>\n",
       "      <td>Jan-1986</td>\n",
       "      <td>1734.827000</td>\n",
       "    </tr>\n",
       "    <tr>\n",
       "      <th>1</th>\n",
       "      <td>Apr-1986</td>\n",
       "      <td>2244.960999</td>\n",
       "    </tr>\n",
       "    <tr>\n",
       "      <th>2</th>\n",
       "      <td>Jul-1986</td>\n",
       "      <td>2533.804993</td>\n",
       "    </tr>\n",
       "    <tr>\n",
       "      <th>3</th>\n",
       "      <td>Oct-1986</td>\n",
       "      <td>2154.962997</td>\n",
       "    </tr>\n",
       "    <tr>\n",
       "      <th>4</th>\n",
       "      <td>Jan-1987</td>\n",
       "      <td>1547.818996</td>\n",
       "    </tr>\n",
       "  </tbody>\n",
       "</table>\n",
       "</div>"
      ],
      "text/plain": [
       "     quater        Sales\n",
       "0  Jan-1986  1734.827000\n",
       "1  Apr-1986  2244.960999\n",
       "2  Jul-1986  2533.804993\n",
       "3  Oct-1986  2154.962997\n",
       "4  Jan-1987  1547.818996"
      ]
     },
     "execution_count": 4,
     "metadata": {},
     "output_type": "execute_result"
    }
   ],
   "source": [
    "data1 = data[[\"quater\", \"Sales\"]]\n",
    "data1.head()"
   ]
  },
  {
   "cell_type": "markdown",
   "id": "d7b1c2f5",
   "metadata": {},
   "source": [
    "### EDA"
   ]
  },
  {
   "cell_type": "code",
   "execution_count": 5,
   "id": "1aac368c",
   "metadata": {
    "ExecuteTime": {
     "end_time": "2023-01-24T16:47:34.520669Z",
     "start_time": "2023-01-24T16:47:34.487598Z"
    }
   },
   "outputs": [
    {
     "name": "stdout",
     "output_type": "stream",
     "text": [
      "<class 'pandas.core.frame.DataFrame'>\n",
      "RangeIndex: 42 entries, 0 to 41\n",
      "Data columns (total 2 columns):\n",
      " #   Column  Non-Null Count  Dtype  \n",
      "---  ------  --------------  -----  \n",
      " 0   quater  42 non-null     object \n",
      " 1   Sales   42 non-null     float64\n",
      "dtypes: float64(1), object(1)\n",
      "memory usage: 800.0+ bytes\n"
     ]
    }
   ],
   "source": [
    "data1.info()"
   ]
  },
  {
   "cell_type": "code",
   "execution_count": 6,
   "id": "65b5a6a1",
   "metadata": {
    "ExecuteTime": {
     "end_time": "2023-01-24T16:47:35.147898Z",
     "start_time": "2023-01-24T16:47:35.123550Z"
    }
   },
   "outputs": [
    {
     "data": {
      "text/plain": [
       "quater    0\n",
       "Sales     0\n",
       "dtype: int64"
      ]
     },
     "execution_count": 6,
     "metadata": {},
     "output_type": "execute_result"
    }
   ],
   "source": [
    "data1.isna().sum()"
   ]
  },
  {
   "cell_type": "code",
   "execution_count": 7,
   "id": "f1aa8bbc",
   "metadata": {
    "ExecuteTime": {
     "end_time": "2023-01-24T16:47:35.649108Z",
     "start_time": "2023-01-24T16:47:35.633185Z"
    }
   },
   "outputs": [
    {
     "data": {
      "text/plain": [
       "(0, 2)"
      ]
     },
     "execution_count": 7,
     "metadata": {},
     "output_type": "execute_result"
    }
   ],
   "source": [
    "data1[data1.duplicated()].shape"
   ]
  },
  {
   "cell_type": "code",
   "execution_count": 8,
   "id": "5186fbe8",
   "metadata": {
    "ExecuteTime": {
     "end_time": "2023-01-24T16:47:36.230826Z",
     "start_time": "2023-01-24T16:47:36.190172Z"
    }
   },
   "outputs": [
    {
     "data": {
      "text/html": [
       "<div>\n",
       "<style scoped>\n",
       "    .dataframe tbody tr th:only-of-type {\n",
       "        vertical-align: middle;\n",
       "    }\n",
       "\n",
       "    .dataframe tbody tr th {\n",
       "        vertical-align: top;\n",
       "    }\n",
       "\n",
       "    .dataframe thead th {\n",
       "        text-align: right;\n",
       "    }\n",
       "</style>\n",
       "<table border=\"1\" class=\"dataframe\">\n",
       "  <thead>\n",
       "    <tr style=\"text-align: right;\">\n",
       "      <th></th>\n",
       "      <th>count</th>\n",
       "      <th>mean</th>\n",
       "      <th>std</th>\n",
       "      <th>min</th>\n",
       "      <th>25%</th>\n",
       "      <th>50%</th>\n",
       "      <th>75%</th>\n",
       "      <th>max</th>\n",
       "    </tr>\n",
       "  </thead>\n",
       "  <tbody>\n",
       "    <tr>\n",
       "      <th>Sales</th>\n",
       "      <td>42.0</td>\n",
       "      <td>2994.353308</td>\n",
       "      <td>977.930896</td>\n",
       "      <td>1547.818996</td>\n",
       "      <td>2159.714247</td>\n",
       "      <td>2782.376999</td>\n",
       "      <td>3609.25</td>\n",
       "      <td>5253.0</td>\n",
       "    </tr>\n",
       "  </tbody>\n",
       "</table>\n",
       "</div>"
      ],
      "text/plain": [
       "       count         mean         std          min          25%          50%  \\\n",
       "Sales   42.0  2994.353308  977.930896  1547.818996  2159.714247  2782.376999   \n",
       "\n",
       "           75%     max  \n",
       "Sales  3609.25  5253.0  "
      ]
     },
     "execution_count": 8,
     "metadata": {},
     "output_type": "execute_result"
    }
   ],
   "source": [
    "data1.describe().T"
   ]
  },
  {
   "cell_type": "code",
   "execution_count": 9,
   "id": "42a2bd5e",
   "metadata": {
    "ExecuteTime": {
     "end_time": "2023-01-24T16:47:36.954953Z",
     "start_time": "2023-01-24T16:47:36.692155Z"
    }
   },
   "outputs": [
    {
     "data": {
      "image/png": "[encoded data removed]",
      "text/plain": [
       "<Figure size 640x480 with 1 Axes>"
      ]
     },
     "metadata": {},
     "output_type": "display_data"
    }
   ],
   "source": [
    "data1.plot()\n",
    "plt.show()"
   ]
  },
  {
   "cell_type": "code",
   "execution_count": 10,
   "id": "61524e8c",
   "metadata": {
    "ExecuteTime": {
     "end_time": "2023-01-24T16:47:37.716400Z",
     "start_time": "2023-01-24T16:47:37.514654Z"
    }
   },
   "outputs": [
    {
     "data": {
      "image/png": "[encoded data removed]",
      "text/plain": [
       "<Figure size 640x480 with 1 Axes>"
      ]
     },
     "metadata": {},
     "output_type": "display_data"
    }
   ],
   "source": [
    "data1.hist()\n",
    "plt.show()"
   ]
  },
  {
   "cell_type": "code",
   "execution_count": 11,
   "id": "dd28dbc5",
   "metadata": {
    "ExecuteTime": {
     "end_time": "2023-01-24T16:47:38.427327Z",
     "start_time": "2023-01-24T16:47:38.115380Z"
    }
   },
   "outputs": [
    {
     "data": {
      "image/png": "[encoded data removed]",
      "text/plain": [
       "<Figure size 640x480 with 1 Axes>"
      ]
     },
     "metadata": {},
     "output_type": "display_data"
    }
   ],
   "source": [
    "data1.plot(kind=\"kde\")\n",
    "plt.show()"
   ]
  },
  {
   "cell_type": "markdown",
   "id": "ff573ded",
   "metadata": {},
   "source": [
    "### Moving Average"
   ]
  },
  {
   "cell_type": "code",
   "execution_count": 12,
   "id": "9c283fb3",
   "metadata": {
    "ExecuteTime": {
     "end_time": "2023-01-24T16:47:40.090783Z",
     "start_time": "2023-01-24T16:47:39.730743Z"
    }
   },
   "outputs": [
    {
     "data": {
      "text/plain": [
       "<matplotlib.legend.Legend at 0x1f51d761e20>"
      ]
     },
     "execution_count": 12,
     "metadata": {},
     "output_type": "execute_result"
    },
    {
     "data": {
      "image/png": "[encoded data removed]",
      "text/plain": [
       "<Figure size 1400x800 with 1 Axes>"
      ]
     },
     "metadata": {},
     "output_type": "display_data"
    }
   ],
   "source": [
    "plt.figure(figsize=(14, 8))\n",
    "data1.Sales.plot(label=\"org\")\n",
    "for i in range(2, 20, 4):\n",
    "    data1[\"Sales\"].rolling(i).mean().plot(label=str(i))\n",
    "plt.legend(loc=\"best\")"
   ]
  },
  {
   "cell_type": "markdown",
   "id": "65de772b",
   "metadata": {},
   "source": [
    "### Time series decomposition plot"
   ]
  },
  {
   "cell_type": "code",
   "execution_count": 13,
   "id": "e55bdf0b",
   "metadata": {
    "ExecuteTime": {
     "end_time": "2023-01-24T16:47:41.441321Z",
     "start_time": "2023-01-24T16:47:40.901549Z"
    }
   },
   "outputs": [
    {
     "data": {
      "image/png": "[encoded data removed]",
      "text/plain": [
       "<Figure size 640x480 with 4 Axes>"
      ]
     },
     "metadata": {},
     "output_type": "display_data"
    }
   ],
   "source": [
    "decompose_ts_add = seasonal_decompose(data1.Sales,period=12, model=\"multiplicative\")\n",
    "decompose_ts_add.plot()\n",
    "plt.show()"
   ]
  },
  {
   "cell_type": "markdown",
   "id": "73d0a302",
   "metadata": {},
   "source": [
    "### ACF plots and PACF plots"
   ]
  },
  {
   "cell_type": "code",
   "execution_count": 14,
   "id": "2385eb86",
   "metadata": {
    "ExecuteTime": {
     "end_time": "2023-01-24T16:47:42.448132Z",
     "start_time": "2023-01-24T16:47:42.066607Z"
    }
   },
   "outputs": [
    {
     "data": {
      "image/png": "[encoded data removed]",
      "text/plain": [
       "<Figure size 640x480 with 1 Axes>"
      ]
     },
     "metadata": {},
     "output_type": "display_data"
    },
    {
     "data": {
      "image/png": "[encoded data removed]",
      "text/plain": [
       "<Figure size 640x480 with 1 Axes>"
      ]
     },
     "metadata": {},
     "output_type": "display_data"
    }
   ],
   "source": [
    "tsa_plots.plot_acf(data1.Sales,lags=12)\n",
    "tsa_plots.plot_pacf(data1.Sales,lags=12)\n",
    "plt.show()"
   ]
  },
  {
   "cell_type": "markdown",
   "id": "955b7e14",
   "metadata": {},
   "source": [
    "### Data preprocessing"
   ]
  },
  {
   "cell_type": "code",
   "execution_count": 15,
   "id": "3ea7889b",
   "metadata": {
    "ExecuteTime": {
     "end_time": "2023-01-24T16:47:43.242954Z",
     "start_time": "2023-01-24T16:47:43.234942Z"
    }
   },
   "outputs": [],
   "source": [
    "months = ['Jan','Apr','Jul','Oct']\n",
    "p = data1[\"quater\"][0]\n",
    "p[0:3]\n",
    "data1['months'] = 0"
   ]
  },
  {
   "cell_type": "code",
   "execution_count": 16,
   "id": "15e86cac",
   "metadata": {
    "ExecuteTime": {
     "end_time": "2023-01-24T16:47:43.774959Z",
     "start_time": "2023-01-24T16:47:43.758952Z"
    }
   },
   "outputs": [],
   "source": [
    "for i in range(42):\n",
    "    p = data1[\"quater\"][i]\n",
    "    data1['months'][i]= p[0:3]"
   ]
  },
  {
   "cell_type": "code",
   "execution_count": 17,
   "id": "bce57c6a",
   "metadata": {
    "ExecuteTime": {
     "end_time": "2023-01-24T16:47:44.307913Z",
     "start_time": "2023-01-24T16:47:44.283248Z"
    }
   },
   "outputs": [
    {
     "data": {
      "text/html": [
       "<div>\n",
       "<style scoped>\n",
       "    .dataframe tbody tr th:only-of-type {\n",
       "        vertical-align: middle;\n",
       "    }\n",
       "\n",
       "    .dataframe tbody tr th {\n",
       "        vertical-align: top;\n",
       "    }\n",
       "\n",
       "    .dataframe thead th {\n",
       "        text-align: right;\n",
       "    }\n",
       "</style>\n",
       "<table border=\"1\" class=\"dataframe\">\n",
       "  <thead>\n",
       "    <tr style=\"text-align: right;\">\n",
       "      <th></th>\n",
       "      <th>quater</th>\n",
       "      <th>Sales</th>\n",
       "      <th>months</th>\n",
       "      <th>Apr</th>\n",
       "      <th>Jan</th>\n",
       "      <th>Jul</th>\n",
       "      <th>Oct</th>\n",
       "    </tr>\n",
       "  </thead>\n",
       "  <tbody>\n",
       "    <tr>\n",
       "      <th>0</th>\n",
       "      <td>Jan-1986</td>\n",
       "      <td>1734.827000</td>\n",
       "      <td>Jan</td>\n",
       "      <td>0</td>\n",
       "      <td>1</td>\n",
       "      <td>0</td>\n",
       "      <td>0</td>\n",
       "    </tr>\n",
       "    <tr>\n",
       "      <th>1</th>\n",
       "      <td>Apr-1986</td>\n",
       "      <td>2244.960999</td>\n",
       "      <td>Apr</td>\n",
       "      <td>1</td>\n",
       "      <td>0</td>\n",
       "      <td>0</td>\n",
       "      <td>0</td>\n",
       "    </tr>\n",
       "    <tr>\n",
       "      <th>2</th>\n",
       "      <td>Jul-1986</td>\n",
       "      <td>2533.804993</td>\n",
       "      <td>Jul</td>\n",
       "      <td>0</td>\n",
       "      <td>0</td>\n",
       "      <td>1</td>\n",
       "      <td>0</td>\n",
       "    </tr>\n",
       "    <tr>\n",
       "      <th>3</th>\n",
       "      <td>Oct-1986</td>\n",
       "      <td>2154.962997</td>\n",
       "      <td>Oct</td>\n",
       "      <td>0</td>\n",
       "      <td>0</td>\n",
       "      <td>0</td>\n",
       "      <td>1</td>\n",
       "    </tr>\n",
       "    <tr>\n",
       "      <th>4</th>\n",
       "      <td>Jan-1987</td>\n",
       "      <td>1547.818996</td>\n",
       "      <td>Jan</td>\n",
       "      <td>0</td>\n",
       "      <td>1</td>\n",
       "      <td>0</td>\n",
       "      <td>0</td>\n",
       "    </tr>\n",
       "  </tbody>\n",
       "</table>\n",
       "</div>"
      ],
      "text/plain": [
       "     quater        Sales months  Apr  Jan  Jul  Oct\n",
       "0  Jan-1986  1734.827000    Jan    0    1    0    0\n",
       "1  Apr-1986  2244.960999    Apr    1    0    0    0\n",
       "2  Jul-1986  2533.804993    Jul    0    0    1    0\n",
       "3  Oct-1986  2154.962997    Oct    0    0    0    1\n",
       "4  Jan-1987  1547.818996    Jan    0    1    0    0"
      ]
     },
     "execution_count": 17,
     "metadata": {},
     "output_type": "execute_result"
    }
   ],
   "source": [
    "month_dummies = pd.DataFrame(pd.get_dummies(data1['months']))\n",
    "data1 = pd.concat([data1, month_dummies],axis = 1)\n",
    "data1.head()"
   ]
  },
  {
   "cell_type": "code",
   "execution_count": 18,
   "id": "978d27dc",
   "metadata": {
    "ExecuteTime": {
     "end_time": "2023-01-24T16:47:44.952391Z",
     "start_time": "2023-01-24T16:47:44.931030Z"
    }
   },
   "outputs": [],
   "source": [
    "data1[\"t\"] = np.arange(1,43)\n",
    "data1[\"t_squared\"] = data1[\"t\"]*data1[\"t\"]\n",
    "data1[\"log_Sales\"] = np.log(data1[\"Sales\"])"
   ]
  },
  {
   "cell_type": "code",
   "execution_count": 19,
   "id": "ac1f63c1",
   "metadata": {
    "ExecuteTime": {
     "end_time": "2023-01-24T16:47:45.506438Z",
     "start_time": "2023-01-24T16:47:45.490425Z"
    }
   },
   "outputs": [
    {
     "data": {
      "text/plain": [
       "Index(['quater', 'Sales', 'months', 'Apr', 'Jan', 'Jul', 'Oct', 't',\n",
       "       't_squared', 'log_Sales'],\n",
       "      dtype='object')"
      ]
     },
     "execution_count": 19,
     "metadata": {},
     "output_type": "execute_result"
    }
   ],
   "source": [
    "data1.columns"
   ]
  },
  {
   "cell_type": "code",
   "execution_count": 20,
   "id": "8507da35",
   "metadata": {
    "ExecuteTime": {
     "end_time": "2023-01-24T16:47:46.097946Z",
     "start_time": "2023-01-24T16:47:46.065943Z"
    }
   },
   "outputs": [
    {
     "data": {
      "text/html": [
       "<div>\n",
       "<style scoped>\n",
       "    .dataframe tbody tr th:only-of-type {\n",
       "        vertical-align: middle;\n",
       "    }\n",
       "\n",
       "    .dataframe tbody tr th {\n",
       "        vertical-align: top;\n",
       "    }\n",
       "\n",
       "    .dataframe thead th {\n",
       "        text-align: right;\n",
       "    }\n",
       "</style>\n",
       "<table border=\"1\" class=\"dataframe\">\n",
       "  <thead>\n",
       "    <tr style=\"text-align: right;\">\n",
       "      <th></th>\n",
       "      <th>quater</th>\n",
       "      <th>Sales</th>\n",
       "      <th>months</th>\n",
       "      <th>Apr</th>\n",
       "      <th>Jan</th>\n",
       "      <th>Jul</th>\n",
       "      <th>Oct</th>\n",
       "      <th>t</th>\n",
       "      <th>t_squared</th>\n",
       "      <th>log_Sales</th>\n",
       "    </tr>\n",
       "  </thead>\n",
       "  <tbody>\n",
       "    <tr>\n",
       "      <th>0</th>\n",
       "      <td>Jan-1986</td>\n",
       "      <td>1734.827000</td>\n",
       "      <td>Jan</td>\n",
       "      <td>0</td>\n",
       "      <td>1</td>\n",
       "      <td>0</td>\n",
       "      <td>0</td>\n",
       "      <td>1</td>\n",
       "      <td>1</td>\n",
       "      <td>7.458663</td>\n",
       "    </tr>\n",
       "    <tr>\n",
       "      <th>1</th>\n",
       "      <td>Apr-1986</td>\n",
       "      <td>2244.960999</td>\n",
       "      <td>Apr</td>\n",
       "      <td>1</td>\n",
       "      <td>0</td>\n",
       "      <td>0</td>\n",
       "      <td>0</td>\n",
       "      <td>2</td>\n",
       "      <td>4</td>\n",
       "      <td>7.716443</td>\n",
       "    </tr>\n",
       "    <tr>\n",
       "      <th>2</th>\n",
       "      <td>Jul-1986</td>\n",
       "      <td>2533.804993</td>\n",
       "      <td>Jul</td>\n",
       "      <td>0</td>\n",
       "      <td>0</td>\n",
       "      <td>1</td>\n",
       "      <td>0</td>\n",
       "      <td>3</td>\n",
       "      <td>9</td>\n",
       "      <td>7.837477</td>\n",
       "    </tr>\n",
       "    <tr>\n",
       "      <th>3</th>\n",
       "      <td>Oct-1986</td>\n",
       "      <td>2154.962997</td>\n",
       "      <td>Oct</td>\n",
       "      <td>0</td>\n",
       "      <td>0</td>\n",
       "      <td>0</td>\n",
       "      <td>1</td>\n",
       "      <td>4</td>\n",
       "      <td>16</td>\n",
       "      <td>7.675529</td>\n",
       "    </tr>\n",
       "    <tr>\n",
       "      <th>4</th>\n",
       "      <td>Jan-1987</td>\n",
       "      <td>1547.818996</td>\n",
       "      <td>Jan</td>\n",
       "      <td>0</td>\n",
       "      <td>1</td>\n",
       "      <td>0</td>\n",
       "      <td>0</td>\n",
       "      <td>5</td>\n",
       "      <td>25</td>\n",
       "      <td>7.344602</td>\n",
       "    </tr>\n",
       "  </tbody>\n",
       "</table>\n",
       "</div>"
      ],
      "text/plain": [
       "     quater        Sales months  Apr  Jan  Jul  Oct  t  t_squared  log_Sales\n",
       "0  Jan-1986  1734.827000    Jan    0    1    0    0  1          1   7.458663\n",
       "1  Apr-1986  2244.960999    Apr    1    0    0    0  2          4   7.716443\n",
       "2  Jul-1986  2533.804993    Jul    0    0    1    0  3          9   7.837477\n",
       "3  Oct-1986  2154.962997    Oct    0    0    0    1  4         16   7.675529\n",
       "4  Jan-1987  1547.818996    Jan    0    1    0    0  5         25   7.344602"
      ]
     },
     "execution_count": 20,
     "metadata": {},
     "output_type": "execute_result"
    }
   ],
   "source": [
    "data1.head()"
   ]
  },
  {
   "cell_type": "code",
   "execution_count": 21,
   "id": "697df9c6",
   "metadata": {
    "ExecuteTime": {
     "end_time": "2023-01-24T16:47:46.650659Z",
     "start_time": "2023-01-24T16:47:46.613265Z"
    }
   },
   "outputs": [
    {
     "data": {
      "text/html": [
       "<div>\n",
       "<style scoped>\n",
       "    .dataframe tbody tr th:only-of-type {\n",
       "        vertical-align: middle;\n",
       "    }\n",
       "\n",
       "    .dataframe tbody tr th {\n",
       "        vertical-align: top;\n",
       "    }\n",
       "\n",
       "    .dataframe thead th {\n",
       "        text-align: right;\n",
       "    }\n",
       "</style>\n",
       "<table border=\"1\" class=\"dataframe\">\n",
       "  <thead>\n",
       "    <tr style=\"text-align: right;\">\n",
       "      <th></th>\n",
       "      <th>quater</th>\n",
       "      <th>Sales</th>\n",
       "      <th>months</th>\n",
       "      <th>Apr</th>\n",
       "      <th>Jan</th>\n",
       "      <th>Jul</th>\n",
       "      <th>Oct</th>\n",
       "      <th>t</th>\n",
       "      <th>t_squared</th>\n",
       "      <th>log_Sales</th>\n",
       "    </tr>\n",
       "  </thead>\n",
       "  <tbody>\n",
       "    <tr>\n",
       "      <th>37</th>\n",
       "      <td>Apr-1995</td>\n",
       "      <td>4936.0</td>\n",
       "      <td>Apr</td>\n",
       "      <td>1</td>\n",
       "      <td>0</td>\n",
       "      <td>0</td>\n",
       "      <td>0</td>\n",
       "      <td>38</td>\n",
       "      <td>1444</td>\n",
       "      <td>8.504311</td>\n",
       "    </tr>\n",
       "    <tr>\n",
       "      <th>38</th>\n",
       "      <td>Jul-1995</td>\n",
       "      <td>4895.0</td>\n",
       "      <td>Jul</td>\n",
       "      <td>0</td>\n",
       "      <td>0</td>\n",
       "      <td>1</td>\n",
       "      <td>0</td>\n",
       "      <td>39</td>\n",
       "      <td>1521</td>\n",
       "      <td>8.495970</td>\n",
       "    </tr>\n",
       "    <tr>\n",
       "      <th>39</th>\n",
       "      <td>Oct-1995</td>\n",
       "      <td>4333.0</td>\n",
       "      <td>Oct</td>\n",
       "      <td>0</td>\n",
       "      <td>0</td>\n",
       "      <td>0</td>\n",
       "      <td>1</td>\n",
       "      <td>40</td>\n",
       "      <td>1600</td>\n",
       "      <td>8.374015</td>\n",
       "    </tr>\n",
       "    <tr>\n",
       "      <th>40</th>\n",
       "      <td>Jan-1996</td>\n",
       "      <td>4194.0</td>\n",
       "      <td>Jan</td>\n",
       "      <td>0</td>\n",
       "      <td>1</td>\n",
       "      <td>0</td>\n",
       "      <td>0</td>\n",
       "      <td>41</td>\n",
       "      <td>1681</td>\n",
       "      <td>8.341410</td>\n",
       "    </tr>\n",
       "    <tr>\n",
       "      <th>41</th>\n",
       "      <td>Apr-1996</td>\n",
       "      <td>5253.0</td>\n",
       "      <td>Apr</td>\n",
       "      <td>1</td>\n",
       "      <td>0</td>\n",
       "      <td>0</td>\n",
       "      <td>0</td>\n",
       "      <td>42</td>\n",
       "      <td>1764</td>\n",
       "      <td>8.566555</td>\n",
       "    </tr>\n",
       "  </tbody>\n",
       "</table>\n",
       "</div>"
      ],
      "text/plain": [
       "      quater   Sales months  Apr  Jan  Jul  Oct   t  t_squared  log_Sales\n",
       "37  Apr-1995  4936.0    Apr    1    0    0    0  38       1444   8.504311\n",
       "38  Jul-1995  4895.0    Jul    0    0    1    0  39       1521   8.495970\n",
       "39  Oct-1995  4333.0    Oct    0    0    0    1  40       1600   8.374015\n",
       "40  Jan-1996  4194.0    Jan    0    1    0    0  41       1681   8.341410\n",
       "41  Apr-1996  5253.0    Apr    1    0    0    0  42       1764   8.566555"
      ]
     },
     "execution_count": 21,
     "metadata": {},
     "output_type": "execute_result"
    }
   ],
   "source": [
    "data1.tail()"
   ]
  },
  {
   "cell_type": "code",
   "execution_count": 22,
   "id": "80ea0385",
   "metadata": {
    "ExecuteTime": {
     "end_time": "2023-01-24T16:47:47.505459Z",
     "start_time": "2023-01-24T16:47:47.473450Z"
    }
   },
   "outputs": [
    {
     "data": {
      "text/html": [
       "<div>\n",
       "<style scoped>\n",
       "    .dataframe tbody tr th:only-of-type {\n",
       "        vertical-align: middle;\n",
       "    }\n",
       "\n",
       "    .dataframe tbody tr th {\n",
       "        vertical-align: top;\n",
       "    }\n",
       "\n",
       "    .dataframe thead th {\n",
       "        text-align: right;\n",
       "    }\n",
       "</style>\n",
       "<table border=\"1\" class=\"dataframe\">\n",
       "  <thead>\n",
       "    <tr style=\"text-align: right;\">\n",
       "      <th></th>\n",
       "      <th>quater</th>\n",
       "      <th>Sales</th>\n",
       "      <th>months</th>\n",
       "      <th>Apr</th>\n",
       "      <th>Jan</th>\n",
       "      <th>Jul</th>\n",
       "      <th>Oct</th>\n",
       "      <th>t</th>\n",
       "      <th>t_squared</th>\n",
       "      <th>log_Sales</th>\n",
       "      <th>Date</th>\n",
       "    </tr>\n",
       "  </thead>\n",
       "  <tbody>\n",
       "    <tr>\n",
       "      <th>0</th>\n",
       "      <td>Jan-1986</td>\n",
       "      <td>1734.827000</td>\n",
       "      <td>Jan</td>\n",
       "      <td>0</td>\n",
       "      <td>1</td>\n",
       "      <td>0</td>\n",
       "      <td>0</td>\n",
       "      <td>1</td>\n",
       "      <td>1</td>\n",
       "      <td>7.458663</td>\n",
       "      <td>1986-01-01</td>\n",
       "    </tr>\n",
       "    <tr>\n",
       "      <th>1</th>\n",
       "      <td>Apr-1986</td>\n",
       "      <td>2244.960999</td>\n",
       "      <td>Apr</td>\n",
       "      <td>1</td>\n",
       "      <td>0</td>\n",
       "      <td>0</td>\n",
       "      <td>0</td>\n",
       "      <td>2</td>\n",
       "      <td>4</td>\n",
       "      <td>7.716443</td>\n",
       "      <td>1986-04-01</td>\n",
       "    </tr>\n",
       "    <tr>\n",
       "      <th>2</th>\n",
       "      <td>Jul-1986</td>\n",
       "      <td>2533.804993</td>\n",
       "      <td>Jul</td>\n",
       "      <td>0</td>\n",
       "      <td>0</td>\n",
       "      <td>1</td>\n",
       "      <td>0</td>\n",
       "      <td>3</td>\n",
       "      <td>9</td>\n",
       "      <td>7.837477</td>\n",
       "      <td>1986-07-01</td>\n",
       "    </tr>\n",
       "    <tr>\n",
       "      <th>3</th>\n",
       "      <td>Oct-1986</td>\n",
       "      <td>2154.962997</td>\n",
       "      <td>Oct</td>\n",
       "      <td>0</td>\n",
       "      <td>0</td>\n",
       "      <td>0</td>\n",
       "      <td>1</td>\n",
       "      <td>4</td>\n",
       "      <td>16</td>\n",
       "      <td>7.675529</td>\n",
       "      <td>1986-10-01</td>\n",
       "    </tr>\n",
       "    <tr>\n",
       "      <th>4</th>\n",
       "      <td>Jan-1987</td>\n",
       "      <td>1547.818996</td>\n",
       "      <td>Jan</td>\n",
       "      <td>0</td>\n",
       "      <td>1</td>\n",
       "      <td>0</td>\n",
       "      <td>0</td>\n",
       "      <td>5</td>\n",
       "      <td>25</td>\n",
       "      <td>7.344602</td>\n",
       "      <td>1987-01-01</td>\n",
       "    </tr>\n",
       "  </tbody>\n",
       "</table>\n",
       "</div>"
      ],
      "text/plain": [
       "     quater        Sales months  Apr  Jan  Jul  Oct  t  t_squared  log_Sales  \\\n",
       "0  Jan-1986  1734.827000    Jan    0    1    0    0  1          1   7.458663   \n",
       "1  Apr-1986  2244.960999    Apr    1    0    0    0  2          4   7.716443   \n",
       "2  Jul-1986  2533.804993    Jul    0    0    1    0  3          9   7.837477   \n",
       "3  Oct-1986  2154.962997    Oct    0    0    0    1  4         16   7.675529   \n",
       "4  Jan-1987  1547.818996    Jan    0    1    0    0  5         25   7.344602   \n",
       "\n",
       "        Date  \n",
       "0 1986-01-01  \n",
       "1 1986-04-01  \n",
       "2 1986-07-01  \n",
       "3 1986-10-01  \n",
       "4 1987-01-01  "
      ]
     },
     "execution_count": 22,
     "metadata": {},
     "output_type": "execute_result"
    }
   ],
   "source": [
    "data1[\"Date\"] = pd.to_datetime(data1.quater, format=\"%b-%Y\")\n",
    "data1.head()"
   ]
  },
  {
   "cell_type": "code",
   "execution_count": 23,
   "id": "65d40c6f",
   "metadata": {
    "ExecuteTime": {
     "end_time": "2023-01-24T16:47:48.093015Z",
     "start_time": "2023-01-24T16:47:48.060990Z"
    }
   },
   "outputs": [
    {
     "data": {
      "text/html": [
       "<div>\n",
       "<style scoped>\n",
       "    .dataframe tbody tr th:only-of-type {\n",
       "        vertical-align: middle;\n",
       "    }\n",
       "\n",
       "    .dataframe tbody tr th {\n",
       "        vertical-align: top;\n",
       "    }\n",
       "\n",
       "    .dataframe thead th {\n",
       "        text-align: right;\n",
       "    }\n",
       "</style>\n",
       "<table border=\"1\" class=\"dataframe\">\n",
       "  <thead>\n",
       "    <tr style=\"text-align: right;\">\n",
       "      <th></th>\n",
       "      <th>quater</th>\n",
       "      <th>Sales</th>\n",
       "      <th>months</th>\n",
       "      <th>Apr</th>\n",
       "      <th>Jan</th>\n",
       "      <th>Jul</th>\n",
       "      <th>Oct</th>\n",
       "      <th>t</th>\n",
       "      <th>t_squared</th>\n",
       "      <th>log_Sales</th>\n",
       "      <th>Date</th>\n",
       "      <th>year</th>\n",
       "    </tr>\n",
       "  </thead>\n",
       "  <tbody>\n",
       "    <tr>\n",
       "      <th>0</th>\n",
       "      <td>Jan-1986</td>\n",
       "      <td>1734.827000</td>\n",
       "      <td>Jan</td>\n",
       "      <td>0</td>\n",
       "      <td>1</td>\n",
       "      <td>0</td>\n",
       "      <td>0</td>\n",
       "      <td>1</td>\n",
       "      <td>1</td>\n",
       "      <td>7.458663</td>\n",
       "      <td>1986-01-01</td>\n",
       "      <td>1986</td>\n",
       "    </tr>\n",
       "    <tr>\n",
       "      <th>1</th>\n",
       "      <td>Apr-1986</td>\n",
       "      <td>2244.960999</td>\n",
       "      <td>Apr</td>\n",
       "      <td>1</td>\n",
       "      <td>0</td>\n",
       "      <td>0</td>\n",
       "      <td>0</td>\n",
       "      <td>2</td>\n",
       "      <td>4</td>\n",
       "      <td>7.716443</td>\n",
       "      <td>1986-04-01</td>\n",
       "      <td>1986</td>\n",
       "    </tr>\n",
       "    <tr>\n",
       "      <th>2</th>\n",
       "      <td>Jul-1986</td>\n",
       "      <td>2533.804993</td>\n",
       "      <td>Jul</td>\n",
       "      <td>0</td>\n",
       "      <td>0</td>\n",
       "      <td>1</td>\n",
       "      <td>0</td>\n",
       "      <td>3</td>\n",
       "      <td>9</td>\n",
       "      <td>7.837477</td>\n",
       "      <td>1986-07-01</td>\n",
       "      <td>1986</td>\n",
       "    </tr>\n",
       "    <tr>\n",
       "      <th>3</th>\n",
       "      <td>Oct-1986</td>\n",
       "      <td>2154.962997</td>\n",
       "      <td>Oct</td>\n",
       "      <td>0</td>\n",
       "      <td>0</td>\n",
       "      <td>0</td>\n",
       "      <td>1</td>\n",
       "      <td>4</td>\n",
       "      <td>16</td>\n",
       "      <td>7.675529</td>\n",
       "      <td>1986-10-01</td>\n",
       "      <td>1986</td>\n",
       "    </tr>\n",
       "    <tr>\n",
       "      <th>4</th>\n",
       "      <td>Jan-1987</td>\n",
       "      <td>1547.818996</td>\n",
       "      <td>Jan</td>\n",
       "      <td>0</td>\n",
       "      <td>1</td>\n",
       "      <td>0</td>\n",
       "      <td>0</td>\n",
       "      <td>5</td>\n",
       "      <td>25</td>\n",
       "      <td>7.344602</td>\n",
       "      <td>1987-01-01</td>\n",
       "      <td>1987</td>\n",
       "    </tr>\n",
       "  </tbody>\n",
       "</table>\n",
       "</div>"
      ],
      "text/plain": [
       "     quater        Sales months  Apr  Jan  Jul  Oct  t  t_squared  log_Sales  \\\n",
       "0  Jan-1986  1734.827000    Jan    0    1    0    0  1          1   7.458663   \n",
       "1  Apr-1986  2244.960999    Apr    1    0    0    0  2          4   7.716443   \n",
       "2  Jul-1986  2533.804993    Jul    0    0    1    0  3          9   7.837477   \n",
       "3  Oct-1986  2154.962997    Oct    0    0    0    1  4         16   7.675529   \n",
       "4  Jan-1987  1547.818996    Jan    0    1    0    0  5         25   7.344602   \n",
       "\n",
       "        Date  year  \n",
       "0 1986-01-01  1986  \n",
       "1 1986-04-01  1986  \n",
       "2 1986-07-01  1986  \n",
       "3 1986-10-01  1986  \n",
       "4 1987-01-01  1987  "
      ]
     },
     "execution_count": 23,
     "metadata": {},
     "output_type": "execute_result"
    }
   ],
   "source": [
    "data1[\"year\"] = data1.Date.dt.strftime(\"%Y\")\n",
    "data1.head()"
   ]
  },
  {
   "cell_type": "code",
   "execution_count": 24,
   "id": "69a55a90",
   "metadata": {
    "ExecuteTime": {
     "end_time": "2023-01-24T16:47:49.327399Z",
     "start_time": "2023-01-24T16:47:48.803615Z"
    }
   },
   "outputs": [
    {
     "data": {
      "text/plain": [
       "<AxesSubplot:xlabel='months', ylabel='year'>"
      ]
     },
     "execution_count": 24,
     "metadata": {},
     "output_type": "execute_result"
    },
    {
     "data": {
      "image/png": "[encoded data removed]",
      "text/plain": [
       "<Figure size 1000x800 with 2 Axes>"
      ]
     },
     "metadata": {},
     "output_type": "display_data"
    }
   ],
   "source": [
    "plt.figure(figsize=(10,8))\n",
    "heatmap_Y_month = pd.pivot_table(data=data1, values=\"Sales\", index=\"year\", columns=\"months\", aggfunc=\"mean\", fill_value=0)\n",
    "sns.heatmap(heatmap_Y_month, annot=True, fmt=\"g\")"
   ]
  },
  {
   "cell_type": "code",
   "execution_count": 25,
   "id": "00d060a5",
   "metadata": {
    "ExecuteTime": {
     "end_time": "2023-01-24T16:47:50.609519Z",
     "start_time": "2023-01-24T16:47:50.078753Z"
    }
   },
   "outputs": [
    {
     "data": {
      "image/png": "[encoded data removed]",
      "text/plain": [
       "<Figure size 1000x800 with 1 Axes>"
      ]
     },
     "metadata": {},
     "output_type": "display_data"
    },
    {
     "data": {
      "image/png": "[encoded data removed]",
      "text/plain": [
       "<Figure size 1000x800 with 1 Axes>"
      ]
     },
     "metadata": {},
     "output_type": "display_data"
    }
   ],
   "source": [
    "plt.figure(figsize=(10,8))\n",
    "plt.subplot(211)\n",
    "sns.boxplot(x=\"months\", y=\"Sales\", data = data1)\n",
    "plt.show()\n",
    "\n",
    "plt.figure(figsize=(10,8))\n",
    "plt.subplot(212)\n",
    "sns.boxplot(x=\"year\", y=\"Sales\", data = data1)\n",
    "plt.show()"
   ]
  },
  {
   "cell_type": "code",
   "execution_count": 26,
   "id": "76bec20c",
   "metadata": {
    "ExecuteTime": {
     "end_time": "2023-01-24T16:47:51.264331Z",
     "start_time": "2023-01-24T16:47:50.755141Z"
    }
   },
   "outputs": [
    {
     "data": {
      "text/plain": [
       "<AxesSubplot:xlabel='year', ylabel='Sales'>"
      ]
     },
     "execution_count": 26,
     "metadata": {},
     "output_type": "execute_result"
    },
    {
     "data": {
      "image/png": "[encoded data removed]",
      "text/plain": [
       "<Figure size 1200x400 with 1 Axes>"
      ]
     },
     "metadata": {},
     "output_type": "display_data"
    }
   ],
   "source": [
    "plt.figure(figsize=(12,4))\n",
    "sns.lineplot(x=\"year\", y=\"Sales\", data=data1)"
   ]
  },
  {
   "cell_type": "markdown",
   "id": "4be3d681",
   "metadata": {},
   "source": [
    "#### From all the above graphs we can say that the Cocacola sales data has an upward exponential trend with multiplicative seasonality."
   ]
  },
  {
   "cell_type": "markdown",
   "id": "10ff1753",
   "metadata": {},
   "source": [
    "### Splitting Data"
   ]
  },
  {
   "cell_type": "code",
   "execution_count": 27,
   "id": "ccbecf52",
   "metadata": {
    "ExecuteTime": {
     "end_time": "2023-01-24T16:47:55.393512Z",
     "start_time": "2023-01-24T16:47:55.377416Z"
    }
   },
   "outputs": [],
   "source": [
    "Train = data1.head(38)\n",
    "Test = data1.tail(4)"
   ]
  },
  {
   "cell_type": "markdown",
   "id": "8b68a41c",
   "metadata": {},
   "source": [
    "### Evaluation Metric RMSE & MAPE"
   ]
  },
  {
   "cell_type": "code",
   "execution_count": 28,
   "id": "e85daa03",
   "metadata": {
    "ExecuteTime": {
     "end_time": "2023-01-24T16:47:57.425400Z",
     "start_time": "2023-01-24T16:47:57.401112Z"
    }
   },
   "outputs": [],
   "source": [
    "def RMSE(pred, org):\n",
    "    temp = np.mean((pred-org)**2)\n",
    "    return np.sqrt(temp)"
   ]
  },
  {
   "cell_type": "code",
   "execution_count": 29,
   "id": "b0afddb4",
   "metadata": {
    "ExecuteTime": {
     "end_time": "2023-01-24T16:47:57.922822Z",
     "start_time": "2023-01-24T16:47:57.907216Z"
    }
   },
   "outputs": [],
   "source": [
    "def MAPE(pred, org):\n",
    "    temp = np.abs(((pred-org)/org)*100)\n",
    "    return np.mean(temp)"
   ]
  },
  {
   "cell_type": "markdown",
   "id": "03df352d",
   "metadata": {},
   "source": [
    "#### Building and Comparing Multiple Models to find out best model for Forecasting"
   ]
  },
  {
   "cell_type": "markdown",
   "id": "426c8a06",
   "metadata": {},
   "source": [
    "### Linear model"
   ]
  },
  {
   "cell_type": "code",
   "execution_count": 30,
   "id": "03e96ea9",
   "metadata": {
    "ExecuteTime": {
     "end_time": "2023-01-24T16:47:59.475985Z",
     "start_time": "2023-01-24T16:47:59.443303Z"
    }
   },
   "outputs": [
    {
     "data": {
      "text/plain": [
       "38    4145.466199\n",
       "39    4213.536208\n",
       "40    4281.606217\n",
       "41    4349.676226\n",
       "dtype: float64"
      ]
     },
     "execution_count": 30,
     "metadata": {},
     "output_type": "execute_result"
    }
   ],
   "source": [
    "model_linear = smf.ols(\"Sales~t\", data=Train).fit()\n",
    "pred_linear = pd.Series(model_linear.predict(pd.DataFrame(Test[\"t\"])))\n",
    "pred_linear"
   ]
  },
  {
   "cell_type": "code",
   "execution_count": 31,
   "id": "e25fbdbd",
   "metadata": {
    "ExecuteTime": {
     "end_time": "2023-01-24T16:47:59.998365Z",
     "start_time": "2023-01-24T16:47:59.974353Z"
    }
   },
   "outputs": [
    {
     "data": {
      "text/plain": [
       "591.5532957485534"
      ]
     },
     "execution_count": 31,
     "metadata": {},
     "output_type": "execute_result"
    }
   ],
   "source": [
    "rmse_linear = RMSE(pred_linear, Test['Sales'])\n",
    "rmse_linear"
   ]
  },
  {
   "cell_type": "code",
   "execution_count": 32,
   "id": "fa9e50b6",
   "metadata": {
    "ExecuteTime": {
     "end_time": "2023-01-24T16:48:00.501520Z",
     "start_time": "2023-01-24T16:48:00.485509Z"
    }
   },
   "outputs": [
    {
     "data": {
      "text/plain": [
       "9.3386221887829"
      ]
     },
     "execution_count": 32,
     "metadata": {},
     "output_type": "execute_result"
    }
   ],
   "source": [
    "mape_linear = MAPE(pred_linear, Test['Sales'])\n",
    "mape_linear"
   ]
  },
  {
   "cell_type": "markdown",
   "id": "d0fa6ad7",
   "metadata": {},
   "source": [
    "### Exponential model"
   ]
  },
  {
   "cell_type": "code",
   "execution_count": 33,
   "id": "219f6d9e",
   "metadata": {
    "ExecuteTime": {
     "end_time": "2023-01-24T16:48:01.674592Z",
     "start_time": "2023-01-24T16:48:01.633931Z"
    }
   },
   "outputs": [
    {
     "data": {
      "text/plain": [
       "38    4295.822022\n",
       "39    4399.046102\n",
       "40    4504.750549\n",
       "41    4612.994962\n",
       "dtype: float64"
      ]
     },
     "execution_count": 33,
     "metadata": {},
     "output_type": "execute_result"
    }
   ],
   "source": [
    "model_expo = smf.ols(\"log_Sales~t\", data=Train).fit()\n",
    "pred_expo = pd.Series(model_expo.predict(pd.DataFrame(Test[\"t\"])))\n",
    "pred_expo = np.exp(pred_expo)\n",
    "pred_expo"
   ]
  },
  {
   "cell_type": "code",
   "execution_count": 34,
   "id": "6fd353ac",
   "metadata": {
    "ExecuteTime": {
     "end_time": "2023-01-24T16:48:02.955943Z",
     "start_time": "2023-01-24T16:48:02.939595Z"
    }
   },
   "outputs": [
    {
     "data": {
      "text/plain": [
       "466.2479731321065"
      ]
     },
     "execution_count": 34,
     "metadata": {},
     "output_type": "execute_result"
    }
   ],
   "source": [
    "rmse_expo = RMSE(pred_expo, Test['Sales'])\n",
    "rmse_expo"
   ]
  },
  {
   "cell_type": "code",
   "execution_count": 35,
   "id": "63d5e96d",
   "metadata": {
    "ExecuteTime": {
     "end_time": "2023-01-24T16:48:03.487137Z",
     "start_time": "2023-01-24T16:48:03.462679Z"
    }
   },
   "outputs": [
    {
     "data": {
      "text/plain": [
       "8.33947201195749"
      ]
     },
     "execution_count": 35,
     "metadata": {},
     "output_type": "execute_result"
    }
   ],
   "source": [
    "mape_expo = MAPE(pred_expo, Test['Sales'])\n",
    "mape_expo"
   ]
  },
  {
   "cell_type": "markdown",
   "id": "df6ab8a9",
   "metadata": {},
   "source": [
    "### Quadratic Model"
   ]
  },
  {
   "cell_type": "code",
   "execution_count": 36,
   "id": "a9c93e9c",
   "metadata": {
    "ExecuteTime": {
     "end_time": "2023-01-24T16:48:04.995608Z",
     "start_time": "2023-01-24T16:48:04.946839Z"
    }
   },
   "outputs": [
    {
     "data": {
      "text/plain": [
       "38    4669.104172\n",
       "39    4817.733869\n",
       "40    4970.391551\n",
       "41    5127.077217\n",
       "dtype: float64"
      ]
     },
     "execution_count": 36,
     "metadata": {},
     "output_type": "execute_result"
    }
   ],
   "source": [
    "model_quad = smf.ols(\"Sales~t+t_squared\", data=Train).fit()\n",
    "pred_quad = pd.Series(model_quad.predict(pd.DataFrame(Test[[\"t\",\"t_squared\"]])))\n",
    "pred_quad"
   ]
  },
  {
   "cell_type": "code",
   "execution_count": 37,
   "id": "1e421f7b",
   "metadata": {
    "ExecuteTime": {
     "end_time": "2023-01-24T16:48:05.544832Z",
     "start_time": "2023-01-24T16:48:05.528818Z"
    }
   },
   "outputs": [
    {
     "data": {
      "text/plain": [
       "475.56183519820195"
      ]
     },
     "execution_count": 37,
     "metadata": {},
     "output_type": "execute_result"
    }
   ],
   "source": [
    "rmse_quad = RMSE(pred_quad, Test['Sales'])\n",
    "rmse_quad"
   ]
  },
  {
   "cell_type": "code",
   "execution_count": 38,
   "id": "a43f86d3",
   "metadata": {
    "ExecuteTime": {
     "end_time": "2023-01-24T16:48:06.081288Z",
     "start_time": "2023-01-24T16:48:06.065127Z"
    }
   },
   "outputs": [
    {
     "data": {
      "text/plain": [
       "9.177743216720788"
      ]
     },
     "execution_count": 38,
     "metadata": {},
     "output_type": "execute_result"
    }
   ],
   "source": [
    "mape_quad = MAPE(pred_quad, Test['Sales'])\n",
    "mape_quad"
   ]
  },
  {
   "cell_type": "markdown",
   "id": "5e46f8f1",
   "metadata": {},
   "source": [
    "### Additive Seasonality"
   ]
  },
  {
   "cell_type": "code",
   "execution_count": 39,
   "id": "ef954961",
   "metadata": {
    "ExecuteTime": {
     "end_time": "2023-01-24T16:48:08.291377Z",
     "start_time": "2023-01-24T16:48:08.242469Z"
    }
   },
   "outputs": [
    {
     "data": {
      "text/plain": [
       "38    2938.434220\n",
       "39    2712.930886\n",
       "40    2472.555199\n",
       "41    3150.000098\n",
       "dtype: float64"
      ]
     },
     "execution_count": 39,
     "metadata": {},
     "output_type": "execute_result"
    }
   ],
   "source": [
    "model_add_seas = smf.ols(\"Sales~Apr+Jan+Jul+Oct\",data=Train).fit()\n",
    "pred_add_seas = pd. Series(model_add_seas.predict(pd.DataFrame(Test[['Apr', 'Jan','Jul', 'Oct']])))\n",
    "pred_add_seas"
   ]
  },
  {
   "cell_type": "code",
   "execution_count": 40,
   "id": "73a3ed39",
   "metadata": {
    "ExecuteTime": {
     "end_time": "2023-01-24T16:48:08.879950Z",
     "start_time": "2023-01-24T16:48:08.855937Z"
    }
   },
   "outputs": [
    {
     "data": {
      "text/plain": [
       "1860.0238154374442"
      ]
     },
     "execution_count": 40,
     "metadata": {},
     "output_type": "execute_result"
    }
   ],
   "source": [
    "rmse_add_seas = RMSE(pred_add_seas, Test['Sales'])\n",
    "rmse_add_seas"
   ]
  },
  {
   "cell_type": "code",
   "execution_count": 41,
   "id": "bc578121",
   "metadata": {
    "ExecuteTime": {
     "end_time": "2023-01-24T16:48:09.498425Z",
     "start_time": "2023-01-24T16:48:09.481907Z"
    }
   },
   "outputs": [
    {
     "data": {
      "text/plain": [
       "39.609867065940406"
      ]
     },
     "execution_count": 41,
     "metadata": {},
     "output_type": "execute_result"
    }
   ],
   "source": [
    "mape_add_seas = MAPE(pred_add_seas, Test['Sales'])\n",
    "mape_add_seas"
   ]
  },
  {
   "cell_type": "markdown",
   "id": "d6f265fc",
   "metadata": {},
   "source": [
    "### Additive Seasonality with Quadratic trend"
   ]
  },
  {
   "cell_type": "code",
   "execution_count": 42,
   "id": "2360f527",
   "metadata": {
    "ExecuteTime": {
     "end_time": "2023-01-24T16:48:10.913683Z",
     "start_time": "2023-01-24T16:48:10.865236Z"
    }
   },
   "outputs": [
    {
     "data": {
      "text/plain": [
       "38    4852.677797\n",
       "39    4709.186074\n",
       "40    4638.364982\n",
       "41    5406.022652\n",
       "dtype: float64"
      ]
     },
     "execution_count": 42,
     "metadata": {},
     "output_type": "execute_result"
    }
   ],
   "source": [
    "model_add_seas_quad = smf.ols(\"Sales~t+t_squared+Apr+Jan+Jul+Oct\", data=Train).fit()\n",
    "pred_add_seas_quad = pd.Series(model_add_seas_quad.predict(pd.DataFrame(Test[[\"t\",\"t_squared\",'Apr', 'Jan','Jul', 'Oct']])))\n",
    "pred_add_seas_quad"
   ]
  },
  {
   "cell_type": "code",
   "execution_count": 43,
   "id": "b10803c5",
   "metadata": {
    "ExecuteTime": {
     "end_time": "2023-01-24T16:48:11.481055Z",
     "start_time": "2023-01-24T16:48:11.456407Z"
    }
   },
   "outputs": [
    {
     "data": {
      "text/plain": [
       "301.73800721461714"
      ]
     },
     "execution_count": 43,
     "metadata": {},
     "output_type": "execute_result"
    }
   ],
   "source": [
    "rmse_add_seas_quad = RMSE(pred_add_seas_quad, Test['Sales'])\n",
    "rmse_add_seas_quad"
   ]
  },
  {
   "cell_type": "code",
   "execution_count": 44,
   "id": "24c61455",
   "metadata": {
    "ExecuteTime": {
     "end_time": "2023-01-24T16:48:12.082449Z",
     "start_time": "2023-01-24T16:48:12.058203Z"
    }
   },
   "outputs": [
    {
     "data": {
      "text/plain": [
       "5.76369821517656"
      ]
     },
     "execution_count": 44,
     "metadata": {},
     "output_type": "execute_result"
    }
   ],
   "source": [
    "mape_add_seas_quad = MAPE(pred_add_seas_quad, Test['Sales'])\n",
    "mape_add_seas_quad"
   ]
  },
  {
   "cell_type": "markdown",
   "id": "a8a23d3c",
   "metadata": {},
   "source": [
    "### Multiplicative Seasonality"
   ]
  },
  {
   "cell_type": "code",
   "execution_count": 45,
   "id": "a14f58aa",
   "metadata": {
    "ExecuteTime": {
     "end_time": "2023-01-24T16:48:14.171405Z",
     "start_time": "2023-01-24T16:48:14.123570Z"
    }
   },
   "outputs": [
    {
     "data": {
      "text/plain": [
       "38    2841.058902\n",
       "39    2634.665177\n",
       "40    2370.087030\n",
       "41    3019.186717\n",
       "dtype: float64"
      ]
     },
     "execution_count": 45,
     "metadata": {},
     "output_type": "execute_result"
    }
   ],
   "source": [
    "model_mul_seas = smf.ols(\"log_Sales~Apr+Jan+Jul+Oct\",data=Train).fit()\n",
    "pred_mul_seas = pd. Series(model_mul_seas.predict(pd.DataFrame(Test[['Apr', 'Jan','Jul', 'Oct']])))\n",
    "pred_mul_seas = np.exp(pred_mul_seas)\n",
    "pred_mul_seas"
   ]
  },
  {
   "cell_type": "code",
   "execution_count": 46,
   "id": "e05b99f5",
   "metadata": {
    "ExecuteTime": {
     "end_time": "2023-01-24T16:48:14.986936Z",
     "start_time": "2023-01-24T16:48:14.962808Z"
    }
   },
   "outputs": [
    {
     "data": {
      "text/plain": [
       "1963.389640056338"
      ]
     },
     "execution_count": 46,
     "metadata": {},
     "output_type": "execute_result"
    }
   ],
   "source": [
    "rmse_mul_seas = RMSE(pred_mul_seas, Test['Sales'])\n",
    "rmse_mul_seas"
   ]
  },
  {
   "cell_type": "code",
   "execution_count": 47,
   "id": "3675ea2a",
   "metadata": {
    "ExecuteTime": {
     "end_time": "2023-01-24T16:48:15.592778Z",
     "start_time": "2023-01-24T16:48:15.568768Z"
    }
   },
   "outputs": [
    {
     "data": {
      "text/plain": [
       "41.79212232383776"
      ]
     },
     "execution_count": 47,
     "metadata": {},
     "output_type": "execute_result"
    }
   ],
   "source": [
    "mape_mul_seas = MAPE(pred_mul_seas, Test['Sales'])\n",
    "mape_mul_seas"
   ]
  },
  {
   "cell_type": "markdown",
   "id": "a70f1bbc",
   "metadata": {},
   "source": [
    "### Multiplicative Additive Seasonality"
   ]
  },
  {
   "cell_type": "code",
   "execution_count": 48,
   "id": "281674e4",
   "metadata": {
    "ExecuteTime": {
     "end_time": "2023-01-24T16:48:17.142339Z",
     "start_time": "2023-01-24T16:48:17.085541Z"
    }
   },
   "outputs": [
    {
     "data": {
      "text/plain": [
       "38    4555.076459\n",
       "39    4224.164912\n",
       "40    3983.650878\n",
       "41    5074.659987\n",
       "dtype: float64"
      ]
     },
     "execution_count": 48,
     "metadata": {},
     "output_type": "execute_result"
    }
   ],
   "source": [
    "model_mul_add_seas = smf.ols(\"log_Sales~t+Apr+Jan+Jul+Oct\",data=Train).fit()\n",
    "pred_mul_add_seas = pd.Series(model_mul_add_seas.predict(pd.DataFrame(Test[[\"t\", 'Apr', 'Jan','Jul', 'Oct']])))\n",
    "pred_mul_add_seas = np.exp(pred_mul_add_seas)\n",
    "pred_mul_add_seas"
   ]
  },
  {
   "cell_type": "code",
   "execution_count": 49,
   "id": "957ae539",
   "metadata": {
    "ExecuteTime": {
     "end_time": "2023-01-24T16:48:17.888385Z",
     "start_time": "2023-01-24T16:48:17.872383Z"
    }
   },
   "outputs": [
    {
     "data": {
      "text/plain": [
       "225.52439056170638"
      ]
     },
     "execution_count": 49,
     "metadata": {},
     "output_type": "execute_result"
    }
   ],
   "source": [
    "rmse_mul_add_seas = RMSE(pred_mul_add_seas, Test['Sales'])\n",
    "rmse_mul_add_seas"
   ]
  },
  {
   "cell_type": "code",
   "execution_count": 50,
   "id": "7d927d4b",
   "metadata": {
    "ExecuteTime": {
     "end_time": "2023-01-24T16:48:18.429593Z",
     "start_time": "2023-01-24T16:48:18.413561Z"
    }
   },
   "outputs": [
    {
     "data": {
      "text/plain": [
       "4.4666408255742525"
      ]
     },
     "execution_count": 50,
     "metadata": {},
     "output_type": "execute_result"
    }
   ],
   "source": [
    "mape_mul_add_seas = MAPE(pred_mul_add_seas, Test['Sales'])\n",
    "mape_mul_add_seas"
   ]
  },
  {
   "cell_type": "markdown",
   "id": "e3a6eab2",
   "metadata": {},
   "source": [
    "### Building models using Exponential Smoothing"
   ]
  },
  {
   "cell_type": "code",
   "execution_count": 51,
   "id": "1a6d7682",
   "metadata": {
    "ExecuteTime": {
     "end_time": "2023-01-24T16:48:21.511801Z",
     "start_time": "2023-01-24T16:48:21.422125Z"
    }
   },
   "outputs": [],
   "source": [
    "from statsmodels.tsa.holtwinters import SimpleExpSmoothing\n",
    "from statsmodels.tsa.holtwinters import Holt\n",
    "from statsmodels.tsa.holtwinters import ExponentialSmoothing"
   ]
  },
  {
   "cell_type": "markdown",
   "id": "892d0e48",
   "metadata": {},
   "source": [
    "### Simple Exponential method"
   ]
  },
  {
   "cell_type": "code",
   "execution_count": 52,
   "id": "02f1a10c",
   "metadata": {
    "ExecuteTime": {
     "end_time": "2023-01-24T16:48:22.539448Z",
     "start_time": "2023-01-24T16:48:22.515329Z"
    }
   },
   "outputs": [
    {
     "data": {
      "text/plain": [
       "38    4020.476391\n",
       "39    4020.476391\n",
       "40    4020.476391\n",
       "41    4020.476391\n",
       "dtype: float64"
      ]
     },
     "execution_count": 52,
     "metadata": {},
     "output_type": "execute_result"
    }
   ],
   "source": [
    "model_simple_expo = SimpleExpSmoothing(Train[\"Sales\"]).fit(smoothing_level=0.2)\n",
    "pred_simple_expo = model_simple_expo.predict(start=Test.index[0], end=Test.index[-1])\n",
    "pred_simple_expo"
   ]
  },
  {
   "cell_type": "code",
   "execution_count": 53,
   "id": "50c5634c",
   "metadata": {
    "ExecuteTime": {
     "end_time": "2023-01-24T16:48:23.122296Z",
     "start_time": "2023-01-24T16:48:23.098302Z"
    }
   },
   "outputs": [
    {
     "data": {
      "text/plain": [
       "776.4804310210843"
      ]
     },
     "execution_count": 53,
     "metadata": {},
     "output_type": "execute_result"
    }
   ],
   "source": [
    "rmse_simple_expo = RMSE(pred_simple_expo, Test['Sales'])\n",
    "rmse_simple_expo"
   ]
  },
  {
   "cell_type": "code",
   "execution_count": 54,
   "id": "3ce5a29f",
   "metadata": {
    "ExecuteTime": {
     "end_time": "2023-01-24T16:48:23.696433Z",
     "start_time": "2023-01-24T16:48:23.672179Z"
    }
   },
   "outputs": [
    {
     "data": {
      "text/plain": [
       "13.169736669204205"
      ]
     },
     "execution_count": 54,
     "metadata": {},
     "output_type": "execute_result"
    }
   ],
   "source": [
    "mape_simple_expo = MAPE(pred_simple_expo, Test['Sales'])\n",
    "mape_simple_expo"
   ]
  },
  {
   "cell_type": "markdown",
   "id": "616bf29f",
   "metadata": {},
   "source": [
    "### Holt method"
   ]
  },
  {
   "cell_type": "code",
   "execution_count": 55,
   "id": "a6d5e8dd",
   "metadata": {
    "ExecuteTime": {
     "end_time": "2023-01-24T16:48:26.343131Z",
     "start_time": "2023-01-24T16:48:26.309984Z"
    }
   },
   "outputs": [
    {
     "data": {
      "text/plain": [
       "38    4812.431868\n",
       "39    4978.272043\n",
       "40    5144.112218\n",
       "41    5309.952393\n",
       "dtype: float64"
      ]
     },
     "execution_count": 55,
     "metadata": {},
     "output_type": "execute_result"
    }
   ],
   "source": [
    "model_holt = Holt(Train[\"Sales\"]).fit(smoothing_trend=0.2)\n",
    "pred_holt = model_holt.predict(start=Test.index[0], end=Test.index[-1])\n",
    "pred_holt"
   ]
  },
  {
   "cell_type": "code",
   "execution_count": 56,
   "id": "905e0589",
   "metadata": {
    "ExecuteTime": {
     "end_time": "2023-01-24T16:48:26.841563Z",
     "start_time": "2023-01-24T16:48:26.825027Z"
    }
   },
   "outputs": [
    {
     "data": {
      "text/plain": [
       "576.4439060534547"
      ]
     },
     "execution_count": 56,
     "metadata": {},
     "output_type": "execute_result"
    }
   ],
   "source": [
    "rmse_holt = RMSE(pred_holt, Test['Sales'])\n",
    "rmse_holt"
   ]
  },
  {
   "cell_type": "code",
   "execution_count": 57,
   "id": "ae9df88c",
   "metadata": {
    "ExecuteTime": {
     "end_time": "2023-01-24T16:48:27.345677Z",
     "start_time": "2023-01-24T16:48:27.337661Z"
    }
   },
   "outputs": [
    {
     "data": {
      "text/plain": [
       "10.07927359016563"
      ]
     },
     "execution_count": 57,
     "metadata": {},
     "output_type": "execute_result"
    }
   ],
   "source": [
    "mape_holt = MAPE(pred_holt, Test['Sales'])\n",
    "mape_holt"
   ]
  },
  {
   "cell_type": "markdown",
   "id": "a4973f05",
   "metadata": {},
   "source": [
    "#### Holts winter exponential smoothing with multiplicative seasonality and additive trend"
   ]
  },
  {
   "cell_type": "code",
   "execution_count": 58,
   "id": "4809a279",
   "metadata": {
    "ExecuteTime": {
     "end_time": "2023-01-24T16:48:28.629459Z",
     "start_time": "2023-01-24T16:48:28.383656Z"
    }
   },
   "outputs": [
    {
     "data": {
      "text/plain": [
       "38    4947.696993\n",
       "39    4503.777626\n",
       "40    4018.469282\n",
       "41    5141.936966\n",
       "dtype: float64"
      ]
     },
     "execution_count": 58,
     "metadata": {},
     "output_type": "execute_result"
    }
   ],
   "source": [
    "model_holt_expo = ExponentialSmoothing(Train[\"Sales\"], seasonal=\"mul\", trend=\"add\", seasonal_periods=12).fit()\n",
    "pred_holt_expo = model_holt_expo.predict(start=Test.index[0], end=Test.index[-1])\n",
    "pred_holt_expo"
   ]
  },
  {
   "cell_type": "code",
   "execution_count": 59,
   "id": "7afd2a07",
   "metadata": {
    "ExecuteTime": {
     "end_time": "2023-01-24T16:48:28.939324Z",
     "start_time": "2023-01-24T16:48:28.914780Z"
    }
   },
   "outputs": [
    {
     "data": {
      "text/plain": [
       "137.01094929228174"
      ]
     },
     "execution_count": 59,
     "metadata": {},
     "output_type": "execute_result"
    }
   ],
   "source": [
    "rmse_holt_expo = RMSE(pred_holt_expo, Test['Sales'])\n",
    "rmse_holt_expo"
   ]
  },
  {
   "cell_type": "code",
   "execution_count": 60,
   "id": "79217e9d",
   "metadata": {
    "ExecuteTime": {
     "end_time": "2023-01-24T16:48:29.559420Z",
     "start_time": "2023-01-24T16:48:29.535098Z"
    }
   },
   "outputs": [
    {
     "data": {
      "text/plain": [
       "2.8293581595811097"
      ]
     },
     "execution_count": 60,
     "metadata": {},
     "output_type": "execute_result"
    }
   ],
   "source": [
    "mape_holt_expo = MAPE(pred_holt_expo, Test['Sales'])\n",
    "mape_holt_expo"
   ]
  },
  {
   "cell_type": "markdown",
   "id": "7388704b",
   "metadata": {},
   "source": [
    "### ARIMA model"
   ]
  },
  {
   "cell_type": "code",
   "execution_count": 61,
   "id": "781b6d8a",
   "metadata": {
    "ExecuteTime": {
     "end_time": "2023-01-24T16:48:30.743670Z",
     "start_time": "2023-01-24T16:48:30.488487Z"
    }
   },
   "outputs": [],
   "source": [
    "from math import sqrt\n",
    "from pandas import read_csv\n",
    "from sklearn.metrics import mean_squared_error\n",
    "from statsmodels.tsa.arima_model import ARIMA"
   ]
  },
  {
   "cell_type": "markdown",
   "id": "3dd76cef",
   "metadata": {},
   "source": [
    "### Making Data Stationary"
   ]
  },
  {
   "cell_type": "code",
   "execution_count": 62,
   "id": "42269075",
   "metadata": {
    "ExecuteTime": {
     "end_time": "2023-01-24T16:48:33.289472Z",
     "start_time": "2023-01-24T16:48:33.251475Z"
    }
   },
   "outputs": [
    {
     "data": {
      "text/html": [
       "<div>\n",
       "<style scoped>\n",
       "    .dataframe tbody tr th:only-of-type {\n",
       "        vertical-align: middle;\n",
       "    }\n",
       "\n",
       "    .dataframe tbody tr th {\n",
       "        vertical-align: top;\n",
       "    }\n",
       "\n",
       "    .dataframe thead th {\n",
       "        text-align: right;\n",
       "    }\n",
       "</style>\n",
       "<table border=\"1\" class=\"dataframe\">\n",
       "  <thead>\n",
       "    <tr style=\"text-align: right;\">\n",
       "      <th></th>\n",
       "      <th>Sales</th>\n",
       "    </tr>\n",
       "    <tr>\n",
       "      <th>Date</th>\n",
       "      <th></th>\n",
       "    </tr>\n",
       "  </thead>\n",
       "  <tbody>\n",
       "    <tr>\n",
       "      <th>1986-01-01</th>\n",
       "      <td>1734.827000</td>\n",
       "    </tr>\n",
       "    <tr>\n",
       "      <th>1986-04-01</th>\n",
       "      <td>2244.960999</td>\n",
       "    </tr>\n",
       "    <tr>\n",
       "      <th>1986-07-01</th>\n",
       "      <td>2533.804993</td>\n",
       "    </tr>\n",
       "    <tr>\n",
       "      <th>1986-10-01</th>\n",
       "      <td>2154.962997</td>\n",
       "    </tr>\n",
       "    <tr>\n",
       "      <th>1987-01-01</th>\n",
       "      <td>1547.818996</td>\n",
       "    </tr>\n",
       "  </tbody>\n",
       "</table>\n",
       "</div>"
      ],
      "text/plain": [
       "                  Sales\n",
       "Date                   \n",
       "1986-01-01  1734.827000\n",
       "1986-04-01  2244.960999\n",
       "1986-07-01  2533.804993\n",
       "1986-10-01  2154.962997\n",
       "1987-01-01  1547.818996"
      ]
     },
     "execution_count": 62,
     "metadata": {},
     "output_type": "execute_result"
    }
   ],
   "source": [
    "data2 = data1[[\"Date\", \"Sales\"]]\n",
    "data2.to_csv(\"data3.csv\", index=False)\n",
    "series = read_csv(\"data3.csv\", index_col=0)\n",
    "series.head()"
   ]
  },
  {
   "cell_type": "code",
   "execution_count": 63,
   "id": "e4b49462",
   "metadata": {
    "ExecuteTime": {
     "end_time": "2023-01-24T16:48:33.947471Z",
     "start_time": "2023-01-24T16:48:33.743425Z"
    }
   },
   "outputs": [
    {
     "data": {
      "text/plain": [
       "<AxesSubplot:xlabel='Date'>"
      ]
     },
     "execution_count": 63,
     "metadata": {},
     "output_type": "execute_result"
    },
    {
     "data": {
      "image/png": "[encoded data removed]",
      "text/plain": [
       "<Figure size 640x480 with 1 Axes>"
      ]
     },
     "metadata": {},
     "output_type": "display_data"
    }
   ],
   "source": [
    "series.plot()"
   ]
  },
  {
   "cell_type": "markdown",
   "id": "e78f6551",
   "metadata": {},
   "source": [
    "### Evaluation of Stationary Data"
   ]
  },
  {
   "cell_type": "code",
   "execution_count": 64,
   "id": "e64acd78",
   "metadata": {
    "ExecuteTime": {
     "end_time": "2023-01-24T16:48:34.833151Z",
     "start_time": "2023-01-24T16:48:34.809138Z"
    }
   },
   "outputs": [],
   "source": [
    "from statsmodels.tsa.stattools import adfuller\n",
    "test_result=adfuller(series['Sales'])"
   ]
  },
  {
   "cell_type": "markdown",
   "id": "0f4d562a",
   "metadata": {},
   "source": [
    "#### Ho: It is non stationary.\n",
    "\n",
    "H1: It is stationary."
   ]
  },
  {
   "cell_type": "code",
   "execution_count": 65,
   "id": "088e0283",
   "metadata": {
    "ExecuteTime": {
     "end_time": "2023-01-24T16:48:35.852178Z",
     "start_time": "2023-01-24T16:48:35.828040Z"
    }
   },
   "outputs": [],
   "source": [
    "def adfuller_test(Sales):\n",
    "    result=adfuller(Sales)\n",
    "    labels = ['ADF Test Statistic','p-value','#Lags Used','Number of Observations Used']\n",
    "    for value,label in zip(result,labels):\n",
    "        print(label+' : '+str(value) )\n",
    "    if result[1] <= 0.05:\n",
    "        print(\"strong evidence against the null hypothesis(Ho), reject the null hypothesis. Data has no unit root and is stationary\")\n",
    "    else:\n",
    "        print(\"weak evidence against null hypothesis, time series has a unit root, indicating it is non-stationary \")"
   ]
  },
  {
   "cell_type": "code",
   "execution_count": 66,
   "id": "aa01d8a8",
   "metadata": {
    "ExecuteTime": {
     "end_time": "2023-01-24T16:48:36.358539Z",
     "start_time": "2023-01-24T16:48:36.334537Z"
    }
   },
   "outputs": [
    {
     "name": "stdout",
     "output_type": "stream",
     "text": [
      "ADF Test Statistic : 1.3094210180613524\n",
      "p-value : 0.9966611674081021\n",
      "#Lags Used : 7\n",
      "Number of Observations Used : 34\n",
      "weak evidence against null hypothesis, time series has a unit root, indicating it is non-stationary \n"
     ]
    }
   ],
   "source": [
    "adfuller_test(series['Sales'])"
   ]
  },
  {
   "cell_type": "markdown",
   "id": "70fce60e",
   "metadata": {},
   "source": [
    "### Log Transform"
   ]
  },
  {
   "cell_type": "code",
   "execution_count": 67,
   "id": "6fc11faf",
   "metadata": {
    "ExecuteTime": {
     "end_time": "2023-01-24T16:48:37.415359Z",
     "start_time": "2023-01-24T16:48:37.382662Z"
    }
   },
   "outputs": [
    {
     "data": {
      "text/html": [
       "<div>\n",
       "<style scoped>\n",
       "    .dataframe tbody tr th:only-of-type {\n",
       "        vertical-align: middle;\n",
       "    }\n",
       "\n",
       "    .dataframe tbody tr th {\n",
       "        vertical-align: top;\n",
       "    }\n",
       "\n",
       "    .dataframe thead th {\n",
       "        text-align: right;\n",
       "    }\n",
       "</style>\n",
       "<table border=\"1\" class=\"dataframe\">\n",
       "  <thead>\n",
       "    <tr style=\"text-align: right;\">\n",
       "      <th></th>\n",
       "      <th>Sales</th>\n",
       "      <th>log_Sales</th>\n",
       "    </tr>\n",
       "    <tr>\n",
       "      <th>Date</th>\n",
       "      <th></th>\n",
       "      <th></th>\n",
       "    </tr>\n",
       "  </thead>\n",
       "  <tbody>\n",
       "    <tr>\n",
       "      <th>1986-01-01</th>\n",
       "      <td>1734.827000</td>\n",
       "      <td>7.458663</td>\n",
       "    </tr>\n",
       "    <tr>\n",
       "      <th>1986-04-01</th>\n",
       "      <td>2244.960999</td>\n",
       "      <td>7.716443</td>\n",
       "    </tr>\n",
       "    <tr>\n",
       "      <th>1986-07-01</th>\n",
       "      <td>2533.804993</td>\n",
       "      <td>7.837477</td>\n",
       "    </tr>\n",
       "    <tr>\n",
       "      <th>1986-10-01</th>\n",
       "      <td>2154.962997</td>\n",
       "      <td>7.675529</td>\n",
       "    </tr>\n",
       "    <tr>\n",
       "      <th>1987-01-01</th>\n",
       "      <td>1547.818996</td>\n",
       "      <td>7.344602</td>\n",
       "    </tr>\n",
       "  </tbody>\n",
       "</table>\n",
       "</div>"
      ],
      "text/plain": [
       "                  Sales  log_Sales\n",
       "Date                              \n",
       "1986-01-01  1734.827000   7.458663\n",
       "1986-04-01  2244.960999   7.716443\n",
       "1986-07-01  2533.804993   7.837477\n",
       "1986-10-01  2154.962997   7.675529\n",
       "1987-01-01  1547.818996   7.344602"
      ]
     },
     "execution_count": 67,
     "metadata": {},
     "output_type": "execute_result"
    }
   ],
   "source": [
    "series['log_Sales'] = np.log(series['Sales'])\n",
    "series.head()"
   ]
  },
  {
   "cell_type": "code",
   "execution_count": 68,
   "id": "f5b7143f",
   "metadata": {
    "ExecuteTime": {
     "end_time": "2023-01-24T16:48:37.916984Z",
     "start_time": "2023-01-24T16:48:37.892893Z"
    }
   },
   "outputs": [
    {
     "name": "stdout",
     "output_type": "stream",
     "text": [
      "ADF Test Statistic : 0.19282044038830626\n",
      "p-value : 0.9718560272326244\n",
      "#Lags Used : 6\n",
      "Number of Observations Used : 35\n",
      "weak evidence against null hypothesis, time series has a unit root, indicating it is non-stationary \n"
     ]
    }
   ],
   "source": [
    "adfuller_test(series['log_Sales'])"
   ]
  },
  {
   "cell_type": "markdown",
   "id": "3f83e0e7",
   "metadata": {},
   "source": [
    "### Square Root Transform"
   ]
  },
  {
   "cell_type": "code",
   "execution_count": 69,
   "id": "e5d7bd66",
   "metadata": {
    "ExecuteTime": {
     "end_time": "2023-01-24T16:48:39.041924Z",
     "start_time": "2023-01-24T16:48:39.017546Z"
    }
   },
   "outputs": [
    {
     "data": {
      "text/html": [
       "<div>\n",
       "<style scoped>\n",
       "    .dataframe tbody tr th:only-of-type {\n",
       "        vertical-align: middle;\n",
       "    }\n",
       "\n",
       "    .dataframe tbody tr th {\n",
       "        vertical-align: top;\n",
       "    }\n",
       "\n",
       "    .dataframe thead th {\n",
       "        text-align: right;\n",
       "    }\n",
       "</style>\n",
       "<table border=\"1\" class=\"dataframe\">\n",
       "  <thead>\n",
       "    <tr style=\"text-align: right;\">\n",
       "      <th></th>\n",
       "      <th>Sales</th>\n",
       "      <th>log_Sales</th>\n",
       "      <th>sqrt_Sales</th>\n",
       "    </tr>\n",
       "    <tr>\n",
       "      <th>Date</th>\n",
       "      <th></th>\n",
       "      <th></th>\n",
       "      <th></th>\n",
       "    </tr>\n",
       "  </thead>\n",
       "  <tbody>\n",
       "    <tr>\n",
       "      <th>1986-01-01</th>\n",
       "      <td>1734.827000</td>\n",
       "      <td>7.458663</td>\n",
       "      <td>41.651254</td>\n",
       "    </tr>\n",
       "    <tr>\n",
       "      <th>1986-04-01</th>\n",
       "      <td>2244.960999</td>\n",
       "      <td>7.716443</td>\n",
       "      <td>47.381019</td>\n",
       "    </tr>\n",
       "    <tr>\n",
       "      <th>1986-07-01</th>\n",
       "      <td>2533.804993</td>\n",
       "      <td>7.837477</td>\n",
       "      <td>50.336915</td>\n",
       "    </tr>\n",
       "    <tr>\n",
       "      <th>1986-10-01</th>\n",
       "      <td>2154.962997</td>\n",
       "      <td>7.675529</td>\n",
       "      <td>46.421579</td>\n",
       "    </tr>\n",
       "    <tr>\n",
       "      <th>1987-01-01</th>\n",
       "      <td>1547.818996</td>\n",
       "      <td>7.344602</td>\n",
       "      <td>39.342331</td>\n",
       "    </tr>\n",
       "  </tbody>\n",
       "</table>\n",
       "</div>"
      ],
      "text/plain": [
       "                  Sales  log_Sales  sqrt_Sales\n",
       "Date                                          \n",
       "1986-01-01  1734.827000   7.458663   41.651254\n",
       "1986-04-01  2244.960999   7.716443   47.381019\n",
       "1986-07-01  2533.804993   7.837477   50.336915\n",
       "1986-10-01  2154.962997   7.675529   46.421579\n",
       "1987-01-01  1547.818996   7.344602   39.342331"
      ]
     },
     "execution_count": 69,
     "metadata": {},
     "output_type": "execute_result"
    }
   ],
   "source": [
    "series['sqrt_Sales'] = np.sqrt(series['Sales'])\n",
    "series.head()"
   ]
  },
  {
   "cell_type": "code",
   "execution_count": 70,
   "id": "0303fb52",
   "metadata": {
    "ExecuteTime": {
     "end_time": "2023-01-24T16:48:39.556344Z",
     "start_time": "2023-01-24T16:48:39.523975Z"
    }
   },
   "outputs": [
    {
     "name": "stdout",
     "output_type": "stream",
     "text": [
      "ADF Test Statistic : 0.828594117057878\n",
      "p-value : 0.9920839872020732\n",
      "#Lags Used : 6\n",
      "Number of Observations Used : 35\n",
      "weak evidence against null hypothesis, time series has a unit root, indicating it is non-stationary \n"
     ]
    }
   ],
   "source": [
    "adfuller_test(series['sqrt_Sales'])"
   ]
  },
  {
   "cell_type": "markdown",
   "id": "030c801b",
   "metadata": {},
   "source": [
    "### Combination of SQRT and LOG Transform"
   ]
  },
  {
   "cell_type": "code",
   "execution_count": 71,
   "id": "4a3399d0",
   "metadata": {
    "ExecuteTime": {
     "end_time": "2023-01-24T16:48:40.579356Z",
     "start_time": "2023-01-24T16:48:40.547794Z"
    }
   },
   "outputs": [
    {
     "data": {
      "text/html": [
       "<div>\n",
       "<style scoped>\n",
       "    .dataframe tbody tr th:only-of-type {\n",
       "        vertical-align: middle;\n",
       "    }\n",
       "\n",
       "    .dataframe tbody tr th {\n",
       "        vertical-align: top;\n",
       "    }\n",
       "\n",
       "    .dataframe thead th {\n",
       "        text-align: right;\n",
       "    }\n",
       "</style>\n",
       "<table border=\"1\" class=\"dataframe\">\n",
       "  <thead>\n",
       "    <tr style=\"text-align: right;\">\n",
       "      <th></th>\n",
       "      <th>Sales</th>\n",
       "      <th>log_Sales</th>\n",
       "      <th>sqrt_Sales</th>\n",
       "      <th>comb_Sales</th>\n",
       "    </tr>\n",
       "    <tr>\n",
       "      <th>Date</th>\n",
       "      <th></th>\n",
       "      <th></th>\n",
       "      <th></th>\n",
       "      <th></th>\n",
       "    </tr>\n",
       "  </thead>\n",
       "  <tbody>\n",
       "    <tr>\n",
       "      <th>1986-01-01</th>\n",
       "      <td>1734.827000</td>\n",
       "      <td>7.458663</td>\n",
       "      <td>41.651254</td>\n",
       "      <td>2.731055</td>\n",
       "    </tr>\n",
       "    <tr>\n",
       "      <th>1986-04-01</th>\n",
       "      <td>2244.960999</td>\n",
       "      <td>7.716443</td>\n",
       "      <td>47.381019</td>\n",
       "      <td>2.777849</td>\n",
       "    </tr>\n",
       "    <tr>\n",
       "      <th>1986-07-01</th>\n",
       "      <td>2533.804993</td>\n",
       "      <td>7.837477</td>\n",
       "      <td>50.336915</td>\n",
       "      <td>2.799549</td>\n",
       "    </tr>\n",
       "    <tr>\n",
       "      <th>1986-10-01</th>\n",
       "      <td>2154.962997</td>\n",
       "      <td>7.675529</td>\n",
       "      <td>46.421579</td>\n",
       "      <td>2.770474</td>\n",
       "    </tr>\n",
       "    <tr>\n",
       "      <th>1987-01-01</th>\n",
       "      <td>1547.818996</td>\n",
       "      <td>7.344602</td>\n",
       "      <td>39.342331</td>\n",
       "      <td>2.710093</td>\n",
       "    </tr>\n",
       "  </tbody>\n",
       "</table>\n",
       "</div>"
      ],
      "text/plain": [
       "                  Sales  log_Sales  sqrt_Sales  comb_Sales\n",
       "Date                                                      \n",
       "1986-01-01  1734.827000   7.458663   41.651254    2.731055\n",
       "1986-04-01  2244.960999   7.716443   47.381019    2.777849\n",
       "1986-07-01  2533.804993   7.837477   50.336915    2.799549\n",
       "1986-10-01  2154.962997   7.675529   46.421579    2.770474\n",
       "1987-01-01  1547.818996   7.344602   39.342331    2.710093"
      ]
     },
     "execution_count": 71,
     "metadata": {},
     "output_type": "execute_result"
    }
   ],
   "source": [
    "from numpy import sqrt\n",
    "from numpy import log\n",
    "\n",
    "series['comb_Sales'] = sqrt(log(series['Sales']))\n",
    "series.head()"
   ]
  },
  {
   "cell_type": "code",
   "execution_count": 72,
   "id": "850a599c",
   "metadata": {
    "ExecuteTime": {
     "end_time": "2023-01-24T16:48:41.152833Z",
     "start_time": "2023-01-24T16:48:41.120746Z"
    }
   },
   "outputs": [
    {
     "name": "stdout",
     "output_type": "stream",
     "text": [
      "ADF Test Statistic : 0.10566372750551696\n",
      "p-value : 0.9664456623872838\n",
      "#Lags Used : 6\n",
      "Number of Observations Used : 35\n",
      "weak evidence against null hypothesis, time series has a unit root, indicating it is non-stationary \n"
     ]
    }
   ],
   "source": [
    "adfuller_test(series['comb_Sales'])"
   ]
  },
  {
   "cell_type": "markdown",
   "id": "0b9a7302",
   "metadata": {},
   "source": [
    "### Differencing"
   ]
  },
  {
   "cell_type": "code",
   "execution_count": 73,
   "id": "f2f3c27f",
   "metadata": {
    "ExecuteTime": {
     "end_time": "2023-01-24T16:48:42.280874Z",
     "start_time": "2023-01-24T16:48:42.256295Z"
    }
   },
   "outputs": [
    {
     "data": {
      "text/html": [
       "<div>\n",
       "<style scoped>\n",
       "    .dataframe tbody tr th:only-of-type {\n",
       "        vertical-align: middle;\n",
       "    }\n",
       "\n",
       "    .dataframe tbody tr th {\n",
       "        vertical-align: top;\n",
       "    }\n",
       "\n",
       "    .dataframe thead th {\n",
       "        text-align: right;\n",
       "    }\n",
       "</style>\n",
       "<table border=\"1\" class=\"dataframe\">\n",
       "  <thead>\n",
       "    <tr style=\"text-align: right;\">\n",
       "      <th></th>\n",
       "      <th>Sales</th>\n",
       "      <th>log_Sales</th>\n",
       "      <th>sqrt_Sales</th>\n",
       "      <th>comb_Sales</th>\n",
       "      <th>Seasonal_Difference</th>\n",
       "    </tr>\n",
       "    <tr>\n",
       "      <th>Date</th>\n",
       "      <th></th>\n",
       "      <th></th>\n",
       "      <th></th>\n",
       "      <th></th>\n",
       "      <th></th>\n",
       "    </tr>\n",
       "  </thead>\n",
       "  <tbody>\n",
       "    <tr>\n",
       "      <th>1986-01-01</th>\n",
       "      <td>1734.827000</td>\n",
       "      <td>7.458663</td>\n",
       "      <td>41.651254</td>\n",
       "      <td>2.731055</td>\n",
       "      <td>NaN</td>\n",
       "    </tr>\n",
       "    <tr>\n",
       "      <th>1986-04-01</th>\n",
       "      <td>2244.960999</td>\n",
       "      <td>7.716443</td>\n",
       "      <td>47.381019</td>\n",
       "      <td>2.777849</td>\n",
       "      <td>NaN</td>\n",
       "    </tr>\n",
       "    <tr>\n",
       "      <th>1986-07-01</th>\n",
       "      <td>2533.804993</td>\n",
       "      <td>7.837477</td>\n",
       "      <td>50.336915</td>\n",
       "      <td>2.799549</td>\n",
       "      <td>NaN</td>\n",
       "    </tr>\n",
       "    <tr>\n",
       "      <th>1986-10-01</th>\n",
       "      <td>2154.962997</td>\n",
       "      <td>7.675529</td>\n",
       "      <td>46.421579</td>\n",
       "      <td>2.770474</td>\n",
       "      <td>NaN</td>\n",
       "    </tr>\n",
       "    <tr>\n",
       "      <th>1987-01-01</th>\n",
       "      <td>1547.818996</td>\n",
       "      <td>7.344602</td>\n",
       "      <td>39.342331</td>\n",
       "      <td>2.710093</td>\n",
       "      <td>-187.008004</td>\n",
       "    </tr>\n",
       "    <tr>\n",
       "      <th>1987-04-01</th>\n",
       "      <td>2104.411995</td>\n",
       "      <td>7.651791</td>\n",
       "      <td>45.873871</td>\n",
       "      <td>2.766187</td>\n",
       "      <td>-140.549004</td>\n",
       "    </tr>\n",
       "  </tbody>\n",
       "</table>\n",
       "</div>"
      ],
      "text/plain": [
       "                  Sales  log_Sales  sqrt_Sales  comb_Sales  \\\n",
       "Date                                                         \n",
       "1986-01-01  1734.827000   7.458663   41.651254    2.731055   \n",
       "1986-04-01  2244.960999   7.716443   47.381019    2.777849   \n",
       "1986-07-01  2533.804993   7.837477   50.336915    2.799549   \n",
       "1986-10-01  2154.962997   7.675529   46.421579    2.770474   \n",
       "1987-01-01  1547.818996   7.344602   39.342331    2.710093   \n",
       "1987-04-01  2104.411995   7.651791   45.873871    2.766187   \n",
       "\n",
       "            Seasonal_Difference  \n",
       "Date                             \n",
       "1986-01-01                  NaN  \n",
       "1986-04-01                  NaN  \n",
       "1986-07-01                  NaN  \n",
       "1986-10-01                  NaN  \n",
       "1987-01-01          -187.008004  \n",
       "1987-04-01          -140.549004  "
      ]
     },
     "execution_count": 73,
     "metadata": {},
     "output_type": "execute_result"
    }
   ],
   "source": [
    "series['Seasonal_Difference']=series['Sales']-series['Sales'].shift(4)\n",
    "series.head(6)"
   ]
  },
  {
   "cell_type": "code",
   "execution_count": 74,
   "id": "16e0b6ad",
   "metadata": {
    "ExecuteTime": {
     "end_time": "2023-01-24T16:48:42.781515Z",
     "start_time": "2023-01-24T16:48:42.748805Z"
    }
   },
   "outputs": [
    {
     "name": "stdout",
     "output_type": "stream",
     "text": [
      "ADF Test Statistic : -2.6101117501343674\n",
      "p-value : 0.09092533175538114\n",
      "#Lags Used : 0\n",
      "Number of Observations Used : 37\n",
      "weak evidence against null hypothesis, time series has a unit root, indicating it is non-stationary \n"
     ]
    }
   ],
   "source": [
    "adfuller_test(series['Seasonal_Difference'].dropna())"
   ]
  },
  {
   "cell_type": "markdown",
   "id": "3d28b196",
   "metadata": {},
   "source": [
    "### Combination of Log Transform with Differencing"
   ]
  },
  {
   "cell_type": "code",
   "execution_count": 75,
   "id": "8c01bcbe",
   "metadata": {
    "ExecuteTime": {
     "end_time": "2023-01-24T16:48:43.822919Z",
     "start_time": "2023-01-24T16:48:43.790003Z"
    }
   },
   "outputs": [
    {
     "data": {
      "text/html": [
       "<div>\n",
       "<style scoped>\n",
       "    .dataframe tbody tr th:only-of-type {\n",
       "        vertical-align: middle;\n",
       "    }\n",
       "\n",
       "    .dataframe tbody tr th {\n",
       "        vertical-align: top;\n",
       "    }\n",
       "\n",
       "    .dataframe thead th {\n",
       "        text-align: right;\n",
       "    }\n",
       "</style>\n",
       "<table border=\"1\" class=\"dataframe\">\n",
       "  <thead>\n",
       "    <tr style=\"text-align: right;\">\n",
       "      <th></th>\n",
       "      <th>Sales</th>\n",
       "      <th>log_Sales</th>\n",
       "      <th>sqrt_Sales</th>\n",
       "      <th>comb_Sales</th>\n",
       "      <th>Seasonal_Difference</th>\n",
       "      <th>log_Sales_Difference</th>\n",
       "    </tr>\n",
       "    <tr>\n",
       "      <th>Date</th>\n",
       "      <th></th>\n",
       "      <th></th>\n",
       "      <th></th>\n",
       "      <th></th>\n",
       "      <th></th>\n",
       "      <th></th>\n",
       "    </tr>\n",
       "  </thead>\n",
       "  <tbody>\n",
       "    <tr>\n",
       "      <th>1986-01-01</th>\n",
       "      <td>1734.827000</td>\n",
       "      <td>7.458663</td>\n",
       "      <td>41.651254</td>\n",
       "      <td>2.731055</td>\n",
       "      <td>NaN</td>\n",
       "      <td>NaN</td>\n",
       "    </tr>\n",
       "    <tr>\n",
       "      <th>1986-04-01</th>\n",
       "      <td>2244.960999</td>\n",
       "      <td>7.716443</td>\n",
       "      <td>47.381019</td>\n",
       "      <td>2.777849</td>\n",
       "      <td>NaN</td>\n",
       "      <td>NaN</td>\n",
       "    </tr>\n",
       "    <tr>\n",
       "      <th>1986-07-01</th>\n",
       "      <td>2533.804993</td>\n",
       "      <td>7.837477</td>\n",
       "      <td>50.336915</td>\n",
       "      <td>2.799549</td>\n",
       "      <td>NaN</td>\n",
       "      <td>NaN</td>\n",
       "    </tr>\n",
       "    <tr>\n",
       "      <th>1986-10-01</th>\n",
       "      <td>2154.962997</td>\n",
       "      <td>7.675529</td>\n",
       "      <td>46.421579</td>\n",
       "      <td>2.770474</td>\n",
       "      <td>NaN</td>\n",
       "      <td>NaN</td>\n",
       "    </tr>\n",
       "    <tr>\n",
       "      <th>1987-01-01</th>\n",
       "      <td>1547.818996</td>\n",
       "      <td>7.344602</td>\n",
       "      <td>39.342331</td>\n",
       "      <td>2.710093</td>\n",
       "      <td>-187.008004</td>\n",
       "      <td>-0.114061</td>\n",
       "    </tr>\n",
       "    <tr>\n",
       "      <th>1987-04-01</th>\n",
       "      <td>2104.411995</td>\n",
       "      <td>7.651791</td>\n",
       "      <td>45.873871</td>\n",
       "      <td>2.766187</td>\n",
       "      <td>-140.549004</td>\n",
       "      <td>-0.064652</td>\n",
       "    </tr>\n",
       "  </tbody>\n",
       "</table>\n",
       "</div>"
      ],
      "text/plain": [
       "                  Sales  log_Sales  sqrt_Sales  comb_Sales  \\\n",
       "Date                                                         \n",
       "1986-01-01  1734.827000   7.458663   41.651254    2.731055   \n",
       "1986-04-01  2244.960999   7.716443   47.381019    2.777849   \n",
       "1986-07-01  2533.804993   7.837477   50.336915    2.799549   \n",
       "1986-10-01  2154.962997   7.675529   46.421579    2.770474   \n",
       "1987-01-01  1547.818996   7.344602   39.342331    2.710093   \n",
       "1987-04-01  2104.411995   7.651791   45.873871    2.766187   \n",
       "\n",
       "            Seasonal_Difference  log_Sales_Difference  \n",
       "Date                                                   \n",
       "1986-01-01                  NaN                   NaN  \n",
       "1986-04-01                  NaN                   NaN  \n",
       "1986-07-01                  NaN                   NaN  \n",
       "1986-10-01                  NaN                   NaN  \n",
       "1987-01-01          -187.008004             -0.114061  \n",
       "1987-04-01          -140.549004             -0.064652  "
      ]
     },
     "execution_count": 75,
     "metadata": {},
     "output_type": "execute_result"
    }
   ],
   "source": [
    "series['log_Sales_Difference']=series['log_Sales']-series['log_Sales'].shift(4)\n",
    "series.head(6)"
   ]
  },
  {
   "cell_type": "code",
   "execution_count": 76,
   "id": "1eea48af",
   "metadata": {
    "ExecuteTime": {
     "end_time": "2023-01-24T16:48:44.318405Z",
     "start_time": "2023-01-24T16:48:44.298683Z"
    }
   },
   "outputs": [
    {
     "name": "stdout",
     "output_type": "stream",
     "text": [
      "ADF Test Statistic : -5.238545700222842\n",
      "p-value : 7.3311859749547446e-06\n",
      "#Lags Used : 2\n",
      "Number of Observations Used : 35\n",
      "strong evidence against the null hypothesis(Ho), reject the null hypothesis. Data has no unit root and is stationary\n"
     ]
    }
   ],
   "source": [
    "adfuller_test(series['log_Sales_Difference'].dropna())"
   ]
  },
  {
   "cell_type": "code",
   "execution_count": 77,
   "id": "c85a1be3",
   "metadata": {
    "ExecuteTime": {
     "end_time": "2023-01-24T16:48:45.564638Z",
     "start_time": "2023-01-24T16:48:45.231567Z"
    }
   },
   "outputs": [
    {
     "data": {
      "image/png": "[encoded data removed]",
      "text/plain": [
       "<Figure size 640x480 with 1 Axes>"
      ]
     },
     "metadata": {},
     "output_type": "display_data"
    }
   ],
   "source": [
    "plt.plot(series['log_Sales_Difference'])\n",
    "plt.show()"
   ]
  },
  {
   "cell_type": "markdown",
   "id": "f1d00a1a",
   "metadata": {},
   "source": [
    "### Splitting Data"
   ]
  },
  {
   "cell_type": "code",
   "execution_count": 78,
   "id": "b615be08",
   "metadata": {
    "ExecuteTime": {
     "end_time": "2023-01-24T16:48:46.445542Z",
     "start_time": "2023-01-24T16:48:46.420998Z"
    }
   },
   "outputs": [
    {
     "name": "stdout",
     "output_type": "stream",
     "text": [
      "dataset 38, validation 4\n"
     ]
    }
   ],
   "source": [
    "series1 = read_csv(\"data3.csv\", index_col=0)\n",
    "split_point = len(series1)-4\n",
    "dataset, validation = series1[0:split_point], series1[split_point:]\n",
    "print(\"dataset %d, validation %d\" % (len(dataset), len(validation)))"
   ]
  },
  {
   "cell_type": "code",
   "execution_count": 79,
   "id": "3d11345f",
   "metadata": {
    "ExecuteTime": {
     "end_time": "2023-01-24T16:48:46.949899Z",
     "start_time": "2023-01-24T16:48:46.933844Z"
    }
   },
   "outputs": [],
   "source": [
    "dataset.to_csv(\"dataset.csv\", header=False)\n",
    "validation.to_csv(\"validation.csv\", header=False)"
   ]
  },
  {
   "cell_type": "markdown",
   "id": "0b648107",
   "metadata": {},
   "source": [
    "### Persistence/ Base model"
   ]
  },
  {
   "cell_type": "code",
   "execution_count": 80,
   "id": "81ec8070",
   "metadata": {
    "ExecuteTime": {
     "end_time": "2023-01-24T16:48:48.072518Z",
     "start_time": "2023-01-24T16:48:48.048990Z"
    }
   },
   "outputs": [],
   "source": [
    "train = read_csv(\"dataset.csv\", header=None, index_col=0, parse_dates=True, squeeze=True)\n",
    "\n",
    "X = train.values\n",
    "X = X.astype(\"float32\")\n",
    "train_size = int(len(X) * 0.50)\n",
    "train, test = X[0:train_size], X[train_size:]"
   ]
  },
  {
   "cell_type": "code",
   "execution_count": 81,
   "id": "faf9cec3",
   "metadata": {
    "ExecuteTime": {
     "end_time": "2023-01-24T16:48:48.607310Z",
     "start_time": "2023-01-24T16:48:48.590841Z"
    }
   },
   "outputs": [
    {
     "name": "stdout",
     "output_type": "stream",
     "text": [
      ">Predicted=2792.754, Expected=2556.010\n",
      ">Predicted=2556.010, Expected=2480.974\n",
      ">Predicted=2480.974, Expected=3039.523\n",
      ">Predicted=3039.523, Expected=3172.116\n",
      ">Predicted=3172.116, Expected=2879.001\n",
      ">Predicted=2879.001, Expected=2772.000\n",
      ">Predicted=2772.000, Expected=3550.000\n",
      ">Predicted=3550.000, Expected=3508.000\n",
      ">Predicted=3508.000, Expected=3243.860\n",
      ">Predicted=3243.860, Expected=3056.000\n",
      ">Predicted=3056.000, Expected=3899.000\n",
      ">Predicted=3899.000, Expected=3629.000\n",
      ">Predicted=3629.000, Expected=3373.000\n",
      ">Predicted=3373.000, Expected=3352.000\n",
      ">Predicted=3352.000, Expected=4342.000\n",
      ">Predicted=4342.000, Expected=4461.000\n",
      ">Predicted=4461.000, Expected=4017.000\n",
      ">Predicted=4017.000, Expected=3854.000\n",
      ">Predicted=3854.000, Expected=4936.000\n",
      "RMSE: 483.351\n"
     ]
    }
   ],
   "source": [
    "history = [X for X in train]\n",
    "predictions = list()\n",
    "\n",
    "for i in range (len(test)):\n",
    "    yhat = history[-1]\n",
    "    predictions.append(yhat)\n",
    "    \n",
    "    obs = test[i]\n",
    "    history.append(obs) \n",
    "    print(\">Predicted=%.3f, Expected=%.3f\" % (yhat, obs))\n",
    "        \n",
    "rmse = sqrt(mean_squared_error(test, predictions))\n",
    "print(\"RMSE: %.3f\" % rmse)"
   ]
  },
  {
   "cell_type": "markdown",
   "id": "1d7c4e06",
   "metadata": {},
   "source": [
    "### ARIMA Hyperparameters"
   ]
  },
  {
   "cell_type": "code",
   "execution_count": 82,
   "id": "6f467806",
   "metadata": {
    "ExecuteTime": {
     "end_time": "2023-01-24T16:48:49.741599Z",
     "start_time": "2023-01-24T16:48:49.717310Z"
    }
   },
   "outputs": [],
   "source": [
    "def evaluate_arima_model(X, arima_order):\n",
    "    X = X.astype(\"float32\")\n",
    "    train_size = int(len(X) * 0.50)\n",
    "    train, test = X[0:train_size], X[train_size:]\n",
    "    \n",
    "    history = [X for X in train]\n",
    "    predictions = list()\n",
    "    \n",
    "    for t in range(len(test)):\n",
    "        model = ARIMA(history, order=arima_order)\n",
    "        model_fit = model.fit(disp=0)\n",
    "        yhat = model_fit.forecast()[0]\n",
    "        predictions.append(yhat)\n",
    "        history.append(test[t])\n",
    "    rmse = sqrt(mean_squared_error(test, predictions))\n",
    "    return rmse"
   ]
  },
  {
   "cell_type": "markdown",
   "id": "7a2be7b7",
   "metadata": {},
   "source": [
    "### Grid search for p,d,q values"
   ]
  },
  {
   "cell_type": "code",
   "execution_count": 83,
   "id": "b9ee553f",
   "metadata": {
    "ExecuteTime": {
     "end_time": "2023-01-24T16:48:51.241187Z",
     "start_time": "2023-01-24T16:48:51.225040Z"
    }
   },
   "outputs": [],
   "source": [
    "def evaluate_models(dataset, p_values, d_values, q_values):\n",
    "    dataset = dataset.astype(\"float32\")\n",
    "    best_score, best_cfg = float(\"inf\"), None\n",
    "    for p in p_values:\n",
    "        for d in d_values:\n",
    "            for q in q_values:\n",
    "                order = (p, d, q)\n",
    "                try:\n",
    "                    rmse = evaluate_arima_model(train, order)\n",
    "                    if rmse < best_score:\n",
    "                        best_score, best_cfg = rmse, order\n",
    "                    print(\"ARIMA%S RMSE=%.3f\" % (order, rmse))\n",
    "                except:\n",
    "                    continue\n",
    "    print(\"Best ARIMA%s RMSE=%.3f\" % (best_cfg, best_score))"
   ]
  },
  {
   "cell_type": "code",
   "execution_count": 84,
   "id": "7d9cc0b4",
   "metadata": {
    "ExecuteTime": {
     "end_time": "2023-01-24T16:48:51.879916Z",
     "start_time": "2023-01-24T16:48:51.809877Z"
    }
   },
   "outputs": [
    {
     "name": "stdout",
     "output_type": "stream",
     "text": [
      "Best ARIMANone RMSE=inf\n"
     ]
    }
   ],
   "source": [
    "train = read_csv('dataset.csv', header=None, index_col=0, parse_dates=True, squeeze=True)\n",
    "p_values = range(0, 5)\n",
    "d_values = range(0, 5)\n",
    "q_values = range(0, 5)\n",
    "evaluate_models(train.values, p_values, d_values, q_values)"
   ]
  },
  {
   "cell_type": "markdown",
   "id": "24af5045",
   "metadata": {},
   "source": [
    "### Build Model based on the optimized values"
   ]
  },
  {
   "cell_type": "code",
   "execution_count": 85,
   "id": "cf78e7d8",
   "metadata": {
    "ExecuteTime": {
     "end_time": "2023-01-24T16:48:53.003237Z",
     "start_time": "2023-01-24T16:48:52.970373Z"
    }
   },
   "outputs": [],
   "source": [
    "train = read_csv('dataset.csv', header=None, index_col=0, parse_dates=True, squeeze=True)\n",
    "X = train.values\n",
    "X = X.astype(\"float32\")\n",
    "test = read_csv('validation.csv', header=None, index_col=0, parse_dates=True, squeeze=True)"
   ]
  },
  {
   "cell_type": "code",
   "execution_count": 86,
   "id": "ddbe3dac",
   "metadata": {
    "ExecuteTime": {
     "end_time": "2023-01-24T16:48:53.757249Z",
     "start_time": "2023-01-24T16:48:53.538160Z"
    }
   },
   "outputs": [
    {
     "data": {
      "text/plain": [
       "4991.131940050793"
      ]
     },
     "execution_count": 86,
     "metadata": {},
     "output_type": "execute_result"
    }
   ],
   "source": [
    "from statsmodels.tsa.arima.model import ARIMA\n",
    "model_arima = ARIMA(X, order=(4, 1, 0)).fit()\n",
    "forecast = model_arima.forecast(steps=4)[0]\n",
    "forecast"
   ]
  },
  {
   "cell_type": "code",
   "execution_count": 87,
   "id": "0a7d4cd3",
   "metadata": {
    "ExecuteTime": {
     "end_time": "2023-01-24T16:48:54.113417Z",
     "start_time": "2023-01-24T16:48:54.089333Z"
    }
   },
   "outputs": [
    {
     "data": {
      "text/plain": [
       "658.1319400507928"
      ]
     },
     "execution_count": 87,
     "metadata": {},
     "output_type": "execute_result"
    }
   ],
   "source": [
    "rmse_arima = RMSE(forecast, test[1])\n",
    "rmse_arima"
   ]
  },
  {
   "cell_type": "code",
   "execution_count": 88,
   "id": "d97f468c",
   "metadata": {
    "ExecuteTime": {
     "end_time": "2023-01-24T16:48:54.699531Z",
     "start_time": "2023-01-24T16:48:54.679427Z"
    }
   },
   "outputs": [
    {
     "data": {
      "text/plain": [
       "15.188828526443404"
      ]
     },
     "execution_count": 88,
     "metadata": {},
     "output_type": "execute_result"
    }
   ],
   "source": [
    "mape_arima = MAPE(forecast, test[1])\n",
    "mape_arima"
   ]
  },
  {
   "cell_type": "markdown",
   "id": "3c1317d4",
   "metadata": {},
   "source": [
    "### Conclusion"
   ]
  },
  {
   "cell_type": "code",
   "execution_count": 89,
   "id": "4f9d8e81",
   "metadata": {
    "ExecuteTime": {
     "end_time": "2023-01-24T16:48:55.963385Z",
     "start_time": "2023-01-24T16:48:55.939308Z"
    }
   },
   "outputs": [],
   "source": [
    "output = pd.DataFrame({\"Models\": pd.Series([\"model_linear\", \"model_expo\", \"model_quad\", \"model_add_seas\", \"model_add_seas_quad\", \"model_mul_seas\", \"model_mul_add_seas\", \"model_simple_expo\", \"model_holt\", \"model_holt_expo\", \"model_arima\"]),\n",
    "                      \"RMSE_values\": pd.Series([rmse_linear, rmse_expo, rmse_quad, rmse_add_seas, rmse_add_seas_quad, rmse_mul_seas, rmse_mul_add_seas, rmse_simple_expo, rmse_holt, rmse_holt_expo, rmse_arima]),\n",
    "                      \"MAPE_values\": pd.Series([mape_linear, mape_expo, mape_quad, mape_add_seas, mape_add_seas_quad, mape_mul_seas, mape_mul_add_seas, mape_simple_expo, mape_holt, mape_holt_expo, mape_arima])})"
   ]
  },
  {
   "cell_type": "code",
   "execution_count": 90,
   "id": "66eef7cf",
   "metadata": {
    "ExecuteTime": {
     "end_time": "2023-01-24T16:48:57.232848Z",
     "start_time": "2023-01-24T16:48:57.208328Z"
    }
   },
   "outputs": [
    {
     "data": {
      "text/html": [
       "<div>\n",
       "<style scoped>\n",
       "    .dataframe tbody tr th:only-of-type {\n",
       "        vertical-align: middle;\n",
       "    }\n",
       "\n",
       "    .dataframe tbody tr th {\n",
       "        vertical-align: top;\n",
       "    }\n",
       "\n",
       "    .dataframe thead th {\n",
       "        text-align: right;\n",
       "    }\n",
       "</style>\n",
       "<table border=\"1\" class=\"dataframe\">\n",
       "  <thead>\n",
       "    <tr style=\"text-align: right;\">\n",
       "      <th></th>\n",
       "      <th>Models</th>\n",
       "      <th>RMSE_values</th>\n",
       "      <th>MAPE_values</th>\n",
       "    </tr>\n",
       "  </thead>\n",
       "  <tbody>\n",
       "    <tr>\n",
       "      <th>9</th>\n",
       "      <td>model_holt_expo</td>\n",
       "      <td>137.010949</td>\n",
       "      <td>2.829358</td>\n",
       "    </tr>\n",
       "    <tr>\n",
       "      <th>6</th>\n",
       "      <td>model_mul_add_seas</td>\n",
       "      <td>225.524391</td>\n",
       "      <td>4.466641</td>\n",
       "    </tr>\n",
       "    <tr>\n",
       "      <th>4</th>\n",
       "      <td>model_add_seas_quad</td>\n",
       "      <td>301.738007</td>\n",
       "      <td>5.763698</td>\n",
       "    </tr>\n",
       "    <tr>\n",
       "      <th>1</th>\n",
       "      <td>model_expo</td>\n",
       "      <td>466.247973</td>\n",
       "      <td>8.339472</td>\n",
       "    </tr>\n",
       "    <tr>\n",
       "      <th>2</th>\n",
       "      <td>model_quad</td>\n",
       "      <td>475.561835</td>\n",
       "      <td>9.177743</td>\n",
       "    </tr>\n",
       "    <tr>\n",
       "      <th>8</th>\n",
       "      <td>model_holt</td>\n",
       "      <td>576.443906</td>\n",
       "      <td>10.079274</td>\n",
       "    </tr>\n",
       "    <tr>\n",
       "      <th>0</th>\n",
       "      <td>model_linear</td>\n",
       "      <td>591.553296</td>\n",
       "      <td>9.338622</td>\n",
       "    </tr>\n",
       "    <tr>\n",
       "      <th>10</th>\n",
       "      <td>model_arima</td>\n",
       "      <td>658.131940</td>\n",
       "      <td>15.188829</td>\n",
       "    </tr>\n",
       "    <tr>\n",
       "      <th>7</th>\n",
       "      <td>model_simple_expo</td>\n",
       "      <td>776.480431</td>\n",
       "      <td>13.169737</td>\n",
       "    </tr>\n",
       "    <tr>\n",
       "      <th>3</th>\n",
       "      <td>model_add_seas</td>\n",
       "      <td>1860.023815</td>\n",
       "      <td>39.609867</td>\n",
       "    </tr>\n",
       "    <tr>\n",
       "      <th>5</th>\n",
       "      <td>model_mul_seas</td>\n",
       "      <td>1963.389640</td>\n",
       "      <td>41.792122</td>\n",
       "    </tr>\n",
       "  </tbody>\n",
       "</table>\n",
       "</div>"
      ],
      "text/plain": [
       "                 Models  RMSE_values  MAPE_values\n",
       "9       model_holt_expo   137.010949     2.829358\n",
       "6    model_mul_add_seas   225.524391     4.466641\n",
       "4   model_add_seas_quad   301.738007     5.763698\n",
       "1            model_expo   466.247973     8.339472\n",
       "2            model_quad   475.561835     9.177743\n",
       "8            model_holt   576.443906    10.079274\n",
       "0          model_linear   591.553296     9.338622\n",
       "10          model_arima   658.131940    15.188829\n",
       "7     model_simple_expo   776.480431    13.169737\n",
       "3        model_add_seas  1860.023815    39.609867\n",
       "5        model_mul_seas  1963.389640    41.792122"
      ]
     },
     "execution_count": 90,
     "metadata": {},
     "output_type": "execute_result"
    }
   ],
   "source": [
    "output.sort_values([\"RMSE_values\"])"
   ]
  },
  {
   "cell_type": "markdown",
   "id": "e34aced5",
   "metadata": {},
   "source": [
    "#### Conclusion\n",
    "Model no 9 - 'model_holt_expo' built with 'Holts winter exponential smoothing' method gives the best RMSE and MAPE values, hence this is the best model for Forecasting of CocaCola Sales dataset."
   ]
  },
  {
   "cell_type": "code",
   "execution_count": null,
   "id": "09ed0852",
   "metadata": {},
   "outputs": [],
   "source": []
  }
 ],
 "metadata": {
  "kernelspec": {
   "display_name": "Python 3 (ipykernel)",
   "language": "python",
   "name": "python3"
  },
  "language_info": {
   "codemirror_mode": {
    "name": "ipython",
    "version": 3
   },
   "file_extension": ".py",
   "mimetype": "text/x-python",
   "name": "python",
   "nbconvert_exporter": "python",
   "pygments_lexer": "ipython3",
   "version": "3.9.13"
  }
 },
 "nbformat": 4,
 "nbformat_minor": 5
}
