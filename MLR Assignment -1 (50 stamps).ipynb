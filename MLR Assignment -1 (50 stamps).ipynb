{
 "cells": [
  {
   "cell_type": "code",
   "execution_count": 39,
   "id": "d503c164",
   "metadata": {
    "ExecuteTime": {
     "end_time": "2023-01-26T11:03:12.897058Z",
     "start_time": "2023-01-26T11:03:12.890850Z"
    }
   },
   "outputs": [],
   "source": [
    "import pandas as pd \n",
    "import numpy as np\n",
    "import matplotlib.pyplot as plt\n"
   ]
  },
  {
   "cell_type": "code",
   "execution_count": 40,
   "id": "da153495",
   "metadata": {
    "ExecuteTime": {
     "end_time": "2023-01-26T11:03:13.502522Z",
     "start_time": "2023-01-26T11:03:13.476235Z"
    }
   },
   "outputs": [],
   "source": [
    "df= pd.read_csv('50_Startups.csv')"
   ]
  },
  {
   "cell_type": "code",
   "execution_count": 41,
   "id": "7168972a",
   "metadata": {
    "ExecuteTime": {
     "end_time": "2023-01-26T11:03:14.238748Z",
     "start_time": "2023-01-26T11:03:14.196106Z"
    }
   },
   "outputs": [
    {
     "data": {
      "text/html": [
       "<div>\n",
       "<style scoped>\n",
       "    .dataframe tbody tr th:only-of-type {\n",
       "        vertical-align: middle;\n",
       "    }\n",
       "\n",
       "    .dataframe tbody tr th {\n",
       "        vertical-align: top;\n",
       "    }\n",
       "\n",
       "    .dataframe thead th {\n",
       "        text-align: right;\n",
       "    }\n",
       "</style>\n",
       "<table border=\"1\" class=\"dataframe\">\n",
       "  <thead>\n",
       "    <tr style=\"text-align: right;\">\n",
       "      <th></th>\n",
       "      <th>R&amp;D Spend</th>\n",
       "      <th>Administration</th>\n",
       "      <th>Marketing Spend</th>\n",
       "      <th>State</th>\n",
       "      <th>Profit</th>\n",
       "    </tr>\n",
       "  </thead>\n",
       "  <tbody>\n",
       "    <tr>\n",
       "      <th>0</th>\n",
       "      <td>165349.20</td>\n",
       "      <td>136897.80</td>\n",
       "      <td>471784.10</td>\n",
       "      <td>New York</td>\n",
       "      <td>192261.83</td>\n",
       "    </tr>\n",
       "    <tr>\n",
       "      <th>1</th>\n",
       "      <td>162597.70</td>\n",
       "      <td>151377.59</td>\n",
       "      <td>443898.53</td>\n",
       "      <td>California</td>\n",
       "      <td>191792.06</td>\n",
       "    </tr>\n",
       "    <tr>\n",
       "      <th>2</th>\n",
       "      <td>153441.51</td>\n",
       "      <td>101145.55</td>\n",
       "      <td>407934.54</td>\n",
       "      <td>Florida</td>\n",
       "      <td>191050.39</td>\n",
       "    </tr>\n",
       "    <tr>\n",
       "      <th>3</th>\n",
       "      <td>144372.41</td>\n",
       "      <td>118671.85</td>\n",
       "      <td>383199.62</td>\n",
       "      <td>New York</td>\n",
       "      <td>182901.99</td>\n",
       "    </tr>\n",
       "    <tr>\n",
       "      <th>4</th>\n",
       "      <td>142107.34</td>\n",
       "      <td>91391.77</td>\n",
       "      <td>366168.42</td>\n",
       "      <td>Florida</td>\n",
       "      <td>166187.94</td>\n",
       "    </tr>\n",
       "    <tr>\n",
       "      <th>5</th>\n",
       "      <td>131876.90</td>\n",
       "      <td>99814.71</td>\n",
       "      <td>362861.36</td>\n",
       "      <td>New York</td>\n",
       "      <td>156991.12</td>\n",
       "    </tr>\n",
       "    <tr>\n",
       "      <th>6</th>\n",
       "      <td>134615.46</td>\n",
       "      <td>147198.87</td>\n",
       "      <td>127716.82</td>\n",
       "      <td>California</td>\n",
       "      <td>156122.51</td>\n",
       "    </tr>\n",
       "    <tr>\n",
       "      <th>7</th>\n",
       "      <td>130298.13</td>\n",
       "      <td>145530.06</td>\n",
       "      <td>323876.68</td>\n",
       "      <td>Florida</td>\n",
       "      <td>155752.60</td>\n",
       "    </tr>\n",
       "    <tr>\n",
       "      <th>8</th>\n",
       "      <td>120542.52</td>\n",
       "      <td>148718.95</td>\n",
       "      <td>311613.29</td>\n",
       "      <td>New York</td>\n",
       "      <td>152211.77</td>\n",
       "    </tr>\n",
       "    <tr>\n",
       "      <th>9</th>\n",
       "      <td>123334.88</td>\n",
       "      <td>108679.17</td>\n",
       "      <td>304981.62</td>\n",
       "      <td>California</td>\n",
       "      <td>149759.96</td>\n",
       "    </tr>\n",
       "    <tr>\n",
       "      <th>10</th>\n",
       "      <td>101913.08</td>\n",
       "      <td>110594.11</td>\n",
       "      <td>229160.95</td>\n",
       "      <td>Florida</td>\n",
       "      <td>146121.95</td>\n",
       "    </tr>\n",
       "    <tr>\n",
       "      <th>11</th>\n",
       "      <td>100671.96</td>\n",
       "      <td>91790.61</td>\n",
       "      <td>249744.55</td>\n",
       "      <td>California</td>\n",
       "      <td>144259.40</td>\n",
       "    </tr>\n",
       "    <tr>\n",
       "      <th>12</th>\n",
       "      <td>93863.75</td>\n",
       "      <td>127320.38</td>\n",
       "      <td>249839.44</td>\n",
       "      <td>Florida</td>\n",
       "      <td>141585.52</td>\n",
       "    </tr>\n",
       "    <tr>\n",
       "      <th>13</th>\n",
       "      <td>91992.39</td>\n",
       "      <td>135495.07</td>\n",
       "      <td>252664.93</td>\n",
       "      <td>California</td>\n",
       "      <td>134307.35</td>\n",
       "    </tr>\n",
       "    <tr>\n",
       "      <th>14</th>\n",
       "      <td>119943.24</td>\n",
       "      <td>156547.42</td>\n",
       "      <td>256512.92</td>\n",
       "      <td>Florida</td>\n",
       "      <td>132602.65</td>\n",
       "    </tr>\n",
       "    <tr>\n",
       "      <th>15</th>\n",
       "      <td>114523.61</td>\n",
       "      <td>122616.84</td>\n",
       "      <td>261776.23</td>\n",
       "      <td>New York</td>\n",
       "      <td>129917.04</td>\n",
       "    </tr>\n",
       "    <tr>\n",
       "      <th>16</th>\n",
       "      <td>78013.11</td>\n",
       "      <td>121597.55</td>\n",
       "      <td>264346.06</td>\n",
       "      <td>California</td>\n",
       "      <td>126992.93</td>\n",
       "    </tr>\n",
       "    <tr>\n",
       "      <th>17</th>\n",
       "      <td>94657.16</td>\n",
       "      <td>145077.58</td>\n",
       "      <td>282574.31</td>\n",
       "      <td>New York</td>\n",
       "      <td>125370.37</td>\n",
       "    </tr>\n",
       "    <tr>\n",
       "      <th>18</th>\n",
       "      <td>91749.16</td>\n",
       "      <td>114175.79</td>\n",
       "      <td>294919.57</td>\n",
       "      <td>Florida</td>\n",
       "      <td>124266.90</td>\n",
       "    </tr>\n",
       "    <tr>\n",
       "      <th>19</th>\n",
       "      <td>86419.70</td>\n",
       "      <td>153514.11</td>\n",
       "      <td>0.00</td>\n",
       "      <td>New York</td>\n",
       "      <td>122776.86</td>\n",
       "    </tr>\n",
       "    <tr>\n",
       "      <th>20</th>\n",
       "      <td>76253.86</td>\n",
       "      <td>113867.30</td>\n",
       "      <td>298664.47</td>\n",
       "      <td>California</td>\n",
       "      <td>118474.03</td>\n",
       "    </tr>\n",
       "    <tr>\n",
       "      <th>21</th>\n",
       "      <td>78389.47</td>\n",
       "      <td>153773.43</td>\n",
       "      <td>299737.29</td>\n",
       "      <td>New York</td>\n",
       "      <td>111313.02</td>\n",
       "    </tr>\n",
       "    <tr>\n",
       "      <th>22</th>\n",
       "      <td>73994.56</td>\n",
       "      <td>122782.75</td>\n",
       "      <td>303319.26</td>\n",
       "      <td>Florida</td>\n",
       "      <td>110352.25</td>\n",
       "    </tr>\n",
       "    <tr>\n",
       "      <th>23</th>\n",
       "      <td>67532.53</td>\n",
       "      <td>105751.03</td>\n",
       "      <td>304768.73</td>\n",
       "      <td>Florida</td>\n",
       "      <td>108733.99</td>\n",
       "    </tr>\n",
       "    <tr>\n",
       "      <th>24</th>\n",
       "      <td>77044.01</td>\n",
       "      <td>99281.34</td>\n",
       "      <td>140574.81</td>\n",
       "      <td>New York</td>\n",
       "      <td>108552.04</td>\n",
       "    </tr>\n",
       "    <tr>\n",
       "      <th>25</th>\n",
       "      <td>64664.71</td>\n",
       "      <td>139553.16</td>\n",
       "      <td>137962.62</td>\n",
       "      <td>California</td>\n",
       "      <td>107404.34</td>\n",
       "    </tr>\n",
       "    <tr>\n",
       "      <th>26</th>\n",
       "      <td>75328.87</td>\n",
       "      <td>144135.98</td>\n",
       "      <td>134050.07</td>\n",
       "      <td>Florida</td>\n",
       "      <td>105733.54</td>\n",
       "    </tr>\n",
       "    <tr>\n",
       "      <th>27</th>\n",
       "      <td>72107.60</td>\n",
       "      <td>127864.55</td>\n",
       "      <td>353183.81</td>\n",
       "      <td>New York</td>\n",
       "      <td>105008.31</td>\n",
       "    </tr>\n",
       "    <tr>\n",
       "      <th>28</th>\n",
       "      <td>66051.52</td>\n",
       "      <td>182645.56</td>\n",
       "      <td>118148.20</td>\n",
       "      <td>Florida</td>\n",
       "      <td>103282.38</td>\n",
       "    </tr>\n",
       "    <tr>\n",
       "      <th>29</th>\n",
       "      <td>65605.48</td>\n",
       "      <td>153032.06</td>\n",
       "      <td>107138.38</td>\n",
       "      <td>New York</td>\n",
       "      <td>101004.64</td>\n",
       "    </tr>\n",
       "    <tr>\n",
       "      <th>30</th>\n",
       "      <td>61994.48</td>\n",
       "      <td>115641.28</td>\n",
       "      <td>91131.24</td>\n",
       "      <td>Florida</td>\n",
       "      <td>99937.59</td>\n",
       "    </tr>\n",
       "    <tr>\n",
       "      <th>31</th>\n",
       "      <td>61136.38</td>\n",
       "      <td>152701.92</td>\n",
       "      <td>88218.23</td>\n",
       "      <td>New York</td>\n",
       "      <td>97483.56</td>\n",
       "    </tr>\n",
       "    <tr>\n",
       "      <th>32</th>\n",
       "      <td>63408.86</td>\n",
       "      <td>129219.61</td>\n",
       "      <td>46085.25</td>\n",
       "      <td>California</td>\n",
       "      <td>97427.84</td>\n",
       "    </tr>\n",
       "    <tr>\n",
       "      <th>33</th>\n",
       "      <td>55493.95</td>\n",
       "      <td>103057.49</td>\n",
       "      <td>214634.81</td>\n",
       "      <td>Florida</td>\n",
       "      <td>96778.92</td>\n",
       "    </tr>\n",
       "    <tr>\n",
       "      <th>34</th>\n",
       "      <td>46426.07</td>\n",
       "      <td>157693.92</td>\n",
       "      <td>210797.67</td>\n",
       "      <td>California</td>\n",
       "      <td>96712.80</td>\n",
       "    </tr>\n",
       "    <tr>\n",
       "      <th>35</th>\n",
       "      <td>46014.02</td>\n",
       "      <td>85047.44</td>\n",
       "      <td>205517.64</td>\n",
       "      <td>New York</td>\n",
       "      <td>96479.51</td>\n",
       "    </tr>\n",
       "    <tr>\n",
       "      <th>36</th>\n",
       "      <td>28663.76</td>\n",
       "      <td>127056.21</td>\n",
       "      <td>201126.82</td>\n",
       "      <td>Florida</td>\n",
       "      <td>90708.19</td>\n",
       "    </tr>\n",
       "    <tr>\n",
       "      <th>37</th>\n",
       "      <td>44069.95</td>\n",
       "      <td>51283.14</td>\n",
       "      <td>197029.42</td>\n",
       "      <td>California</td>\n",
       "      <td>89949.14</td>\n",
       "    </tr>\n",
       "    <tr>\n",
       "      <th>38</th>\n",
       "      <td>20229.59</td>\n",
       "      <td>65947.93</td>\n",
       "      <td>185265.10</td>\n",
       "      <td>New York</td>\n",
       "      <td>81229.06</td>\n",
       "    </tr>\n",
       "    <tr>\n",
       "      <th>39</th>\n",
       "      <td>38558.51</td>\n",
       "      <td>82982.09</td>\n",
       "      <td>174999.30</td>\n",
       "      <td>California</td>\n",
       "      <td>81005.76</td>\n",
       "    </tr>\n",
       "    <tr>\n",
       "      <th>40</th>\n",
       "      <td>28754.33</td>\n",
       "      <td>118546.05</td>\n",
       "      <td>172795.67</td>\n",
       "      <td>California</td>\n",
       "      <td>78239.91</td>\n",
       "    </tr>\n",
       "    <tr>\n",
       "      <th>41</th>\n",
       "      <td>27892.92</td>\n",
       "      <td>84710.77</td>\n",
       "      <td>164470.71</td>\n",
       "      <td>Florida</td>\n",
       "      <td>77798.83</td>\n",
       "    </tr>\n",
       "    <tr>\n",
       "      <th>42</th>\n",
       "      <td>23640.93</td>\n",
       "      <td>96189.63</td>\n",
       "      <td>148001.11</td>\n",
       "      <td>California</td>\n",
       "      <td>71498.49</td>\n",
       "    </tr>\n",
       "    <tr>\n",
       "      <th>43</th>\n",
       "      <td>15505.73</td>\n",
       "      <td>127382.30</td>\n",
       "      <td>35534.17</td>\n",
       "      <td>New York</td>\n",
       "      <td>69758.98</td>\n",
       "    </tr>\n",
       "    <tr>\n",
       "      <th>44</th>\n",
       "      <td>22177.74</td>\n",
       "      <td>154806.14</td>\n",
       "      <td>28334.72</td>\n",
       "      <td>California</td>\n",
       "      <td>65200.33</td>\n",
       "    </tr>\n",
       "    <tr>\n",
       "      <th>45</th>\n",
       "      <td>1000.23</td>\n",
       "      <td>124153.04</td>\n",
       "      <td>1903.93</td>\n",
       "      <td>New York</td>\n",
       "      <td>64926.08</td>\n",
       "    </tr>\n",
       "    <tr>\n",
       "      <th>46</th>\n",
       "      <td>1315.46</td>\n",
       "      <td>115816.21</td>\n",
       "      <td>297114.46</td>\n",
       "      <td>Florida</td>\n",
       "      <td>49490.75</td>\n",
       "    </tr>\n",
       "    <tr>\n",
       "      <th>47</th>\n",
       "      <td>0.00</td>\n",
       "      <td>135426.92</td>\n",
       "      <td>0.00</td>\n",
       "      <td>California</td>\n",
       "      <td>42559.73</td>\n",
       "    </tr>\n",
       "    <tr>\n",
       "      <th>48</th>\n",
       "      <td>542.05</td>\n",
       "      <td>51743.15</td>\n",
       "      <td>0.00</td>\n",
       "      <td>New York</td>\n",
       "      <td>35673.41</td>\n",
       "    </tr>\n",
       "    <tr>\n",
       "      <th>49</th>\n",
       "      <td>0.00</td>\n",
       "      <td>116983.80</td>\n",
       "      <td>45173.06</td>\n",
       "      <td>California</td>\n",
       "      <td>14681.40</td>\n",
       "    </tr>\n",
       "  </tbody>\n",
       "</table>\n",
       "</div>"
      ],
      "text/plain": [
       "    R&D Spend  Administration  Marketing Spend       State     Profit\n",
       "0   165349.20       136897.80        471784.10    New York  192261.83\n",
       "1   162597.70       151377.59        443898.53  California  191792.06\n",
       "2   153441.51       101145.55        407934.54     Florida  191050.39\n",
       "3   144372.41       118671.85        383199.62    New York  182901.99\n",
       "4   142107.34        91391.77        366168.42     Florida  166187.94\n",
       "5   131876.90        99814.71        362861.36    New York  156991.12\n",
       "6   134615.46       147198.87        127716.82  California  156122.51\n",
       "7   130298.13       145530.06        323876.68     Florida  155752.60\n",
       "8   120542.52       148718.95        311613.29    New York  152211.77\n",
       "9   123334.88       108679.17        304981.62  California  149759.96\n",
       "10  101913.08       110594.11        229160.95     Florida  146121.95\n",
       "11  100671.96        91790.61        249744.55  California  144259.40\n",
       "12   93863.75       127320.38        249839.44     Florida  141585.52\n",
       "13   91992.39       135495.07        252664.93  California  134307.35\n",
       "14  119943.24       156547.42        256512.92     Florida  132602.65\n",
       "15  114523.61       122616.84        261776.23    New York  129917.04\n",
       "16   78013.11       121597.55        264346.06  California  126992.93\n",
       "17   94657.16       145077.58        282574.31    New York  125370.37\n",
       "18   91749.16       114175.79        294919.57     Florida  124266.90\n",
       "19   86419.70       153514.11             0.00    New York  122776.86\n",
       "20   76253.86       113867.30        298664.47  California  118474.03\n",
       "21   78389.47       153773.43        299737.29    New York  111313.02\n",
       "22   73994.56       122782.75        303319.26     Florida  110352.25\n",
       "23   67532.53       105751.03        304768.73     Florida  108733.99\n",
       "24   77044.01        99281.34        140574.81    New York  108552.04\n",
       "25   64664.71       139553.16        137962.62  California  107404.34\n",
       "26   75328.87       144135.98        134050.07     Florida  105733.54\n",
       "27   72107.60       127864.55        353183.81    New York  105008.31\n",
       "28   66051.52       182645.56        118148.20     Florida  103282.38\n",
       "29   65605.48       153032.06        107138.38    New York  101004.64\n",
       "30   61994.48       115641.28         91131.24     Florida   99937.59\n",
       "31   61136.38       152701.92         88218.23    New York   97483.56\n",
       "32   63408.86       129219.61         46085.25  California   97427.84\n",
       "33   55493.95       103057.49        214634.81     Florida   96778.92\n",
       "34   46426.07       157693.92        210797.67  California   96712.80\n",
       "35   46014.02        85047.44        205517.64    New York   96479.51\n",
       "36   28663.76       127056.21        201126.82     Florida   90708.19\n",
       "37   44069.95        51283.14        197029.42  California   89949.14\n",
       "38   20229.59        65947.93        185265.10    New York   81229.06\n",
       "39   38558.51        82982.09        174999.30  California   81005.76\n",
       "40   28754.33       118546.05        172795.67  California   78239.91\n",
       "41   27892.92        84710.77        164470.71     Florida   77798.83\n",
       "42   23640.93        96189.63        148001.11  California   71498.49\n",
       "43   15505.73       127382.30         35534.17    New York   69758.98\n",
       "44   22177.74       154806.14         28334.72  California   65200.33\n",
       "45    1000.23       124153.04          1903.93    New York   64926.08\n",
       "46    1315.46       115816.21        297114.46     Florida   49490.75\n",
       "47       0.00       135426.92             0.00  California   42559.73\n",
       "48     542.05        51743.15             0.00    New York   35673.41\n",
       "49       0.00       116983.80         45173.06  California   14681.40"
      ]
     },
     "execution_count": 41,
     "metadata": {},
     "output_type": "execute_result"
    }
   ],
   "source": [
    "df"
   ]
  },
  {
   "cell_type": "code",
   "execution_count": 42,
   "id": "4a467bb1",
   "metadata": {
    "ExecuteTime": {
     "end_time": "2023-01-26T11:03:14.890327Z",
     "start_time": "2023-01-26T11:03:14.847805Z"
    }
   },
   "outputs": [
    {
     "data": {
      "text/html": [
       "<div>\n",
       "<style scoped>\n",
       "    .dataframe tbody tr th:only-of-type {\n",
       "        vertical-align: middle;\n",
       "    }\n",
       "\n",
       "    .dataframe tbody tr th {\n",
       "        vertical-align: top;\n",
       "    }\n",
       "\n",
       "    .dataframe thead th {\n",
       "        text-align: right;\n",
       "    }\n",
       "</style>\n",
       "<table border=\"1\" class=\"dataframe\">\n",
       "  <thead>\n",
       "    <tr style=\"text-align: right;\">\n",
       "      <th></th>\n",
       "      <th>R&amp;D Spend</th>\n",
       "      <th>Administration</th>\n",
       "      <th>Marketing Spend</th>\n",
       "      <th>Profit</th>\n",
       "    </tr>\n",
       "  </thead>\n",
       "  <tbody>\n",
       "    <tr>\n",
       "      <th>count</th>\n",
       "      <td>50.000000</td>\n",
       "      <td>50.000000</td>\n",
       "      <td>50.000000</td>\n",
       "      <td>50.000000</td>\n",
       "    </tr>\n",
       "    <tr>\n",
       "      <th>mean</th>\n",
       "      <td>73721.615600</td>\n",
       "      <td>121344.639600</td>\n",
       "      <td>211025.097800</td>\n",
       "      <td>112012.639200</td>\n",
       "    </tr>\n",
       "    <tr>\n",
       "      <th>std</th>\n",
       "      <td>45902.256482</td>\n",
       "      <td>28017.802755</td>\n",
       "      <td>122290.310726</td>\n",
       "      <td>40306.180338</td>\n",
       "    </tr>\n",
       "    <tr>\n",
       "      <th>min</th>\n",
       "      <td>0.000000</td>\n",
       "      <td>51283.140000</td>\n",
       "      <td>0.000000</td>\n",
       "      <td>14681.400000</td>\n",
       "    </tr>\n",
       "    <tr>\n",
       "      <th>25%</th>\n",
       "      <td>39936.370000</td>\n",
       "      <td>103730.875000</td>\n",
       "      <td>129300.132500</td>\n",
       "      <td>90138.902500</td>\n",
       "    </tr>\n",
       "    <tr>\n",
       "      <th>50%</th>\n",
       "      <td>73051.080000</td>\n",
       "      <td>122699.795000</td>\n",
       "      <td>212716.240000</td>\n",
       "      <td>107978.190000</td>\n",
       "    </tr>\n",
       "    <tr>\n",
       "      <th>75%</th>\n",
       "      <td>101602.800000</td>\n",
       "      <td>144842.180000</td>\n",
       "      <td>299469.085000</td>\n",
       "      <td>139765.977500</td>\n",
       "    </tr>\n",
       "    <tr>\n",
       "      <th>max</th>\n",
       "      <td>165349.200000</td>\n",
       "      <td>182645.560000</td>\n",
       "      <td>471784.100000</td>\n",
       "      <td>192261.830000</td>\n",
       "    </tr>\n",
       "  </tbody>\n",
       "</table>\n",
       "</div>"
      ],
      "text/plain": [
       "           R&D Spend  Administration  Marketing Spend         Profit\n",
       "count      50.000000       50.000000        50.000000      50.000000\n",
       "mean    73721.615600   121344.639600    211025.097800  112012.639200\n",
       "std     45902.256482    28017.802755    122290.310726   40306.180338\n",
       "min         0.000000    51283.140000         0.000000   14681.400000\n",
       "25%     39936.370000   103730.875000    129300.132500   90138.902500\n",
       "50%     73051.080000   122699.795000    212716.240000  107978.190000\n",
       "75%    101602.800000   144842.180000    299469.085000  139765.977500\n",
       "max    165349.200000   182645.560000    471784.100000  192261.830000"
      ]
     },
     "execution_count": 42,
     "metadata": {},
     "output_type": "execute_result"
    }
   ],
   "source": [
    "df.describe()"
   ]
  },
  {
   "cell_type": "code",
   "execution_count": 43,
   "id": "3862f824",
   "metadata": {
    "ExecuteTime": {
     "end_time": "2023-01-26T11:03:15.593965Z",
     "start_time": "2023-01-26T11:03:15.568447Z"
    }
   },
   "outputs": [
    {
     "data": {
      "text/plain": [
       "<bound method DataFrame.info of     R&D Spend  Administration  Marketing Spend       State     Profit\n",
       "0   165349.20       136897.80        471784.10    New York  192261.83\n",
       "1   162597.70       151377.59        443898.53  California  191792.06\n",
       "2   153441.51       101145.55        407934.54     Florida  191050.39\n",
       "3   144372.41       118671.85        383199.62    New York  182901.99\n",
       "4   142107.34        91391.77        366168.42     Florida  166187.94\n",
       "5   131876.90        99814.71        362861.36    New York  156991.12\n",
       "6   134615.46       147198.87        127716.82  California  156122.51\n",
       "7   130298.13       145530.06        323876.68     Florida  155752.60\n",
       "8   120542.52       148718.95        311613.29    New York  152211.77\n",
       "9   123334.88       108679.17        304981.62  California  149759.96\n",
       "10  101913.08       110594.11        229160.95     Florida  146121.95\n",
       "11  100671.96        91790.61        249744.55  California  144259.40\n",
       "12   93863.75       127320.38        249839.44     Florida  141585.52\n",
       "13   91992.39       135495.07        252664.93  California  134307.35\n",
       "14  119943.24       156547.42        256512.92     Florida  132602.65\n",
       "15  114523.61       122616.84        261776.23    New York  129917.04\n",
       "16   78013.11       121597.55        264346.06  California  126992.93\n",
       "17   94657.16       145077.58        282574.31    New York  125370.37\n",
       "18   91749.16       114175.79        294919.57     Florida  124266.90\n",
       "19   86419.70       153514.11             0.00    New York  122776.86\n",
       "20   76253.86       113867.30        298664.47  California  118474.03\n",
       "21   78389.47       153773.43        299737.29    New York  111313.02\n",
       "22   73994.56       122782.75        303319.26     Florida  110352.25\n",
       "23   67532.53       105751.03        304768.73     Florida  108733.99\n",
       "24   77044.01        99281.34        140574.81    New York  108552.04\n",
       "25   64664.71       139553.16        137962.62  California  107404.34\n",
       "26   75328.87       144135.98        134050.07     Florida  105733.54\n",
       "27   72107.60       127864.55        353183.81    New York  105008.31\n",
       "28   66051.52       182645.56        118148.20     Florida  103282.38\n",
       "29   65605.48       153032.06        107138.38    New York  101004.64\n",
       "30   61994.48       115641.28         91131.24     Florida   99937.59\n",
       "31   61136.38       152701.92         88218.23    New York   97483.56\n",
       "32   63408.86       129219.61         46085.25  California   97427.84\n",
       "33   55493.95       103057.49        214634.81     Florida   96778.92\n",
       "34   46426.07       157693.92        210797.67  California   96712.80\n",
       "35   46014.02        85047.44        205517.64    New York   96479.51\n",
       "36   28663.76       127056.21        201126.82     Florida   90708.19\n",
       "37   44069.95        51283.14        197029.42  California   89949.14\n",
       "38   20229.59        65947.93        185265.10    New York   81229.06\n",
       "39   38558.51        82982.09        174999.30  California   81005.76\n",
       "40   28754.33       118546.05        172795.67  California   78239.91\n",
       "41   27892.92        84710.77        164470.71     Florida   77798.83\n",
       "42   23640.93        96189.63        148001.11  California   71498.49\n",
       "43   15505.73       127382.30         35534.17    New York   69758.98\n",
       "44   22177.74       154806.14         28334.72  California   65200.33\n",
       "45    1000.23       124153.04          1903.93    New York   64926.08\n",
       "46    1315.46       115816.21        297114.46     Florida   49490.75\n",
       "47       0.00       135426.92             0.00  California   42559.73\n",
       "48     542.05        51743.15             0.00    New York   35673.41\n",
       "49       0.00       116983.80         45173.06  California   14681.40>"
      ]
     },
     "execution_count": 43,
     "metadata": {},
     "output_type": "execute_result"
    }
   ],
   "source": [
    "df.info"
   ]
  },
  {
   "cell_type": "code",
   "execution_count": 44,
   "id": "175c5c9e",
   "metadata": {
    "ExecuteTime": {
     "end_time": "2023-01-26T11:03:16.231348Z",
     "start_time": "2023-01-26T11:03:16.205349Z"
    }
   },
   "outputs": [
    {
     "data": {
      "text/plain": [
       "R&D Spend          0\n",
       "Administration     0\n",
       "Marketing Spend    0\n",
       "State              0\n",
       "Profit             0\n",
       "dtype: int64"
      ]
     },
     "execution_count": 44,
     "metadata": {},
     "output_type": "execute_result"
    }
   ],
   "source": [
    "df.isna().sum()"
   ]
  },
  {
   "cell_type": "code",
   "execution_count": 45,
   "id": "7d4ba407",
   "metadata": {
    "ExecuteTime": {
     "end_time": "2023-01-26T11:03:17.151200Z",
     "start_time": "2023-01-26T11:03:16.973006Z"
    },
    "scrolled": true
   },
   "outputs": [
    {
     "data": {
      "text/plain": [
       "{'whiskers': [<matplotlib.lines.Line2D at 0x1b1ea87ceb0>,\n",
       "  <matplotlib.lines.Line2D at 0x1b1ea8e31c0>],\n",
       " 'caps': [<matplotlib.lines.Line2D at 0x1b1ea8e3490>,\n",
       "  <matplotlib.lines.Line2D at 0x1b1ea8e3760>],\n",
       " 'boxes': [<matplotlib.lines.Line2D at 0x1b1ea87cbe0>],\n",
       " 'medians': [<matplotlib.lines.Line2D at 0x1b1ea8e3a30>],\n",
       " 'fliers': [<matplotlib.lines.Line2D at 0x1b1ea8e3d00>],\n",
       " 'means': []}"
      ]
     },
     "execution_count": 45,
     "metadata": {},
     "output_type": "execute_result"
    },
    {
     "data": {
      "image/png": "[encoded data removed]",
      "text/plain": [
       "<Figure size 640x480 with 1 Axes>"
      ]
     },
     "metadata": {},
     "output_type": "display_data"
    }
   ],
   "source": [
    "plt.boxplot(df.Profit)"
   ]
  },
  {
   "cell_type": "code",
   "execution_count": 46,
   "id": "024ad6db",
   "metadata": {
    "ExecuteTime": {
     "end_time": "2023-01-26T11:03:17.963921Z",
     "start_time": "2023-01-26T11:03:17.686527Z"
    }
   },
   "outputs": [
    {
     "data": {
      "text/plain": [
       "(array([ 1.,  3.,  2.,  6., 10.,  8.,  7.,  7.,  2.,  4.]),\n",
       " array([ 14681.4  ,  32439.443,  50197.486,  67955.529,  85713.572,\n",
       "        103471.615, 121229.658, 138987.701, 156745.744, 174503.787,\n",
       "        192261.83 ]),\n",
       " <BarContainer object of 10 artists>)"
      ]
     },
     "execution_count": 46,
     "metadata": {},
     "output_type": "execute_result"
    },
    {
     "data": {
      "image/png": "[encoded data removed]",
      "text/plain": [
       "<Figure size 640x480 with 1 Axes>"
      ]
     },
     "metadata": {},
     "output_type": "display_data"
    }
   ],
   "source": [
    "plt.hist(df.Profit)"
   ]
  },
  {
   "cell_type": "code",
   "execution_count": 47,
   "id": "7bf4a4b9",
   "metadata": {
    "ExecuteTime": {
     "end_time": "2023-01-26T11:03:18.398457Z",
     "start_time": "2023-01-26T11:03:18.385388Z"
    }
   },
   "outputs": [],
   "source": [
    "corrMatrix = df.corr()"
   ]
  },
  {
   "cell_type": "code",
   "execution_count": 48,
   "id": "5730250a",
   "metadata": {
    "ExecuteTime": {
     "end_time": "2023-01-26T11:03:19.696568Z",
     "start_time": "2023-01-26T11:03:19.354459Z"
    }
   },
   "outputs": [
    {
     "data": {
      "text/plain": [
       "<AxesSubplot:>"
      ]
     },
     "execution_count": 48,
     "metadata": {},
     "output_type": "execute_result"
    },
    {
     "data": {
      "image/png": "[encoded data removed]",
      "text/plain": [
       "<Figure size 640x480 with 2 Axes>"
      ]
     },
     "metadata": {},
     "output_type": "display_data"
    }
   ],
   "source": [
    "sns.heatmap(corrMatrix, annot=True)"
   ]
  },
  {
   "cell_type": "code",
   "execution_count": 49,
   "id": "c5cb2ef2",
   "metadata": {
    "ExecuteTime": {
     "end_time": "2023-01-26T11:03:24.429272Z",
     "start_time": "2023-01-26T11:03:20.814990Z"
    }
   },
   "outputs": [
    {
     "data": {
      "text/plain": [
       "<seaborn.axisgrid.PairGrid at 0x1b1eb071610>"
      ]
     },
     "execution_count": 49,
     "metadata": {},
     "output_type": "execute_result"
    },
    {
     "data": {
      "image/png": "[encoded data removed]",
      "text/plain": [
       "<Figure size 1000x1000 with 20 Axes>"
      ]
     },
     "metadata": {},
     "output_type": "display_data"
    }
   ],
   "source": [
    "import seaborn as sns\n",
    "sns.set_style(style='darkgrid')\n",
    "sns.pairplot(df)"
   ]
  },
  {
   "cell_type": "code",
   "execution_count": 50,
   "id": "0856e319",
   "metadata": {
    "ExecuteTime": {
     "end_time": "2023-01-26T11:03:24.445273Z",
     "start_time": "2023-01-26T11:03:24.436273Z"
    }
   },
   "outputs": [],
   "source": [
    "df = pd.get_dummies(df, columns=['State'])"
   ]
  },
  {
   "cell_type": "code",
   "execution_count": 51,
   "id": "3f3ab447",
   "metadata": {
    "ExecuteTime": {
     "end_time": "2023-01-26T11:03:24.461161Z",
     "start_time": "2023-01-26T11:03:24.452435Z"
    }
   },
   "outputs": [],
   "source": [
    "X = df[['R&D Spend','Administration', 'Marketing Spend', 'State_California', 'State_Florida', 'State_New York']]\n",
    "Y = df[['Profit']]"
   ]
  },
  {
   "cell_type": "code",
   "execution_count": 52,
   "id": "30bdd3f1",
   "metadata": {
    "ExecuteTime": {
     "end_time": "2023-01-26T11:03:27.947372Z",
     "start_time": "2023-01-26T11:03:27.921619Z"
    }
   },
   "outputs": [],
   "source": [
    "import statsmodels.formula.api as smf \n",
    "model = smf.ols('Y~X', data= df).fit()"
   ]
  },
  {
   "cell_type": "code",
   "execution_count": 53,
   "id": "a6f7d539",
   "metadata": {
    "ExecuteTime": {
     "end_time": "2023-01-26T11:03:28.616662Z",
     "start_time": "2023-01-26T11:03:28.596339Z"
    }
   },
   "outputs": [
    {
     "data": {
      "text/plain": [
       "Intercept    37633.233317\n",
       "X[0]             0.806023\n",
       "X[1]            -0.027004\n",
       "X[2]             0.026980\n",
       "X[3]         12492.110514\n",
       "X[4]         12690.899307\n",
       "X[5]         12450.223495\n",
       "dtype: float64"
      ]
     },
     "execution_count": 53,
     "metadata": {},
     "output_type": "execute_result"
    }
   ],
   "source": [
    "model.params"
   ]
  },
  {
   "cell_type": "code",
   "execution_count": 54,
   "id": "45106cd2",
   "metadata": {
    "ExecuteTime": {
     "end_time": "2023-01-26T11:03:29.243779Z",
     "start_time": "2023-01-26T11:03:29.230775Z"
    }
   },
   "outputs": [
    {
     "data": {
      "text/plain": [
       "0      -128.741365\n",
       "1      2720.739894\n",
       "2      8774.203265\n",
       "3      9317.013809\n",
       "4     -6089.193819\n",
       "5     -6482.687120\n",
       "6     -1976.782789\n",
       "7     -4403.044651\n",
       "8       577.026673\n",
       "9     -5069.702529\n",
       "10    10457.307408\n",
       "11     8730.799217\n",
       "12    12302.602193\n",
       "13     6876.101014\n",
       "14   -17091.732777\n",
       "15   -16226.595515\n",
       "16    10138.855472\n",
       "17    -4715.039933\n",
       "18    -4882.825742\n",
       "19     7182.671589\n",
       "20     1903.295561\n",
       "21    -5888.485088\n",
       "22    -4481.055137\n",
       "23    -1389.806104\n",
       "24    -4742.333453\n",
       "25     5204.071081\n",
       "26    -5031.761170\n",
       "27    -9271.494028\n",
       "28     1463.792613\n",
       "29     -716.402030\n",
       "30      308.579462\n",
       "31     -133.736321\n",
       "32    -1560.396605\n",
       "33    -1282.438947\n",
       "34     7738.095839\n",
       "35     6059.500395\n",
       "36    15285.097137\n",
       "37      371.437779\n",
       "38    11622.538393\n",
       "39    -2679.216039\n",
       "40     3477.163826\n",
       "41     2842.518953\n",
       "42      922.496288\n",
       "43     9658.711782\n",
       "44      615.182788\n",
       "45    17337.715292\n",
       "46    -6782.242679\n",
       "47    -3908.502003\n",
       "48   -13449.663082\n",
       "49   -33503.638790\n",
       "dtype: float64"
      ]
     },
     "execution_count": 54,
     "metadata": {},
     "output_type": "execute_result"
    }
   ],
   "source": [
    "model.resid"
   ]
  },
  {
   "cell_type": "code",
   "execution_count": 55,
   "id": "287458c5",
   "metadata": {
    "ExecuteTime": {
     "end_time": "2023-01-26T11:03:29.927451Z",
     "start_time": "2023-01-26T11:03:29.884272Z"
    }
   },
   "outputs": [
    {
     "data": {
      "text/html": [
       "<table class=\"simpletable\">\n",
       "<caption>OLS Regression Results</caption>\n",
       "<tr>\n",
       "  <th>Dep. Variable:</th>            <td>Y</td>        <th>  R-squared:         </th> <td>   0.951</td>\n",
       "</tr>\n",
       "<tr>\n",
       "  <th>Model:</th>                   <td>OLS</td>       <th>  Adj. R-squared:    </th> <td>   0.945</td>\n",
       "</tr>\n",
       "<tr>\n",
       "  <th>Method:</th>             <td>Least Squares</td>  <th>  F-statistic:       </th> <td>   169.9</td>\n",
       "</tr>\n",
       "<tr>\n",
       "  <th>Date:</th>             <td>Thu, 26 Jan 2023</td> <th>  Prob (F-statistic):</th> <td>1.34e-27</td>\n",
       "</tr>\n",
       "<tr>\n",
       "  <th>Time:</th>                 <td>16:33:29</td>     <th>  Log-Likelihood:    </th> <td> -525.38</td>\n",
       "</tr>\n",
       "<tr>\n",
       "  <th>No. Observations:</th>      <td>    50</td>      <th>  AIC:               </th> <td>   1063.</td>\n",
       "</tr>\n",
       "<tr>\n",
       "  <th>Df Residuals:</th>          <td>    44</td>      <th>  BIC:               </th> <td>   1074.</td>\n",
       "</tr>\n",
       "<tr>\n",
       "  <th>Df Model:</th>              <td>     5</td>      <th>                     </th>     <td> </td>   \n",
       "</tr>\n",
       "<tr>\n",
       "  <th>Covariance Type:</th>      <td>nonrobust</td>    <th>                     </th>     <td> </td>   \n",
       "</tr>\n",
       "</table>\n",
       "<table class=\"simpletable\">\n",
       "<tr>\n",
       "      <td></td>         <th>coef</th>     <th>std err</th>      <th>t</th>      <th>P>|t|</th>  <th>[0.025</th>    <th>0.975]</th>  \n",
       "</tr>\n",
       "<tr>\n",
       "  <th>Intercept</th> <td> 3.763e+04</td> <td> 5073.636</td> <td>    7.417</td> <td> 0.000</td> <td> 2.74e+04</td> <td> 4.79e+04</td>\n",
       "</tr>\n",
       "<tr>\n",
       "  <th>X[0]</th>      <td>    0.8060</td> <td>    0.046</td> <td>   17.369</td> <td> 0.000</td> <td>    0.712</td> <td>    0.900</td>\n",
       "</tr>\n",
       "<tr>\n",
       "  <th>X[1]</th>      <td>   -0.0270</td> <td>    0.052</td> <td>   -0.517</td> <td> 0.608</td> <td>   -0.132</td> <td>    0.078</td>\n",
       "</tr>\n",
       "<tr>\n",
       "  <th>X[2]</th>      <td>    0.0270</td> <td>    0.017</td> <td>    1.574</td> <td> 0.123</td> <td>   -0.008</td> <td>    0.062</td>\n",
       "</tr>\n",
       "<tr>\n",
       "  <th>X[3]</th>      <td> 1.249e+04</td> <td> 2449.797</td> <td>    5.099</td> <td> 0.000</td> <td> 7554.868</td> <td> 1.74e+04</td>\n",
       "</tr>\n",
       "<tr>\n",
       "  <th>X[4]</th>      <td> 1.269e+04</td> <td> 2726.700</td> <td>    4.654</td> <td> 0.000</td> <td> 7195.596</td> <td> 1.82e+04</td>\n",
       "</tr>\n",
       "<tr>\n",
       "  <th>X[5]</th>      <td> 1.245e+04</td> <td> 2486.364</td> <td>    5.007</td> <td> 0.000</td> <td> 7439.285</td> <td> 1.75e+04</td>\n",
       "</tr>\n",
       "</table>\n",
       "<table class=\"simpletable\">\n",
       "<tr>\n",
       "  <th>Omnibus:</th>       <td>14.782</td> <th>  Durbin-Watson:     </th> <td>   1.283</td>\n",
       "</tr>\n",
       "<tr>\n",
       "  <th>Prob(Omnibus):</th> <td> 0.001</td> <th>  Jarque-Bera (JB):  </th> <td>  21.266</td>\n",
       "</tr>\n",
       "<tr>\n",
       "  <th>Skew:</th>          <td>-0.948</td> <th>  Prob(JB):          </th> <td>2.41e-05</td>\n",
       "</tr>\n",
       "<tr>\n",
       "  <th>Kurtosis:</th>      <td> 5.572</td> <th>  Cond. No.          </th> <td>3.84e+21</td>\n",
       "</tr>\n",
       "</table><br/><br/>Notes:<br/>[1] Standard Errors assume that the covariance matrix of the errors is correctly specified.<br/>[2] The smallest eigenvalue is 2.63e-31. This might indicate that there are<br/>strong multicollinearity problems or that the design matrix is singular."
      ],
      "text/plain": [
       "<class 'statsmodels.iolib.summary.Summary'>\n",
       "\"\"\"\n",
       "                            OLS Regression Results                            \n",
       "==============================================================================\n",
       "Dep. Variable:                      Y   R-squared:                       0.951\n",
       "Model:                            OLS   Adj. R-squared:                  0.945\n",
       "Method:                 Least Squares   F-statistic:                     169.9\n",
       "Date:                Thu, 26 Jan 2023   Prob (F-statistic):           1.34e-27\n",
       "Time:                        16:33:29   Log-Likelihood:                -525.38\n",
       "No. Observations:                  50   AIC:                             1063.\n",
       "Df Residuals:                      44   BIC:                             1074.\n",
       "Df Model:                           5                                         \n",
       "Covariance Type:            nonrobust                                         \n",
       "==============================================================================\n",
       "                 coef    std err          t      P>|t|      [0.025      0.975]\n",
       "------------------------------------------------------------------------------\n",
       "Intercept   3.763e+04   5073.636      7.417      0.000    2.74e+04    4.79e+04\n",
       "X[0]           0.8060      0.046     17.369      0.000       0.712       0.900\n",
       "X[1]          -0.0270      0.052     -0.517      0.608      -0.132       0.078\n",
       "X[2]           0.0270      0.017      1.574      0.123      -0.008       0.062\n",
       "X[3]        1.249e+04   2449.797      5.099      0.000    7554.868    1.74e+04\n",
       "X[4]        1.269e+04   2726.700      4.654      0.000    7195.596    1.82e+04\n",
       "X[5]        1.245e+04   2486.364      5.007      0.000    7439.285    1.75e+04\n",
       "==============================================================================\n",
       "Omnibus:                       14.782   Durbin-Watson:                   1.283\n",
       "Prob(Omnibus):                  0.001   Jarque-Bera (JB):               21.266\n",
       "Skew:                          -0.948   Prob(JB):                     2.41e-05\n",
       "Kurtosis:                       5.572   Cond. No.                     3.84e+21\n",
       "==============================================================================\n",
       "\n",
       "Notes:\n",
       "[1] Standard Errors assume that the covariance matrix of the errors is correctly specified.\n",
       "[2] The smallest eigenvalue is 2.63e-31. This might indicate that there are\n",
       "strong multicollinearity problems or that the design matrix is singular.\n",
       "\"\"\""
      ]
     },
     "execution_count": 55,
     "metadata": {},
     "output_type": "execute_result"
    }
   ],
   "source": [
    "model.summary()"
   ]
  },
  {
   "cell_type": "code",
   "execution_count": 56,
   "id": "75e39054",
   "metadata": {
    "ExecuteTime": {
     "end_time": "2023-01-26T11:03:30.551532Z",
     "start_time": "2023-01-26T11:03:30.532404Z"
    }
   },
   "outputs": [
    {
     "name": "stdout",
     "output_type": "stream",
     "text": [
      "Intercept     7.417409\n",
      "X[0]         17.368580\n",
      "X[1]         -0.517012\n",
      "X[2]          1.573889\n",
      "X[3]          5.099242\n",
      "X[4]          4.654306\n",
      "X[5]          5.007401\n",
      "dtype: float64 \n",
      " Intercept    2.807645e-09\n",
      "X[0]         2.578772e-21\n",
      "X[1]         6.077373e-01\n",
      "X[2]         1.226769e-01\n",
      "X[3]         6.942555e-06\n",
      "X[4]         2.992503e-05\n",
      "X[5]         9.409010e-06\n",
      "dtype: float64\n"
     ]
    }
   ],
   "source": [
    "print(model.tvalues, '\\n', model.pvalues)"
   ]
  },
  {
   "cell_type": "code",
   "execution_count": 57,
   "id": "10517ee0",
   "metadata": {
    "ExecuteTime": {
     "end_time": "2023-01-26T11:03:31.176181Z",
     "start_time": "2023-01-26T11:03:31.169179Z"
    }
   },
   "outputs": [
    {
     "data": {
      "text/plain": [
       "(0.9507524843355148, 0.945156175737278)"
      ]
     },
     "execution_count": 57,
     "metadata": {},
     "output_type": "execute_result"
    }
   ],
   "source": [
    "(model.rsquared,model.rsquared_adj)"
   ]
  },
  {
   "cell_type": "code",
   "execution_count": 58,
   "id": "a7c278e6",
   "metadata": {
    "ExecuteTime": {
     "end_time": "2023-01-26T11:03:31.862608Z",
     "start_time": "2023-01-26T11:03:31.824991Z"
    }
   },
   "outputs": [
    {
     "data": {
      "text/plain": [
       "(Intercept               3.040044\n",
       " df[\"Administration\"]    1.419493\n",
       " dtype: float64,\n",
       " '\\n',\n",
       " Intercept               0.003824\n",
       " df[\"Administration\"]    0.162217\n",
       " dtype: float64)"
      ]
     },
     "execution_count": 58,
     "metadata": {},
     "output_type": "execute_result"
    }
   ],
   "source": [
    "ml_a=smf.ols('Profit~df[\"Administration\"]',data = df).fit()  \n",
    "(ml_a.tvalues, '\\n', ml_a.pvalues)"
   ]
  },
  {
   "cell_type": "code",
   "execution_count": 59,
   "id": "38bda91d",
   "metadata": {
    "ExecuteTime": {
     "end_time": "2023-01-26T11:03:32.703133Z",
     "start_time": "2023-01-26T11:03:32.665422Z"
    }
   },
   "outputs": [
    {
     "data": {
      "text/plain": [
       "(Intercept                7.808356\n",
       " df[\"Marketing Spend\"]    7.802657\n",
       " dtype: float64,\n",
       " '\\n',\n",
       " Intercept                4.294735e-10\n",
       " df[\"Marketing Spend\"]    4.381073e-10\n",
       " dtype: float64)"
      ]
     },
     "execution_count": 59,
     "metadata": {},
     "output_type": "execute_result"
    }
   ],
   "source": [
    "ml_m=smf.ols('Profit~df[\"Marketing Spend\"]',data = df).fit()  \n",
    "(ml_m.tvalues, '\\n', ml_m.pvalues)"
   ]
  },
  {
   "cell_type": "code",
   "execution_count": 60,
   "id": "4d23b5f8",
   "metadata": {
    "ExecuteTime": {
     "end_time": "2023-01-26T11:03:33.347858Z",
     "start_time": "2023-01-26T11:03:33.312943Z"
    }
   },
   "outputs": [
    {
     "data": {
      "text/plain": [
       "(Intercept                1.142741\n",
       " Administration           2.467779\n",
       " df[\"Marketing Spend\"]    8.281039\n",
       " dtype: float64,\n",
       " '\\n',\n",
       " Intercept                2.589341e-01\n",
       " Administration           1.729198e-02\n",
       " df[\"Marketing Spend\"]    9.727245e-11\n",
       " dtype: float64)"
      ]
     },
     "execution_count": 60,
     "metadata": {},
     "output_type": "execute_result"
    }
   ],
   "source": [
    "ml_am=smf.ols('Profit~Administration + df[\"Marketing Spend\"]',data = df).fit()  \n",
    "(ml_am.tvalues, '\\n', ml_am.pvalues)"
   ]
  },
  {
   "cell_type": "code",
   "execution_count": 65,
   "id": "6e82e755",
   "metadata": {
    "ExecuteTime": {
     "end_time": "2023-01-26T11:03:38.504631Z",
     "start_time": "2023-01-26T11:03:38.226416Z"
    }
   },
   "outputs": [
    {
     "data": {
      "image/png": "[encoded data removed]",
      "text/plain": [
       "<Figure size 640x480 with 1 Axes>"
      ]
     },
     "metadata": {},
     "output_type": "display_data"
    }
   ],
   "source": [
    "import statsmodels.api as sm\n",
    "qqplot=sm.qqplot(model.resid,line='q') \n",
    "plt.title(\"Normal Q-Q plot of residuals\")\n",
    "plt.show()"
   ]
  },
  {
   "cell_type": "markdown",
   "id": "359e36f7",
   "metadata": {
    "ExecuteTime": {
     "end_time": "2023-01-26T11:03:40.711592Z",
     "start_time": "2023-01-26T11:03:40.706070Z"
    }
   },
   "source": [
    "### Model Deletion Diagnostics"
   ]
  },
  {
   "cell_type": "markdown",
   "id": "52ef3e2d",
   "metadata": {
    "ExecuteTime": {
     "end_time": "2023-01-26T11:03:42.676979Z",
     "start_time": "2023-01-26T11:03:42.390196Z"
    }
   },
   "source": [
    "#### Cook’s Distance"
   ]
  },
  {
   "cell_type": "code",
   "execution_count": 70,
   "id": "692350b7",
   "metadata": {
    "ExecuteTime": {
     "end_time": "2023-01-26T11:07:12.509502Z",
     "start_time": "2023-01-26T11:07:12.499067Z"
    }
   },
   "outputs": [],
   "source": [
    "model_influence = model.get_influence()\n",
    "(c, _) = model_influence.cooks_distance"
   ]
  },
  {
   "cell_type": "code",
   "execution_count": 71,
   "id": "33c8fc90",
   "metadata": {
    "ExecuteTime": {
     "end_time": "2023-01-26T11:07:32.364397Z",
     "start_time": "2023-01-26T11:07:32.030322Z"
    }
   },
   "outputs": [
    {
     "data": {
      "image/png": "[encoded data removed]",
      "text/plain": [
       "<Figure size 2000x700 with 1 Axes>"
      ]
     },
     "metadata": {},
     "output_type": "display_data"
    }
   ],
   "source": [
    "fig = plt.subplots(figsize=(20, 7))\n",
    "plt.stem(np.arange(len(df)), np.round(c, 3))\n",
    "plt.xlabel('Row index')\n",
    "plt.ylabel('Cooks Distance')\n",
    "plt.show()"
   ]
  },
  {
   "cell_type": "code",
   "execution_count": 72,
   "id": "cb6acae3",
   "metadata": {
    "ExecuteTime": {
     "end_time": "2023-01-26T11:07:42.656226Z",
     "start_time": "2023-01-26T11:07:42.644225Z"
    }
   },
   "outputs": [
    {
     "data": {
      "text/plain": [
       "(49, 0.22625094501509285)"
      ]
     },
     "execution_count": 72,
     "metadata": {},
     "output_type": "execute_result"
    }
   ],
   "source": [
    "(np.argmax(c),np.max(c))"
   ]
  },
  {
   "cell_type": "code",
   "execution_count": 73,
   "id": "c5184dcc",
   "metadata": {
    "ExecuteTime": {
     "end_time": "2023-01-26T11:08:02.722666Z",
     "start_time": "2023-01-26T11:08:02.366235Z"
    }
   },
   "outputs": [
    {
     "data": {
      "image/png": "[encoded data removed]",
      "text/plain": [
       "<Figure size 640x480 with 1 Axes>"
      ]
     },
     "metadata": {},
     "output_type": "display_data"
    }
   ],
   "source": [
    "from statsmodels.graphics.regressionplots import influence_plot\n",
    "influence_plot(model)\n",
    "plt.show()"
   ]
  },
  {
   "cell_type": "markdown",
   "id": "41c9e5fb",
   "metadata": {},
   "source": [
    "#### Index 48 and 49 has highest Cook's Distance"
   ]
  },
  {
   "cell_type": "code",
   "execution_count": 74,
   "id": "2177a13f",
   "metadata": {
    "ExecuteTime": {
     "end_time": "2023-01-26T11:11:57.757646Z",
     "start_time": "2023-01-26T11:11:57.741045Z"
    }
   },
   "outputs": [
    {
     "data": {
      "text/plain": [
       "0.18"
      ]
     },
     "execution_count": 74,
     "metadata": {},
     "output_type": "execute_result"
    }
   ],
   "source": [
    "k = 2\n",
    "n = df.shape[0]\n",
    "leverage_cutoff = 3*((k + 1)/n)\n",
    "leverage_cutoff "
   ]
  },
  {
   "cell_type": "markdown",
   "id": "a64b7b14",
   "metadata": {},
   "source": [
    "### Finding Variance Inflation Factor (VIF)"
   ]
  },
  {
   "cell_type": "code",
   "execution_count": 75,
   "id": "0c2523eb",
   "metadata": {
    "ExecuteTime": {
     "end_time": "2023-01-26T11:13:54.681151Z",
     "start_time": "2023-01-26T11:13:54.669151Z"
    }
   },
   "outputs": [],
   "source": [
    "vif = pd.DataFrame()"
   ]
  },
  {
   "cell_type": "code",
   "execution_count": 76,
   "id": "7256c721",
   "metadata": {
    "ExecuteTime": {
     "end_time": "2023-01-26T11:14:07.972471Z",
     "start_time": "2023-01-26T11:14:07.949048Z"
    }
   },
   "outputs": [],
   "source": [
    "from statsmodels.stats.outliers_influence import variance_inflation_factor\n",
    "vif[\"VIF Factor\"] = [variance_inflation_factor(X.values, i) for i in range(X.shape[1])]"
   ]
  },
  {
   "cell_type": "code",
   "execution_count": 77,
   "id": "107f106e",
   "metadata": {
    "ExecuteTime": {
     "end_time": "2023-01-26T11:14:21.056260Z",
     "start_time": "2023-01-26T11:14:21.044262Z"
    }
   },
   "outputs": [],
   "source": [
    "vif[\"features\"] = X.columns"
   ]
  },
  {
   "cell_type": "code",
   "execution_count": 78,
   "id": "a7363d84",
   "metadata": {
    "ExecuteTime": {
     "end_time": "2023-01-26T11:14:36.239691Z",
     "start_time": "2023-01-26T11:14:36.212686Z"
    }
   },
   "outputs": [
    {
     "data": {
      "text/html": [
       "<div>\n",
       "<style scoped>\n",
       "    .dataframe tbody tr th:only-of-type {\n",
       "        vertical-align: middle;\n",
       "    }\n",
       "\n",
       "    .dataframe tbody tr th {\n",
       "        vertical-align: top;\n",
       "    }\n",
       "\n",
       "    .dataframe thead th {\n",
       "        text-align: right;\n",
       "    }\n",
       "</style>\n",
       "<table border=\"1\" class=\"dataframe\">\n",
       "  <thead>\n",
       "    <tr style=\"text-align: right;\">\n",
       "      <th></th>\n",
       "      <th>VIF Factor</th>\n",
       "      <th>features</th>\n",
       "    </tr>\n",
       "  </thead>\n",
       "  <tbody>\n",
       "    <tr>\n",
       "      <th>0</th>\n",
       "      <td>2.5</td>\n",
       "      <td>R&amp;D Spend</td>\n",
       "    </tr>\n",
       "    <tr>\n",
       "      <th>1</th>\n",
       "      <td>1.2</td>\n",
       "      <td>Administration</td>\n",
       "    </tr>\n",
       "    <tr>\n",
       "      <th>2</th>\n",
       "      <td>2.4</td>\n",
       "      <td>Marketing Spend</td>\n",
       "    </tr>\n",
       "    <tr>\n",
       "      <th>3</th>\n",
       "      <td>9.0</td>\n",
       "      <td>State_California</td>\n",
       "    </tr>\n",
       "    <tr>\n",
       "      <th>4</th>\n",
       "      <td>9.4</td>\n",
       "      <td>State_Florida</td>\n",
       "    </tr>\n",
       "    <tr>\n",
       "      <th>5</th>\n",
       "      <td>9.2</td>\n",
       "      <td>State_New York</td>\n",
       "    </tr>\n",
       "  </tbody>\n",
       "</table>\n",
       "</div>"
      ],
      "text/plain": [
       "   VIF Factor          features\n",
       "0         2.5         R&D Spend\n",
       "1         1.2    Administration\n",
       "2         2.4   Marketing Spend\n",
       "3         9.0  State_California\n",
       "4         9.4     State_Florida\n",
       "5         9.2    State_New York"
      ]
     },
     "execution_count": 78,
     "metadata": {},
     "output_type": "execute_result"
    }
   ],
   "source": [
    "vif.round(1)"
   ]
  },
  {
   "cell_type": "markdown",
   "id": "755af9d0",
   "metadata": {},
   "source": [
    "##### As expected, Administration has the lowest variance inflation factor We would need to discard this variables to improve model and try to solve multicolinearity"
   ]
  },
  {
   "cell_type": "code",
   "execution_count": 79,
   "id": "04e160bc",
   "metadata": {
    "ExecuteTime": {
     "end_time": "2023-01-26T11:17:04.190786Z",
     "start_time": "2023-01-26T11:17:04.172582Z"
    }
   },
   "outputs": [],
   "source": [
    "new_X = df[['R&D Spend', 'Marketing Spend', 'State_California', 'State_Florida', 'State_New York']]"
   ]
  },
  {
   "cell_type": "code",
   "execution_count": 83,
   "id": "dd463e9e",
   "metadata": {
    "ExecuteTime": {
     "end_time": "2023-01-26T11:18:49.568151Z",
     "start_time": "2023-01-26T11:18:49.534107Z"
    }
   },
   "outputs": [
    {
     "data": {
      "text/plain": [
       "Intercept    8.163748e+00\n",
       "new_X[0]     8.225469e-06\n",
       "new_X[1]     2.443065e-07\n",
       "new_X[2]     2.683589e+00\n",
       "new_X[3]     2.750377e+00\n",
       "new_X[4]     2.729781e+00\n",
       "dtype: float64"
      ]
     },
     "execution_count": 83,
     "metadata": {},
     "output_type": "execute_result"
    }
   ],
   "source": [
    "import warnings\n",
    "warnings.filterwarnings('ignore')\n",
    "model2 = smf.ols('np.log(Y)~new_X',data= df).fit()\n",
    "model2.params"
   ]
  },
  {
   "cell_type": "code",
   "execution_count": 84,
   "id": "5f06178d",
   "metadata": {
    "ExecuteTime": {
     "end_time": "2023-01-26T11:18:51.086370Z",
     "start_time": "2023-01-26T11:18:51.046677Z"
    }
   },
   "outputs": [
    {
     "data": {
      "text/html": [
       "<table class=\"simpletable\">\n",
       "<caption>OLS Regression Results</caption>\n",
       "<tr>\n",
       "  <th>Dep. Variable:</th>        <td>np.log(Y)</td>    <th>  R-squared:         </th> <td>   0.765</td>\n",
       "</tr>\n",
       "<tr>\n",
       "  <th>Model:</th>                   <td>OLS</td>       <th>  Adj. R-squared:    </th> <td>   0.744</td>\n",
       "</tr>\n",
       "<tr>\n",
       "  <th>Method:</th>             <td>Least Squares</td>  <th>  F-statistic:       </th> <td>   36.62</td>\n",
       "</tr>\n",
       "<tr>\n",
       "  <th>Date:</th>             <td>Thu, 26 Jan 2023</td> <th>  Prob (F-statistic):</th> <td>1.29e-13</td>\n",
       "</tr>\n",
       "<tr>\n",
       "  <th>Time:</th>                 <td>16:48:51</td>     <th>  Log-Likelihood:    </th> <td>  4.2450</td>\n",
       "</tr>\n",
       "<tr>\n",
       "  <th>No. Observations:</th>      <td>    50</td>      <th>  AIC:               </th> <td>   1.510</td>\n",
       "</tr>\n",
       "<tr>\n",
       "  <th>Df Residuals:</th>          <td>    45</td>      <th>  BIC:               </th> <td>   11.07</td>\n",
       "</tr>\n",
       "<tr>\n",
       "  <th>Df Model:</th>              <td>     4</td>      <th>                     </th>     <td> </td>   \n",
       "</tr>\n",
       "<tr>\n",
       "  <th>Covariance Type:</th>      <td>nonrobust</td>    <th>                     </th>     <td> </td>   \n",
       "</tr>\n",
       "</table>\n",
       "<table class=\"simpletable\">\n",
       "<tr>\n",
       "      <td></td>         <th>coef</th>     <th>std err</th>      <th>t</th>      <th>P>|t|</th>  <th>[0.025</th>    <th>0.975]</th>  \n",
       "</tr>\n",
       "<tr>\n",
       "  <th>Intercept</th> <td>    8.1637</td> <td>    0.053</td> <td>  155.308</td> <td> 0.000</td> <td>    8.058</td> <td>    8.270</td>\n",
       "</tr>\n",
       "<tr>\n",
       "  <th>new_X[0]</th>  <td> 8.225e-06</td> <td> 1.06e-06</td> <td>    7.743</td> <td> 0.000</td> <td> 6.09e-06</td> <td> 1.04e-05</td>\n",
       "</tr>\n",
       "<tr>\n",
       "  <th>new_X[1]</th>  <td> 2.443e-07</td> <td> 4.04e-07</td> <td>    0.604</td> <td> 0.549</td> <td> -5.7e-07</td> <td> 1.06e-06</td>\n",
       "</tr>\n",
       "<tr>\n",
       "  <th>new_X[2]</th>  <td>    2.6836</td> <td>    0.048</td> <td>   56.132</td> <td> 0.000</td> <td>    2.587</td> <td>    2.780</td>\n",
       "</tr>\n",
       "<tr>\n",
       "  <th>new_X[3]</th>  <td>    2.7504</td> <td>    0.054</td> <td>   50.624</td> <td> 0.000</td> <td>    2.641</td> <td>    2.860</td>\n",
       "</tr>\n",
       "<tr>\n",
       "  <th>new_X[4]</th>  <td>    2.7298</td> <td>    0.050</td> <td>   54.855</td> <td> 0.000</td> <td>    2.630</td> <td>    2.830</td>\n",
       "</tr>\n",
       "</table>\n",
       "<table class=\"simpletable\">\n",
       "<tr>\n",
       "  <th>Omnibus:</th>       <td>71.956</td> <th>  Durbin-Watson:     </th> <td>   0.553</td> \n",
       "</tr>\n",
       "<tr>\n",
       "  <th>Prob(Omnibus):</th> <td> 0.000</td> <th>  Jarque-Bera (JB):  </th> <td> 815.917</td> \n",
       "</tr>\n",
       "<tr>\n",
       "  <th>Skew:</th>          <td>-3.745</td> <th>  Prob(JB):          </th> <td>6.70e-178</td>\n",
       "</tr>\n",
       "<tr>\n",
       "  <th>Kurtosis:</th>      <td>21.317</td> <th>  Cond. No.          </th> <td>2.19e+21</td> \n",
       "</tr>\n",
       "</table><br/><br/>Notes:<br/>[1] Standard Errors assume that the covariance matrix of the errors is correctly specified.<br/>[2] The smallest eigenvalue is 6.88e-31. This might indicate that there are<br/>strong multicollinearity problems or that the design matrix is singular."
      ],
      "text/plain": [
       "<class 'statsmodels.iolib.summary.Summary'>\n",
       "\"\"\"\n",
       "                            OLS Regression Results                            \n",
       "==============================================================================\n",
       "Dep. Variable:              np.log(Y)   R-squared:                       0.765\n",
       "Model:                            OLS   Adj. R-squared:                  0.744\n",
       "Method:                 Least Squares   F-statistic:                     36.62\n",
       "Date:                Thu, 26 Jan 2023   Prob (F-statistic):           1.29e-13\n",
       "Time:                        16:48:51   Log-Likelihood:                 4.2450\n",
       "No. Observations:                  50   AIC:                             1.510\n",
       "Df Residuals:                      45   BIC:                             11.07\n",
       "Df Model:                           4                                         \n",
       "Covariance Type:            nonrobust                                         \n",
       "==============================================================================\n",
       "                 coef    std err          t      P>|t|      [0.025      0.975]\n",
       "------------------------------------------------------------------------------\n",
       "Intercept      8.1637      0.053    155.308      0.000       8.058       8.270\n",
       "new_X[0]    8.225e-06   1.06e-06      7.743      0.000    6.09e-06    1.04e-05\n",
       "new_X[1]    2.443e-07   4.04e-07      0.604      0.549    -5.7e-07    1.06e-06\n",
       "new_X[2]       2.6836      0.048     56.132      0.000       2.587       2.780\n",
       "new_X[3]       2.7504      0.054     50.624      0.000       2.641       2.860\n",
       "new_X[4]       2.7298      0.050     54.855      0.000       2.630       2.830\n",
       "==============================================================================\n",
       "Omnibus:                       71.956   Durbin-Watson:                   0.553\n",
       "Prob(Omnibus):                  0.000   Jarque-Bera (JB):              815.917\n",
       "Skew:                          -3.745   Prob(JB):                    6.70e-178\n",
       "Kurtosis:                      21.317   Cond. No.                     2.19e+21\n",
       "==============================================================================\n",
       "\n",
       "Notes:\n",
       "[1] Standard Errors assume that the covariance matrix of the errors is correctly specified.\n",
       "[2] The smallest eigenvalue is 6.88e-31. This might indicate that there are\n",
       "strong multicollinearity problems or that the design matrix is singular.\n",
       "\"\"\""
      ]
     },
     "execution_count": 84,
     "metadata": {},
     "output_type": "execute_result"
    }
   ],
   "source": [
    "model2.summary()"
   ]
  },
  {
   "cell_type": "markdown",
   "id": "e7792ec8",
   "metadata": {},
   "source": [
    "#### Final model transformation"
   ]
  },
  {
   "cell_type": "code",
   "execution_count": 86,
   "id": "63c110df",
   "metadata": {
    "ExecuteTime": {
     "end_time": "2023-01-26T11:21:49.617760Z",
     "start_time": "2023-01-26T11:21:49.600763Z"
    }
   },
   "outputs": [],
   "source": [
    "new_df = df.drop(df.index[[49,48]])"
   ]
  },
  {
   "cell_type": "code",
   "execution_count": 87,
   "id": "2548c23f",
   "metadata": {
    "ExecuteTime": {
     "end_time": "2023-01-26T11:22:02.896297Z",
     "start_time": "2023-01-26T11:22:02.886776Z"
    }
   },
   "outputs": [],
   "source": [
    "new_X = new_df[['R&D Spend', 'Marketing Spend', 'State_California', 'State_Florida', 'State_New York']]\n",
    "new_Y = new_df[['Profit']]"
   ]
  },
  {
   "cell_type": "code",
   "execution_count": 88,
   "id": "8ce7053d",
   "metadata": {
    "ExecuteTime": {
     "end_time": "2023-01-26T11:22:16.643650Z",
     "start_time": "2023-01-26T11:22:16.618497Z"
    }
   },
   "outputs": [],
   "source": [
    "final_model = sm.OLS(new_Y, new_X).fit()\n",
    "predictions = final_model.predict(new_X)"
   ]
  },
  {
   "cell_type": "code",
   "execution_count": 89,
   "id": "41d7022e",
   "metadata": {
    "ExecuteTime": {
     "end_time": "2023-01-26T11:22:24.916248Z",
     "start_time": "2023-01-26T11:22:24.871087Z"
    }
   },
   "outputs": [
    {
     "data": {
      "text/html": [
       "<table class=\"simpletable\">\n",
       "<caption>OLS Regression Results</caption>\n",
       "<tr>\n",
       "  <th>Dep. Variable:</th>         <td>Profit</td>      <th>  R-squared:         </th> <td>   0.961</td>\n",
       "</tr>\n",
       "<tr>\n",
       "  <th>Model:</th>                   <td>OLS</td>       <th>  Adj. R-squared:    </th> <td>   0.958</td>\n",
       "</tr>\n",
       "<tr>\n",
       "  <th>Method:</th>             <td>Least Squares</td>  <th>  F-statistic:       </th> <td>   265.9</td>\n",
       "</tr>\n",
       "<tr>\n",
       "  <th>Date:</th>             <td>Thu, 26 Jan 2023</td> <th>  Prob (F-statistic):</th> <td>1.02e-29</td>\n",
       "</tr>\n",
       "<tr>\n",
       "  <th>Time:</th>                 <td>16:52:24</td>     <th>  Log-Likelihood:    </th> <td> -494.30</td>\n",
       "</tr>\n",
       "<tr>\n",
       "  <th>No. Observations:</th>      <td>    48</td>      <th>  AIC:               </th> <td>   998.6</td>\n",
       "</tr>\n",
       "<tr>\n",
       "  <th>Df Residuals:</th>          <td>    43</td>      <th>  BIC:               </th> <td>   1008.</td>\n",
       "</tr>\n",
       "<tr>\n",
       "  <th>Df Model:</th>              <td>     4</td>      <th>                     </th>     <td> </td>   \n",
       "</tr>\n",
       "<tr>\n",
       "  <th>Covariance Type:</th>      <td>nonrobust</td>    <th>                     </th>     <td> </td>   \n",
       "</tr>\n",
       "</table>\n",
       "<table class=\"simpletable\">\n",
       "<tr>\n",
       "          <td></td>            <th>coef</th>     <th>std err</th>      <th>t</th>      <th>P>|t|</th>  <th>[0.025</th>    <th>0.975]</th>  \n",
       "</tr>\n",
       "<tr>\n",
       "  <th>R&D Spend</th>        <td>    0.7692</td> <td>    0.035</td> <td>   22.072</td> <td> 0.000</td> <td>    0.699</td> <td>    0.840</td>\n",
       "</tr>\n",
       "<tr>\n",
       "  <th>Marketing Spend</th>  <td>    0.0251</td> <td>    0.013</td> <td>    1.908</td> <td> 0.063</td> <td>   -0.001</td> <td>    0.052</td>\n",
       "</tr>\n",
       "<tr>\n",
       "  <th>State_California</th> <td> 5.183e+04</td> <td> 2710.866</td> <td>   19.120</td> <td> 0.000</td> <td> 4.64e+04</td> <td> 5.73e+04</td>\n",
       "</tr>\n",
       "<tr>\n",
       "  <th>State_Florida</th>    <td> 5.046e+04</td> <td> 3078.590</td> <td>   16.391</td> <td> 0.000</td> <td> 4.43e+04</td> <td> 5.67e+04</td>\n",
       "</tr>\n",
       "<tr>\n",
       "  <th>State_New York</th>   <td>  5.09e+04</td> <td> 2936.767</td> <td>   17.333</td> <td> 0.000</td> <td>  4.5e+04</td> <td> 5.68e+04</td>\n",
       "</tr>\n",
       "</table>\n",
       "<table class=\"simpletable\">\n",
       "<tr>\n",
       "  <th>Omnibus:</th>       <td> 0.133</td> <th>  Durbin-Watson:     </th> <td>   1.645</td>\n",
       "</tr>\n",
       "<tr>\n",
       "  <th>Prob(Omnibus):</th> <td> 0.936</td> <th>  Jarque-Bera (JB):  </th> <td>   0.304</td>\n",
       "</tr>\n",
       "<tr>\n",
       "  <th>Skew:</th>          <td> 0.097</td> <th>  Prob(JB):          </th> <td>   0.859</td>\n",
       "</tr>\n",
       "<tr>\n",
       "  <th>Kurtosis:</th>      <td> 2.661</td> <th>  Cond. No.          </th> <td>1.02e+06</td>\n",
       "</tr>\n",
       "</table><br/><br/>Notes:<br/>[1] Standard Errors assume that the covariance matrix of the errors is correctly specified.<br/>[2] The condition number is large, 1.02e+06. This might indicate that there are<br/>strong multicollinearity or other numerical problems."
      ],
      "text/plain": [
       "<class 'statsmodels.iolib.summary.Summary'>\n",
       "\"\"\"\n",
       "                            OLS Regression Results                            \n",
       "==============================================================================\n",
       "Dep. Variable:                 Profit   R-squared:                       0.961\n",
       "Model:                            OLS   Adj. R-squared:                  0.958\n",
       "Method:                 Least Squares   F-statistic:                     265.9\n",
       "Date:                Thu, 26 Jan 2023   Prob (F-statistic):           1.02e-29\n",
       "Time:                        16:52:24   Log-Likelihood:                -494.30\n",
       "No. Observations:                  48   AIC:                             998.6\n",
       "Df Residuals:                      43   BIC:                             1008.\n",
       "Df Model:                           4                                         \n",
       "Covariance Type:            nonrobust                                         \n",
       "====================================================================================\n",
       "                       coef    std err          t      P>|t|      [0.025      0.975]\n",
       "------------------------------------------------------------------------------------\n",
       "R&D Spend            0.7692      0.035     22.072      0.000       0.699       0.840\n",
       "Marketing Spend      0.0251      0.013      1.908      0.063      -0.001       0.052\n",
       "State_California  5.183e+04   2710.866     19.120      0.000    4.64e+04    5.73e+04\n",
       "State_Florida     5.046e+04   3078.590     16.391      0.000    4.43e+04    5.67e+04\n",
       "State_New York     5.09e+04   2936.767     17.333      0.000     4.5e+04    5.68e+04\n",
       "==============================================================================\n",
       "Omnibus:                        0.133   Durbin-Watson:                   1.645\n",
       "Prob(Omnibus):                  0.936   Jarque-Bera (JB):                0.304\n",
       "Skew:                           0.097   Prob(JB):                        0.859\n",
       "Kurtosis:                       2.661   Cond. No.                     1.02e+06\n",
       "==============================================================================\n",
       "\n",
       "Notes:\n",
       "[1] Standard Errors assume that the covariance matrix of the errors is correctly specified.\n",
       "[2] The condition number is large, 1.02e+06. This might indicate that there are\n",
       "strong multicollinearity or other numerical problems.\n",
       "\"\"\""
      ]
     },
     "execution_count": 89,
     "metadata": {},
     "output_type": "execute_result"
    }
   ],
   "source": [
    "final_model.summary()"
   ]
  },
  {
   "cell_type": "markdown",
   "id": "ac032913",
   "metadata": {},
   "source": [
    "#### Squre Root of X"
   ]
  },
  {
   "cell_type": "code",
   "execution_count": 90,
   "id": "d47f0ad4",
   "metadata": {
    "ExecuteTime": {
     "end_time": "2023-01-26T11:24:39.321002Z",
     "start_time": "2023-01-26T11:24:39.308674Z"
    }
   },
   "outputs": [],
   "source": [
    "X_sqrt = np.sqrt(new_df[['R&D Spend', 'Marketing Spend', 'State_California', 'State_Florida', 'State_New York']])"
   ]
  },
  {
   "cell_type": "code",
   "execution_count": 91,
   "id": "677bf84c",
   "metadata": {
    "ExecuteTime": {
     "end_time": "2023-01-26T11:24:46.886218Z",
     "start_time": "2023-01-26T11:24:46.873300Z"
    }
   },
   "outputs": [],
   "source": [
    "model3 = sm.OLS(new_Y, X_sqrt).fit()\n",
    "predictions3 = model3.predict(X_sqrt)"
   ]
  },
  {
   "cell_type": "code",
   "execution_count": 92,
   "id": "2171cd19",
   "metadata": {
    "ExecuteTime": {
     "end_time": "2023-01-26T11:24:57.116612Z",
     "start_time": "2023-01-26T11:24:57.076359Z"
    },
    "scrolled": false
   },
   "outputs": [
    {
     "data": {
      "text/html": [
       "<table class=\"simpletable\">\n",
       "<caption>OLS Regression Results</caption>\n",
       "<tr>\n",
       "  <th>Dep. Variable:</th>         <td>Profit</td>      <th>  R-squared:         </th> <td>   0.887</td>\n",
       "</tr>\n",
       "<tr>\n",
       "  <th>Model:</th>                   <td>OLS</td>       <th>  Adj. R-squared:    </th> <td>   0.877</td>\n",
       "</tr>\n",
       "<tr>\n",
       "  <th>Method:</th>             <td>Least Squares</td>  <th>  F-statistic:       </th> <td>   84.44</td>\n",
       "</tr>\n",
       "<tr>\n",
       "  <th>Date:</th>             <td>Thu, 26 Jan 2023</td> <th>  Prob (F-statistic):</th> <td>8.67e-20</td>\n",
       "</tr>\n",
       "<tr>\n",
       "  <th>Time:</th>                 <td>16:54:57</td>     <th>  Log-Likelihood:    </th> <td> -519.91</td>\n",
       "</tr>\n",
       "<tr>\n",
       "  <th>No. Observations:</th>      <td>    48</td>      <th>  AIC:               </th> <td>   1050.</td>\n",
       "</tr>\n",
       "<tr>\n",
       "  <th>Df Residuals:</th>          <td>    43</td>      <th>  BIC:               </th> <td>   1059.</td>\n",
       "</tr>\n",
       "<tr>\n",
       "  <th>Df Model:</th>              <td>     4</td>      <th>                     </th>     <td> </td>   \n",
       "</tr>\n",
       "<tr>\n",
       "  <th>Covariance Type:</th>      <td>nonrobust</td>    <th>                     </th>     <td> </td>   \n",
       "</tr>\n",
       "</table>\n",
       "<table class=\"simpletable\">\n",
       "<tr>\n",
       "          <td></td>            <th>coef</th>     <th>std err</th>      <th>t</th>      <th>P>|t|</th>  <th>[0.025</th>    <th>0.975]</th>  \n",
       "</tr>\n",
       "<tr>\n",
       "  <th>R&D Spend</th>        <td>  340.5455</td> <td>   25.777</td> <td>   13.211</td> <td> 0.000</td> <td>  288.560</td> <td>  392.531</td>\n",
       "</tr>\n",
       "<tr>\n",
       "  <th>Marketing Spend</th>  <td>   20.0497</td> <td>   15.481</td> <td>    1.295</td> <td> 0.202</td> <td>  -11.170</td> <td>   51.270</td>\n",
       "</tr>\n",
       "<tr>\n",
       "  <th>State_California</th> <td> 1.836e+04</td> <td> 6267.224</td> <td>    2.930</td> <td> 0.005</td> <td> 5724.219</td> <td>  3.1e+04</td>\n",
       "</tr>\n",
       "<tr>\n",
       "  <th>State_Florida</th>    <td> 1.692e+04</td> <td> 7013.669</td> <td>    2.413</td> <td> 0.020</td> <td> 2779.320</td> <td> 3.11e+04</td>\n",
       "</tr>\n",
       "<tr>\n",
       "  <th>State_New York</th>   <td> 1.908e+04</td> <td> 6591.247</td> <td>    2.894</td> <td> 0.006</td> <td> 5782.772</td> <td> 3.24e+04</td>\n",
       "</tr>\n",
       "</table>\n",
       "<table class=\"simpletable\">\n",
       "<tr>\n",
       "  <th>Omnibus:</th>       <td> 7.588</td> <th>  Durbin-Watson:     </th> <td>   0.777</td>\n",
       "</tr>\n",
       "<tr>\n",
       "  <th>Prob(Omnibus):</th> <td> 0.023</td> <th>  Jarque-Bera (JB):  </th> <td>   7.161</td>\n",
       "</tr>\n",
       "<tr>\n",
       "  <th>Skew:</th>          <td> 0.941</td> <th>  Prob(JB):          </th> <td>  0.0279</td>\n",
       "</tr>\n",
       "<tr>\n",
       "  <th>Kurtosis:</th>      <td> 3.197</td> <th>  Cond. No.          </th> <td>3.04e+03</td>\n",
       "</tr>\n",
       "</table><br/><br/>Notes:<br/>[1] Standard Errors assume that the covariance matrix of the errors is correctly specified.<br/>[2] The condition number is large, 3.04e+03. This might indicate that there are<br/>strong multicollinearity or other numerical problems."
      ],
      "text/plain": [
       "<class 'statsmodels.iolib.summary.Summary'>\n",
       "\"\"\"\n",
       "                            OLS Regression Results                            \n",
       "==============================================================================\n",
       "Dep. Variable:                 Profit   R-squared:                       0.887\n",
       "Model:                            OLS   Adj. R-squared:                  0.877\n",
       "Method:                 Least Squares   F-statistic:                     84.44\n",
       "Date:                Thu, 26 Jan 2023   Prob (F-statistic):           8.67e-20\n",
       "Time:                        16:54:57   Log-Likelihood:                -519.91\n",
       "No. Observations:                  48   AIC:                             1050.\n",
       "Df Residuals:                      43   BIC:                             1059.\n",
       "Df Model:                           4                                         \n",
       "Covariance Type:            nonrobust                                         \n",
       "====================================================================================\n",
       "                       coef    std err          t      P>|t|      [0.025      0.975]\n",
       "------------------------------------------------------------------------------------\n",
       "R&D Spend          340.5455     25.777     13.211      0.000     288.560     392.531\n",
       "Marketing Spend     20.0497     15.481      1.295      0.202     -11.170      51.270\n",
       "State_California  1.836e+04   6267.224      2.930      0.005    5724.219     3.1e+04\n",
       "State_Florida     1.692e+04   7013.669      2.413      0.020    2779.320    3.11e+04\n",
       "State_New York    1.908e+04   6591.247      2.894      0.006    5782.772    3.24e+04\n",
       "==============================================================================\n",
       "Omnibus:                        7.588   Durbin-Watson:                   0.777\n",
       "Prob(Omnibus):                  0.023   Jarque-Bera (JB):                7.161\n",
       "Skew:                           0.941   Prob(JB):                       0.0279\n",
       "Kurtosis:                       3.197   Cond. No.                     3.04e+03\n",
       "==============================================================================\n",
       "\n",
       "Notes:\n",
       "[1] Standard Errors assume that the covariance matrix of the errors is correctly specified.\n",
       "[2] The condition number is large, 3.04e+03. This might indicate that there are\n",
       "strong multicollinearity or other numerical problems.\n",
       "\"\"\""
      ]
     },
     "execution_count": 92,
     "metadata": {},
     "output_type": "execute_result"
    }
   ],
   "source": [
    "model3.summary()"
   ]
  },
  {
   "cell_type": "markdown",
   "id": "f3069dfe",
   "metadata": {},
   "source": [
    "#### Squre Root of Y"
   ]
  },
  {
   "cell_type": "code",
   "execution_count": 93,
   "id": "daa9da5f",
   "metadata": {
    "ExecuteTime": {
     "end_time": "2023-01-26T11:26:08.264882Z",
     "start_time": "2023-01-26T11:26:08.243807Z"
    }
   },
   "outputs": [],
   "source": [
    "Y_sqrt = np.sqrt(new_df['Profit'])"
   ]
  },
  {
   "cell_type": "code",
   "execution_count": 94,
   "id": "7000566c",
   "metadata": {
    "ExecuteTime": {
     "end_time": "2023-01-26T11:26:58.445859Z",
     "start_time": "2023-01-26T11:26:58.437408Z"
    }
   },
   "outputs": [],
   "source": [
    "model4 = sm.OLS(Y_sqrt, new_X).fit()\n",
    "predictions4 = model4.predict(new_X)"
   ]
  },
  {
   "cell_type": "code",
   "execution_count": 95,
   "id": "3d2ec078",
   "metadata": {
    "ExecuteTime": {
     "end_time": "2023-01-26T11:27:07.847034Z",
     "start_time": "2023-01-26T11:27:07.808474Z"
    }
   },
   "outputs": [
    {
     "data": {
      "text/html": [
       "<table class=\"simpletable\">\n",
       "<caption>OLS Regression Results</caption>\n",
       "<tr>\n",
       "  <th>Dep. Variable:</th>         <td>Profit</td>      <th>  R-squared:         </th> <td>   0.954</td>\n",
       "</tr>\n",
       "<tr>\n",
       "  <th>Model:</th>                   <td>OLS</td>       <th>  Adj. R-squared:    </th> <td>   0.950</td>\n",
       "</tr>\n",
       "<tr>\n",
       "  <th>Method:</th>             <td>Least Squares</td>  <th>  F-statistic:       </th> <td>   223.3</td>\n",
       "</tr>\n",
       "<tr>\n",
       "  <th>Date:</th>             <td>Thu, 26 Jan 2023</td> <th>  Prob (F-statistic):</th> <td>3.68e-28</td>\n",
       "</tr>\n",
       "<tr>\n",
       "  <th>Time:</th>                 <td>16:57:07</td>     <th>  Log-Likelihood:    </th> <td> -185.87</td>\n",
       "</tr>\n",
       "<tr>\n",
       "  <th>No. Observations:</th>      <td>    48</td>      <th>  AIC:               </th> <td>   381.7</td>\n",
       "</tr>\n",
       "<tr>\n",
       "  <th>Df Residuals:</th>          <td>    43</td>      <th>  BIC:               </th> <td>   391.1</td>\n",
       "</tr>\n",
       "<tr>\n",
       "  <th>Df Model:</th>              <td>     4</td>      <th>                     </th>     <td> </td>   \n",
       "</tr>\n",
       "<tr>\n",
       "  <th>Covariance Type:</th>      <td>nonrobust</td>    <th>                     </th>     <td> </td>   \n",
       "</tr>\n",
       "</table>\n",
       "<table class=\"simpletable\">\n",
       "<tr>\n",
       "          <td></td>            <th>coef</th>     <th>std err</th>      <th>t</th>      <th>P>|t|</th>  <th>[0.025</th>    <th>0.975]</th>  \n",
       "</tr>\n",
       "<tr>\n",
       "  <th>R&D Spend</th>        <td>    0.0012</td> <td> 5.64e-05</td> <td>   20.622</td> <td> 0.000</td> <td>    0.001</td> <td>    0.001</td>\n",
       "</tr>\n",
       "<tr>\n",
       "  <th>Marketing Spend</th>  <td> 2.473e-05</td> <td> 2.13e-05</td> <td>    1.159</td> <td> 0.253</td> <td>-1.83e-05</td> <td> 6.78e-05</td>\n",
       "</tr>\n",
       "<tr>\n",
       "  <th>State_California</th> <td>  241.0032</td> <td>    4.390</td> <td>   54.894</td> <td> 0.000</td> <td>  232.149</td> <td>  249.857</td>\n",
       "</tr>\n",
       "<tr>\n",
       "  <th>State_Florida</th>    <td>  240.7325</td> <td>    4.986</td> <td>   48.283</td> <td> 0.000</td> <td>  230.678</td> <td>  250.787</td>\n",
       "</tr>\n",
       "<tr>\n",
       "  <th>State_New York</th>   <td>  240.9886</td> <td>    4.756</td> <td>   50.669</td> <td> 0.000</td> <td>  231.397</td> <td>  250.580</td>\n",
       "</tr>\n",
       "</table>\n",
       "<table class=\"simpletable\">\n",
       "<tr>\n",
       "  <th>Omnibus:</th>       <td> 4.530</td> <th>  Durbin-Watson:     </th> <td>   1.406</td>\n",
       "</tr>\n",
       "<tr>\n",
       "  <th>Prob(Omnibus):</th> <td> 0.104</td> <th>  Jarque-Bera (JB):  </th> <td>   3.371</td>\n",
       "</tr>\n",
       "<tr>\n",
       "  <th>Skew:</th>          <td>-0.532</td> <th>  Prob(JB):          </th> <td>   0.185</td>\n",
       "</tr>\n",
       "<tr>\n",
       "  <th>Kurtosis:</th>      <td> 3.745</td> <th>  Cond. No.          </th> <td>1.02e+06</td>\n",
       "</tr>\n",
       "</table><br/><br/>Notes:<br/>[1] Standard Errors assume that the covariance matrix of the errors is correctly specified.<br/>[2] The condition number is large, 1.02e+06. This might indicate that there are<br/>strong multicollinearity or other numerical problems."
      ],
      "text/plain": [
       "<class 'statsmodels.iolib.summary.Summary'>\n",
       "\"\"\"\n",
       "                            OLS Regression Results                            \n",
       "==============================================================================\n",
       "Dep. Variable:                 Profit   R-squared:                       0.954\n",
       "Model:                            OLS   Adj. R-squared:                  0.950\n",
       "Method:                 Least Squares   F-statistic:                     223.3\n",
       "Date:                Thu, 26 Jan 2023   Prob (F-statistic):           3.68e-28\n",
       "Time:                        16:57:07   Log-Likelihood:                -185.87\n",
       "No. Observations:                  48   AIC:                             381.7\n",
       "Df Residuals:                      43   BIC:                             391.1\n",
       "Df Model:                           4                                         \n",
       "Covariance Type:            nonrobust                                         \n",
       "====================================================================================\n",
       "                       coef    std err          t      P>|t|      [0.025      0.975]\n",
       "------------------------------------------------------------------------------------\n",
       "R&D Spend            0.0012   5.64e-05     20.622      0.000       0.001       0.001\n",
       "Marketing Spend   2.473e-05   2.13e-05      1.159      0.253   -1.83e-05    6.78e-05\n",
       "State_California   241.0032      4.390     54.894      0.000     232.149     249.857\n",
       "State_Florida      240.7325      4.986     48.283      0.000     230.678     250.787\n",
       "State_New York     240.9886      4.756     50.669      0.000     231.397     250.580\n",
       "==============================================================================\n",
       "Omnibus:                        4.530   Durbin-Watson:                   1.406\n",
       "Prob(Omnibus):                  0.104   Jarque-Bera (JB):                3.371\n",
       "Skew:                          -0.532   Prob(JB):                        0.185\n",
       "Kurtosis:                       3.745   Cond. No.                     1.02e+06\n",
       "==============================================================================\n",
       "\n",
       "Notes:\n",
       "[1] Standard Errors assume that the covariance matrix of the errors is correctly specified.\n",
       "[2] The condition number is large, 1.02e+06. This might indicate that there are\n",
       "strong multicollinearity or other numerical problems.\n",
       "\"\"\""
      ]
     },
     "execution_count": 95,
     "metadata": {},
     "output_type": "execute_result"
    }
   ],
   "source": [
    "model4.summary()"
   ]
  },
  {
   "cell_type": "markdown",
   "id": "27d1d20c",
   "metadata": {},
   "source": [
    "#### Squre Root of X & Y"
   ]
  },
  {
   "cell_type": "code",
   "execution_count": 96,
   "id": "ed3412c7",
   "metadata": {
    "ExecuteTime": {
     "end_time": "2023-01-26T11:27:23.578971Z",
     "start_time": "2023-01-26T11:27:23.563971Z"
    }
   },
   "outputs": [],
   "source": [
    "model5 = sm.OLS(Y_sqrt, X_sqrt).fit()\n",
    "predictions5 = model5.predict(X_sqrt)"
   ]
  },
  {
   "cell_type": "code",
   "execution_count": 97,
   "id": "8f6e4b84",
   "metadata": {
    "ExecuteTime": {
     "end_time": "2023-01-26T11:27:31.360994Z",
     "start_time": "2023-01-26T11:27:31.325564Z"
    }
   },
   "outputs": [
    {
     "data": {
      "text/html": [
       "<table class=\"simpletable\">\n",
       "<caption>OLS Regression Results</caption>\n",
       "<tr>\n",
       "  <th>Dep. Variable:</th>         <td>Profit</td>      <th>  R-squared:         </th> <td>   0.929</td>\n",
       "</tr>\n",
       "<tr>\n",
       "  <th>Model:</th>                   <td>OLS</td>       <th>  Adj. R-squared:    </th> <td>   0.923</td>\n",
       "</tr>\n",
       "<tr>\n",
       "  <th>Method:</th>             <td>Least Squares</td>  <th>  F-statistic:       </th> <td>   141.7</td>\n",
       "</tr>\n",
       "<tr>\n",
       "  <th>Date:</th>             <td>Thu, 26 Jan 2023</td> <th>  Prob (F-statistic):</th> <td>3.64e-24</td>\n",
       "</tr>\n",
       "<tr>\n",
       "  <th>Time:</th>                 <td>16:57:31</td>     <th>  Log-Likelihood:    </th> <td> -196.16</td>\n",
       "</tr>\n",
       "<tr>\n",
       "  <th>No. Observations:</th>      <td>    48</td>      <th>  AIC:               </th> <td>   402.3</td>\n",
       "</tr>\n",
       "<tr>\n",
       "  <th>Df Residuals:</th>          <td>    43</td>      <th>  BIC:               </th> <td>   411.7</td>\n",
       "</tr>\n",
       "<tr>\n",
       "  <th>Df Model:</th>              <td>     4</td>      <th>                     </th>     <td> </td>   \n",
       "</tr>\n",
       "<tr>\n",
       "  <th>Covariance Type:</th>      <td>nonrobust</td>    <th>                     </th>     <td> </td>   \n",
       "</tr>\n",
       "</table>\n",
       "<table class=\"simpletable\">\n",
       "<tr>\n",
       "          <td></td>            <th>coef</th>     <th>std err</th>      <th>t</th>      <th>P>|t|</th>  <th>[0.025</th>    <th>0.975]</th>  \n",
       "</tr>\n",
       "<tr>\n",
       "  <th>R&D Spend</th>        <td>    0.5271</td> <td>    0.030</td> <td>   17.371</td> <td> 0.000</td> <td>    0.466</td> <td>    0.588</td>\n",
       "</tr>\n",
       "<tr>\n",
       "  <th>Marketing Spend</th>  <td>    0.0231</td> <td>    0.018</td> <td>    1.270</td> <td> 0.211</td> <td>   -0.014</td> <td>    0.060</td>\n",
       "</tr>\n",
       "<tr>\n",
       "  <th>State_California</th> <td>  187.8689</td> <td>    7.377</td> <td>   25.465</td> <td> 0.000</td> <td>  172.991</td> <td>  202.747</td>\n",
       "</tr>\n",
       "<tr>\n",
       "  <th>State_Florida</th>    <td>  187.0162</td> <td>    8.256</td> <td>   22.652</td> <td> 0.000</td> <td>  170.366</td> <td>  203.666</td>\n",
       "</tr>\n",
       "<tr>\n",
       "  <th>State_New York</th>   <td>  189.8076</td> <td>    7.759</td> <td>   24.463</td> <td> 0.000</td> <td>  174.160</td> <td>  205.455</td>\n",
       "</tr>\n",
       "</table>\n",
       "<table class=\"simpletable\">\n",
       "<tr>\n",
       "  <th>Omnibus:</th>       <td> 7.976</td> <th>  Durbin-Watson:     </th> <td>   1.243</td>\n",
       "</tr>\n",
       "<tr>\n",
       "  <th>Prob(Omnibus):</th> <td> 0.019</td> <th>  Jarque-Bera (JB):  </th> <td>   7.007</td>\n",
       "</tr>\n",
       "<tr>\n",
       "  <th>Skew:</th>          <td> 0.870</td> <th>  Prob(JB):          </th> <td>  0.0301</td>\n",
       "</tr>\n",
       "<tr>\n",
       "  <th>Kurtosis:</th>      <td> 3.692</td> <th>  Cond. No.          </th> <td>3.04e+03</td>\n",
       "</tr>\n",
       "</table><br/><br/>Notes:<br/>[1] Standard Errors assume that the covariance matrix of the errors is correctly specified.<br/>[2] The condition number is large, 3.04e+03. This might indicate that there are<br/>strong multicollinearity or other numerical problems."
      ],
      "text/plain": [
       "<class 'statsmodels.iolib.summary.Summary'>\n",
       "\"\"\"\n",
       "                            OLS Regression Results                            \n",
       "==============================================================================\n",
       "Dep. Variable:                 Profit   R-squared:                       0.929\n",
       "Model:                            OLS   Adj. R-squared:                  0.923\n",
       "Method:                 Least Squares   F-statistic:                     141.7\n",
       "Date:                Thu, 26 Jan 2023   Prob (F-statistic):           3.64e-24\n",
       "Time:                        16:57:31   Log-Likelihood:                -196.16\n",
       "No. Observations:                  48   AIC:                             402.3\n",
       "Df Residuals:                      43   BIC:                             411.7\n",
       "Df Model:                           4                                         \n",
       "Covariance Type:            nonrobust                                         \n",
       "====================================================================================\n",
       "                       coef    std err          t      P>|t|      [0.025      0.975]\n",
       "------------------------------------------------------------------------------------\n",
       "R&D Spend            0.5271      0.030     17.371      0.000       0.466       0.588\n",
       "Marketing Spend      0.0231      0.018      1.270      0.211      -0.014       0.060\n",
       "State_California   187.8689      7.377     25.465      0.000     172.991     202.747\n",
       "State_Florida      187.0162      8.256     22.652      0.000     170.366     203.666\n",
       "State_New York     189.8076      7.759     24.463      0.000     174.160     205.455\n",
       "==============================================================================\n",
       "Omnibus:                        7.976   Durbin-Watson:                   1.243\n",
       "Prob(Omnibus):                  0.019   Jarque-Bera (JB):                7.007\n",
       "Skew:                           0.870   Prob(JB):                       0.0301\n",
       "Kurtosis:                       3.692   Cond. No.                     3.04e+03\n",
       "==============================================================================\n",
       "\n",
       "Notes:\n",
       "[1] Standard Errors assume that the covariance matrix of the errors is correctly specified.\n",
       "[2] The condition number is large, 3.04e+03. This might indicate that there are\n",
       "strong multicollinearity or other numerical problems.\n",
       "\"\"\""
      ]
     },
     "execution_count": 97,
     "metadata": {},
     "output_type": "execute_result"
    }
   ],
   "source": [
    "model5.summary()"
   ]
  },
  {
   "cell_type": "markdown",
   "id": "20e352fc",
   "metadata": {},
   "source": [
    "### CONCLUSION\n",
    "We will use the Model (Final model Transformation) as it has the best R square value \n",
    "\n",
    "1 - p-value < 0.01\n",
    "Thus the model is accepted\n",
    "\n",
    "2 - Adj. R-sqared == 0.958\n",
    "Thus the model explains 95.8% of the variance in dependent variable"
   ]
  }
 ],
 "metadata": {
  "kernelspec": {
   "display_name": "Python 3 (ipykernel)",
   "language": "python",
   "name": "python3"
  },
  "language_info": {
   "codemirror_mode": {
    "name": "ipython",
    "version": 3
   },
   "file_extension": ".py",
   "mimetype": "text/x-python",
   "name": "python",
   "nbconvert_exporter": "python",
   "pygments_lexer": "ipython3",
   "version": "3.9.13"
  }
 },
 "nbformat": 4,
 "nbformat_minor": 5
}
